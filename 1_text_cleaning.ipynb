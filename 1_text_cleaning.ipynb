{
  "cells": [
    {
      "cell_type": "markdown",
      "metadata": {
        "id": "view-in-github",
        "colab_type": "text"
      },
      "source": [
        "<a href=\"https://colab.research.google.com/github/madhurapi/Recommender-System/blob/main/1_text_cleaning.ipynb\" target=\"_parent\"><img src=\"https://colab.research.google.com/assets/colab-badge.svg\" alt=\"Open In Colab\"/></a>"
      ]
    },
    {
      "cell_type": "code",
      "execution_count": null,
      "id": "b82a0167",
      "metadata": {
        "id": "b82a0167",
        "outputId": "d1efff21-01c5-482b-a630-8e2eb0731ffb"
      },
      "outputs": [
        {
          "name": "stdout",
          "output_type": "stream",
          "text": [
            "program  :  program\n",
            "programs  :  program\n",
            "programmer  :  programm\n",
            "programming  :  program\n",
            "programmers  :  programm\n"
          ]
        }
      ],
      "source": [
        "# import these modules\n",
        "from nltk.stem import PorterStemmer\n",
        "from nltk.tokenize import word_tokenize\n",
        " \n",
        "ps = PorterStemmer()\n",
        " \n",
        "# choose some words to be stemmed\n",
        "words = [\"program\", \"programs\", \"programmer\", \"programming\", \"programmers\"]\n",
        " \n",
        "for w in words:\n",
        "    print(w, \" : \", ps.stem(w))"
      ]
    },
    {
      "cell_type": "code",
      "execution_count": null,
      "id": "ca147f63",
      "metadata": {
        "id": "ca147f63"
      },
      "outputs": [],
      "source": [
        "# import nltk\n",
        "# nltk.download()"
      ]
    },
    {
      "cell_type": "code",
      "execution_count": null,
      "id": "a5905933",
      "metadata": {
        "id": "a5905933",
        "outputId": "29530083-d24f-4fcf-b8a2-cd6734ccc7fc"
      },
      "outputs": [
        {
          "name": "stderr",
          "output_type": "stream",
          "text": [
            "[nltk_data] Downloading package stopwords to\n",
            "[nltk_data]     C:\\Users\\madhu\\AppData\\Roaming\\nltk_data...\n",
            "[nltk_data]   Package stopwords is already up-to-date!\n"
          ]
        },
        {
          "data": {
            "text/plain": [
              "True"
            ]
          },
          "execution_count": 1,
          "metadata": {},
          "output_type": "execute_result"
        }
      ],
      "source": [
        "import nltk\n",
        "nltk.download('stopwords')"
      ]
    },
    {
      "cell_type": "code",
      "execution_count": null,
      "id": "f36365ef",
      "metadata": {
        "id": "f36365ef",
        "outputId": "c00ca5e6-d0d5-40fd-a9d0-17df74a3b985"
      },
      "outputs": [
        {
          "name": "stdout",
          "output_type": "stream",
          "text": [
            "Programmers  :  programm\n",
            "program  :  program\n",
            "with  :  with\n",
            "programming  :  program\n",
            "languages  :  languag\n"
          ]
        }
      ],
      "source": [
        "# importing modules\n",
        "import nltk\n",
        "from nltk.stem import PorterStemmer\n",
        "from nltk.tokenize import word_tokenize\n",
        " \n",
        "ps = PorterStemmer()\n",
        " \n",
        "sentence = \"Programmers program with programming languages\"\n",
        "words = word_tokenize(sentence)\n",
        " \n",
        "for w in words:\n",
        "    print(w, \" : \", ps.stem(w))"
      ]
    },
    {
      "cell_type": "markdown",
      "id": "603bcd47",
      "metadata": {
        "id": "603bcd47"
      },
      "source": [
        "# Reading Raw data"
      ]
    },
    {
      "cell_type": "code",
      "execution_count": null,
      "id": "b4cbd16b",
      "metadata": {
        "id": "b4cbd16b"
      },
      "outputs": [],
      "source": [
        "import pandas as pd\n",
        "import re\n",
        "import string\n",
        "import nltk"
      ]
    },
    {
      "cell_type": "code",
      "execution_count": null,
      "id": "b151bc70",
      "metadata": {
        "id": "b151bc70"
      },
      "outputs": [],
      "source": [
        "data = pd.read_csv('train_data_cleaning_disaster_tweets.csv')"
      ]
    },
    {
      "cell_type": "code",
      "execution_count": null,
      "id": "b82cf469",
      "metadata": {
        "id": "b82cf469",
        "outputId": "3927778b-f166-461d-eeae-5f0e1abb5008"
      },
      "outputs": [
        {
          "data": {
            "text/html": [
              "<div>\n",
              "<style scoped>\n",
              "    .dataframe tbody tr th:only-of-type {\n",
              "        vertical-align: middle;\n",
              "    }\n",
              "\n",
              "    .dataframe tbody tr th {\n",
              "        vertical-align: top;\n",
              "    }\n",
              "\n",
              "    .dataframe thead th {\n",
              "        text-align: right;\n",
              "    }\n",
              "</style>\n",
              "<table border=\"1\" class=\"dataframe\">\n",
              "  <thead>\n",
              "    <tr style=\"text-align: right;\">\n",
              "      <th></th>\n",
              "      <th>id</th>\n",
              "      <th>keyword</th>\n",
              "      <th>location</th>\n",
              "      <th>text</th>\n",
              "      <th>target</th>\n",
              "    </tr>\n",
              "  </thead>\n",
              "  <tbody>\n",
              "    <tr>\n",
              "      <th>0</th>\n",
              "      <td>1</td>\n",
              "      <td>NaN</td>\n",
              "      <td>NaN</td>\n",
              "      <td>Our Deeds are the Reason of this  # earthquake...</td>\n",
              "      <td>1</td>\n",
              "    </tr>\n",
              "    <tr>\n",
              "      <th>1</th>\n",
              "      <td>4</td>\n",
              "      <td>NaN</td>\n",
              "      <td>NaN</td>\n",
              "      <td>Forest fire near La Ronge Sask .  Canada</td>\n",
              "      <td>1</td>\n",
              "    </tr>\n",
              "    <tr>\n",
              "      <th>2</th>\n",
              "      <td>5</td>\n",
              "      <td>NaN</td>\n",
              "      <td>NaN</td>\n",
              "      <td>All residents asked to  ' shelter in place '  ...</td>\n",
              "      <td>1</td>\n",
              "    </tr>\n",
              "    <tr>\n",
              "      <th>3</th>\n",
              "      <td>6</td>\n",
              "      <td>NaN</td>\n",
              "      <td>NaN</td>\n",
              "      <td>13,000 people receive  # wildfires evacuation ...</td>\n",
              "      <td>1</td>\n",
              "    </tr>\n",
              "    <tr>\n",
              "      <th>4</th>\n",
              "      <td>7</td>\n",
              "      <td>NaN</td>\n",
              "      <td>NaN</td>\n",
              "      <td>Just got sent this photo from Ruby  # Alaska a...</td>\n",
              "      <td>1</td>\n",
              "    </tr>\n",
              "  </tbody>\n",
              "</table>\n",
              "</div>"
            ],
            "text/plain": [
              "   id keyword location                                               text  \\\n",
              "0   1     NaN      NaN  Our Deeds are the Reason of this  # earthquake...   \n",
              "1   4     NaN      NaN           Forest fire near La Ronge Sask .  Canada   \n",
              "2   5     NaN      NaN  All residents asked to  ' shelter in place '  ...   \n",
              "3   6     NaN      NaN  13,000 people receive  # wildfires evacuation ...   \n",
              "4   7     NaN      NaN  Just got sent this photo from Ruby  # Alaska a...   \n",
              "\n",
              "   target  \n",
              "0       1  \n",
              "1       1  \n",
              "2       1  \n",
              "3       1  \n",
              "4       1  "
            ]
          },
          "execution_count": 6,
          "metadata": {},
          "output_type": "execute_result"
        }
      ],
      "source": [
        "data.head()"
      ]
    },
    {
      "cell_type": "code",
      "execution_count": null,
      "id": "111028bf",
      "metadata": {
        "id": "111028bf",
        "outputId": "6c747ef9-f73d-4b03-d030-75b47e38fb33"
      },
      "outputs": [
        {
          "data": {
            "text/plain": [
              "Index(['id', 'keyword', 'location', 'text', 'target'], dtype='object')"
            ]
          },
          "execution_count": 7,
          "metadata": {},
          "output_type": "execute_result"
        }
      ],
      "source": [
        "data.columns"
      ]
    },
    {
      "cell_type": "code",
      "execution_count": null,
      "id": "544953c2",
      "metadata": {
        "id": "544953c2",
        "outputId": "f717a8cd-fbef-4655-8f02-da8f17c5ca97"
      },
      "outputs": [
        {
          "name": "stdout",
          "output_type": "stream",
          "text": [
            "<class 'pandas.core.frame.DataFrame'>\n",
            "RangeIndex: 7613 entries, 0 to 7612\n",
            "Data columns (total 5 columns):\n",
            " #   Column    Non-Null Count  Dtype \n",
            "---  ------    --------------  ----- \n",
            " 0   id        7613 non-null   int64 \n",
            " 1   keyword   7552 non-null   object\n",
            " 2   location  5080 non-null   object\n",
            " 3   text      7613 non-null   object\n",
            " 4   target    7613 non-null   int64 \n",
            "dtypes: int64(2), object(3)\n",
            "memory usage: 297.5+ KB\n"
          ]
        }
      ],
      "source": [
        "data.info()"
      ]
    },
    {
      "cell_type": "code",
      "execution_count": null,
      "id": "dc907229",
      "metadata": {
        "id": "dc907229",
        "outputId": "14d0765b-f7bb-463c-96f5-46da7ea5d324"
      },
      "outputs": [
        {
          "data": {
            "text/plain": [
              "id             0\n",
              "keyword       61\n",
              "location    2533\n",
              "text           0\n",
              "target         0\n",
              "dtype: int64"
            ]
          },
          "execution_count": 9,
          "metadata": {},
          "output_type": "execute_result"
        }
      ],
      "source": [
        "data.isnull().sum()"
      ]
    },
    {
      "cell_type": "code",
      "execution_count": null,
      "id": "425bfcbf",
      "metadata": {
        "id": "425bfcbf",
        "outputId": "bf375e1b-cb9f-46ec-ad77-36af9a24daa7"
      },
      "outputs": [
        {
          "data": {
            "text/plain": [
              "array([nan, 'ablaze', 'accident', 'aftershock', 'airplane%20accident',\n",
              "       'ambulance', 'annihilated', 'annihilation', 'apocalypse',\n",
              "       'armageddon', 'army', 'arson', 'arsonist', 'attack', 'attacked',\n",
              "       'avalanche', 'battle', 'bioterror', 'bioterrorism', 'blaze',\n",
              "       'blazing', 'bleeding', 'blew%20up', 'blight', 'blizzard', 'blood',\n",
              "       'bloody', 'blown%20up', 'body%20bag', 'body%20bagging',\n",
              "       'body%20bags', 'bomb', 'bombed', 'bombing', 'bridge%20collapse',\n",
              "       'buildings%20burning', 'buildings%20on%20fire', 'burned',\n",
              "       'burning', 'burning%20buildings', 'bush%20fires', 'casualties',\n",
              "       'casualty', 'catastrophe', 'catastrophic', 'chemical%20emergency',\n",
              "       'cliff%20fall', 'collapse', 'collapsed', 'collide', 'collided',\n",
              "       'collision', 'crash', 'crashed', 'crush', 'crushed', 'curfew',\n",
              "       'cyclone', 'damage', 'danger', 'dead', 'death', 'deaths', 'debris',\n",
              "       'deluge', 'deluged', 'demolish', 'demolished', 'demolition',\n",
              "       'derail', 'derailed', 'derailment', 'desolate', 'desolation',\n",
              "       'destroy', 'destroyed', 'destruction', 'detonate', 'detonation',\n",
              "       'devastated', 'devastation', 'disaster', 'displaced', 'drought',\n",
              "       'drown', 'drowned', 'drowning', 'dust%20storm', 'earthquake',\n",
              "       'electrocute', 'electrocuted', 'emergency', 'emergency%20plan',\n",
              "       'emergency%20services', 'engulfed', 'epicentre', 'evacuate',\n",
              "       'evacuated', 'evacuation', 'explode', 'exploded', 'explosion',\n",
              "       'eyewitness', 'famine', 'fatal', 'fatalities', 'fatality', 'fear',\n",
              "       'fire', 'fire%20truck', 'first%20responders', 'flames',\n",
              "       'flattened', 'flood', 'flooding', 'floods', 'forest%20fire',\n",
              "       'forest%20fires', 'hail', 'hailstorm', 'harm', 'hazard',\n",
              "       'hazardous', 'heat%20wave', 'hellfire', 'hijack', 'hijacker',\n",
              "       'hijacking', 'hostage', 'hostages', 'hurricane', 'injured',\n",
              "       'injuries', 'injury', 'inundated', 'inundation', 'landslide',\n",
              "       'lava', 'lightning', 'loud%20bang', 'mass%20murder',\n",
              "       'mass%20murderer', 'massacre', 'mayhem', 'meltdown', 'military',\n",
              "       'mudslide', 'natural%20disaster', 'nuclear%20disaster',\n",
              "       'nuclear%20reactor', 'obliterate', 'obliterated', 'obliteration',\n",
              "       'oil%20spill', 'outbreak', 'pandemonium', 'panic', 'panicking',\n",
              "       'police', 'quarantine', 'quarantined', 'radiation%20emergency',\n",
              "       'rainstorm', 'razed', 'refugees', 'rescue', 'rescued', 'rescuers',\n",
              "       'riot', 'rioting', 'rubble', 'ruin', 'sandstorm', 'screamed',\n",
              "       'screaming', 'screams', 'seismic', 'sinkhole', 'sinking', 'siren',\n",
              "       'sirens', 'smoke', 'snowstorm', 'storm', 'stretcher',\n",
              "       'structural%20failure', 'suicide%20bomb', 'suicide%20bomber',\n",
              "       'suicide%20bombing', 'sunk', 'survive', 'survived', 'survivors',\n",
              "       'terrorism', 'terrorist', 'threat', 'thunder', 'thunderstorm',\n",
              "       'tornado', 'tragedy', 'trapped', 'trauma', 'traumatised',\n",
              "       'trouble', 'tsunami', 'twister', 'typhoon', 'upheaval',\n",
              "       'violent%20storm', 'volcano', 'war%20zone', 'weapon', 'weapons',\n",
              "       'whirlwind', 'wild%20fires', 'wildfire', 'windstorm', 'wounded',\n",
              "       'wounds', 'wreck', 'wreckage', 'wrecked'], dtype=object)"
            ]
          },
          "execution_count": 10,
          "metadata": {},
          "output_type": "execute_result"
        }
      ],
      "source": [
        "data['keyword'].unique()"
      ]
    },
    {
      "cell_type": "code",
      "execution_count": null,
      "id": "ee5a6194",
      "metadata": {
        "id": "ee5a6194",
        "outputId": "a812e667-5fa2-474b-f5a8-1a6e65d53402"
      },
      "outputs": [
        {
          "data": {
            "text/plain": [
              "fatalities               45\n",
              "deluge                   42\n",
              "armageddon               42\n",
              "sinking                  41\n",
              "damage                   41\n",
              "                         ..\n",
              "forest%20fire            19\n",
              "epicentre                12\n",
              "threat                   11\n",
              "inundation               10\n",
              "radiation%20emergency     9\n",
              "Name: keyword, Length: 221, dtype: int64"
            ]
          },
          "execution_count": 11,
          "metadata": {},
          "output_type": "execute_result"
        }
      ],
      "source": [
        "data['keyword'].value_counts()"
      ]
    },
    {
      "cell_type": "code",
      "execution_count": null,
      "id": "a5d0bfd2",
      "metadata": {
        "id": "a5d0bfd2"
      },
      "outputs": [],
      "source": [
        "# import natural language toolkit\n",
        "# import nltk\n",
        "# nltk.download('stopwords')"
      ]
    },
    {
      "cell_type": "code",
      "execution_count": null,
      "id": "31582bbb",
      "metadata": {
        "id": "31582bbb"
      },
      "outputs": [],
      "source": [
        "stopwords = nltk.corpus.stopwords.words('english')\n",
        "ps = nltk.PorterStemmer()"
      ]
    },
    {
      "cell_type": "markdown",
      "id": "0b692ce3",
      "metadata": {
        "id": "0b692ce3"
      },
      "source": [
        "# Text Cleaning"
      ]
    },
    {
      "cell_type": "code",
      "execution_count": null,
      "id": "105b06fa",
      "metadata": {
        "id": "105b06fa"
      },
      "outputs": [],
      "source": [
        "def clean_text(txt):\n",
        "    txt = ''.join([c for c in txt if c not in string.punctuation])#removing punctuations\n",
        "    tokens = re.split('\\W+', txt)#stopwords\n",
        "    txt = [ps.stem(word) for word in tokens if word not in stopwords]# other than stopwords\n",
        "    return txt"
      ]
    },
    {
      "cell_type": "markdown",
      "id": "1dbed36a",
      "metadata": {
        "id": "1dbed36a"
      },
      "source": [
        "# Count Vectorizer"
      ]
    },
    {
      "cell_type": "code",
      "execution_count": null,
      "id": "492cb3ea",
      "metadata": {
        "id": "492cb3ea"
      },
      "outputs": [],
      "source": [
        "from sklearn.feature_extraction.text import CountVectorizer"
      ]
    },
    {
      "cell_type": "code",
      "execution_count": null,
      "id": "bd1c1471",
      "metadata": {
        "id": "bd1c1471"
      },
      "outputs": [],
      "source": [
        "cv = CountVectorizer()"
      ]
    },
    {
      "cell_type": "code",
      "execution_count": null,
      "id": "b1c6f898",
      "metadata": {
        "id": "b1c6f898",
        "outputId": "541535b4-2ae9-4bc7-b311-5acee65d1be0"
      },
      "outputs": [
        {
          "name": "stdout",
          "output_type": "stream",
          "text": [
            "CountVectorizer()\n"
          ]
        }
      ],
      "source": [
        "corpus = ['This is a sentence about text mining in Data Science',\n",
        "          'which is trending in information retrievel systems']\n",
        "\n",
        "X = cv.fit(corpus)\n",
        "print(X)"
      ]
    },
    {
      "cell_type": "code",
      "execution_count": null,
      "id": "1e597ee5",
      "metadata": {
        "id": "1e597ee5"
      },
      "outputs": [],
      "source": []
    },
    {
      "cell_type": "code",
      "execution_count": null,
      "id": "1bc32f8c",
      "metadata": {
        "id": "1bc32f8c",
        "outputId": "7394589d-d82d-46ad-f1b2-710ab3260e6d"
      },
      "outputs": [
        {
          "name": "stdout",
          "output_type": "stream",
          "text": [
            "{'this': 11, 'is': 4, 'sentence': 8, 'about': 0, 'text': 10, 'mining': 5, 'in': 2, 'data': 1, 'science': 7, 'which': 13, 'trending': 12, 'information': 3, 'retrievel': 6, 'systems': 9}\n"
          ]
        }
      ],
      "source": [
        "print(X.vocabulary_)#dictionary of words consisting the words and index number\n",
        "# no words such as 'a'"
      ]
    },
    {
      "cell_type": "code",
      "execution_count": null,
      "id": "b3030dd4",
      "metadata": {
        "id": "b3030dd4",
        "outputId": "3013765f-bd6d-4653-e5a9-83983e124f85"
      },
      "outputs": [
        {
          "name": "stdout",
          "output_type": "stream",
          "text": [
            "['about', 'data', 'in', 'information', 'is', 'mining', 'retrievel', 'science', 'sentence', 'systems', 'text', 'this', 'trending', 'which']\n"
          ]
        },
        {
          "name": "stderr",
          "output_type": "stream",
          "text": [
            "C:\\Users\\madhu\\anaconda3\\lib\\site-packages\\sklearn\\utils\\deprecation.py:87: FutureWarning: Function get_feature_names is deprecated; get_feature_names is deprecated in 1.0 and will be removed in 1.2. Please use get_feature_names_out instead.\n",
            "  warnings.warn(msg, category=FutureWarning)\n"
          ]
        }
      ],
      "source": [
        "print(cv.get_feature_names())#list of token words"
      ]
    },
    {
      "cell_type": "code",
      "execution_count": null,
      "id": "9aa1207e",
      "metadata": {
        "id": "9aa1207e",
        "outputId": "55617d63-036b-4c9c-c7b9-d00e3924ca82"
      },
      "outputs": [
        {
          "name": "stdout",
          "output_type": "stream",
          "text": [
            "  (0, 0)\t1\n",
            "  (0, 1)\t1\n",
            "  (0, 2)\t1\n",
            "  (0, 4)\t1\n",
            "  (0, 5)\t1\n",
            "  (0, 7)\t1\n",
            "  (0, 8)\t1\n",
            "  (0, 10)\t1\n",
            "  (0, 11)\t1\n",
            "  (1, 2)\t1\n",
            "  (1, 3)\t1\n",
            "  (1, 4)\t1\n",
            "  (1, 6)\t1\n",
            "  (1, 9)\t1\n",
            "  (1, 12)\t1\n",
            "  (1, 13)\t1\n"
          ]
        }
      ],
      "source": [
        "X= cv.transform(corpus)#for calculating document term matrix converting the corpus into matrix\n",
        "print(X)#positional"
      ]
    },
    {
      "cell_type": "code",
      "execution_count": null,
      "id": "20d858e6",
      "metadata": {
        "id": "20d858e6",
        "outputId": "b7f8623d-4d08-4f4b-ce36-61f2272e97b4"
      },
      "outputs": [
        {
          "name": "stdout",
          "output_type": "stream",
          "text": [
            "(2, 14)\n"
          ]
        }
      ],
      "source": [
        "print(X.shape)# 1 single sentence hence 1 row, 14 unique token words corresponds to columns"
      ]
    },
    {
      "cell_type": "code",
      "execution_count": null,
      "id": "16316615",
      "metadata": {
        "id": "16316615",
        "outputId": "50c4ca09-54da-4460-d9d5-15c8d0b3132e"
      },
      "outputs": [
        {
          "name": "stdout",
          "output_type": "stream",
          "text": [
            "[[1 1 1 0 1 1 0 1 1 0 1 1 0 0]\n",
            " [0 0 1 1 1 0 1 0 0 1 0 0 1 1]]\n"
          ]
        }
      ],
      "source": [
        "print(X.toarray())"
      ]
    },
    {
      "cell_type": "code",
      "execution_count": null,
      "id": "358ab300",
      "metadata": {
        "id": "358ab300",
        "outputId": "f7915f16-75bc-4aaf-b49e-ab3841dfe186"
      },
      "outputs": [
        {
          "name": "stdout",
          "output_type": "stream",
          "text": [
            "   about  data  in  information  is  mining  retrievel  science  sentence  \\\n",
            "0      1     1   1            0   1       1          0        1         1   \n",
            "1      0     0   1            1   1       0          1        0         0   \n",
            "\n",
            "   systems  text  this  trending  which  \n",
            "0        0     1     1         0      0  \n",
            "1        1     0     0         1      1  \n"
          ]
        }
      ],
      "source": [
        "df = pd.DataFrame(X.toarray(), columns = cv.get_feature_names())\n",
        "print(df)"
      ]
    },
    {
      "cell_type": "markdown",
      "id": "ffd0d9e1",
      "metadata": {
        "id": "ffd0d9e1"
      },
      "source": [
        "# Count vectorizer on dataset"
      ]
    },
    {
      "cell_type": "code",
      "execution_count": null,
      "id": "7e61073d",
      "metadata": {
        "id": "7e61073d",
        "outputId": "136395d3-5440-43ec-c1ce-84f697593662"
      },
      "outputs": [
        {
          "name": "stdout",
          "output_type": "stream",
          "text": [
            "(7613, 13864)\n"
          ]
        }
      ],
      "source": [
        "cv1 = CountVectorizer(analyzer = clean_text)\n",
        "\n",
        "X1 = cv1.fit_transform(data['text'])\n",
        "print(X1.shape)"
      ]
    },
    {
      "cell_type": "code",
      "execution_count": null,
      "id": "61046f50",
      "metadata": {
        "id": "61046f50"
      },
      "outputs": [],
      "source": [
        "from sklearn.metrics.pairwise import cosine_similarity\n",
        "similarity1 = cosine_similarity(X1)"
      ]
    },
    {
      "cell_type": "code",
      "execution_count": null,
      "id": "b2f64133",
      "metadata": {
        "id": "b2f64133",
        "outputId": "7fc88fe2-485d-45da-e8c7-dea596474bcf"
      },
      "outputs": [
        {
          "data": {
            "text/plain": [
              "array([[1.        , 0.        , 0.        , ..., 0.        , 0.        ,\n",
              "        0.        ],\n",
              "       [0.        , 1.        , 0.        , ..., 0.        , 0.        ,\n",
              "        0.        ],\n",
              "       [0.        , 0.        , 1.        , ..., 0.        , 0.        ,\n",
              "        0.        ],\n",
              "       ...,\n",
              "       [0.        , 0.        , 0.        , ..., 1.        , 0.06741999,\n",
              "        0.09534626],\n",
              "       [0.        , 0.        , 0.        , ..., 0.06741999, 1.        ,\n",
              "        0.06428243],\n",
              "       [0.        , 0.        , 0.        , ..., 0.09534626, 0.06428243,\n",
              "        1.        ]])"
            ]
          },
          "execution_count": 41,
          "metadata": {},
          "output_type": "execute_result"
        }
      ],
      "source": [
        "similarity1"
      ]
    },
    {
      "cell_type": "code",
      "execution_count": null,
      "id": "98928a05",
      "metadata": {
        "id": "98928a05",
        "outputId": "2f7e7ea2-b2df-48ac-d66d-38d69bf6f117"
      },
      "outputs": [
        {
          "name": "stdout",
          "output_type": "stream",
          "text": [
            "['', '0', '00', '000', '0000', '00end', '00pm', '01', '02', '0215', '03', '030', '033', '034', '039', '04', '05', '05th', '06', '060', '061', '06jst', '07', '08', '0840728', '0853', '087809233445', '0880', '09', '0l', '0npzp', '1', '10', '100', '1000', '10000', '100000', '1008pla', '1008planet', '100bn', '100mb', '100nd', '101', '1017', '1023', '1028', '103', '105', '106', '1061thetwist', '107', '109', '10am', '10k', '10km', '10m', '10new', '10pm', '10th', '10w', '10x', '11', '11000', '11000000', '111020', '114', '1141', '1145', '115', '115film', '119000', '11am', '11th', '12', '1200', '12000', '120000', '1200000', '1236', '124', '125', '129', '12am', '12hr', '12jst', '12m', '12mm', '12new', '12pm', '12th', '12u', '12v', '13', '130', '13000', '133', '138', '139055', '13pm', '14', '140', '14000', '14028', '141', '143', '148', '149', '14th', '15', '150', '1500', '15000270364', '15000270653', '158', '159', '15901', '15km', '15moferadio', '15p', '15pm', '15t', '15th', '16', '160', '1600', '1620', '163', '165000', '16550', '166', '1665', '17', '1700', '17000', '171', '1716', '1717', '172', '178', '179', '17month', '17th', '18', '180', '1800', '184', '1843', '1862', '1880', '1890', '1895', '18jst', '18th', '18w', '19', '1916', '1921', '1928', '1935', '1940', '1942', '1943', '1945', '1950', '1952', '1960', '1965', '1967', '1970', '1974', '1976', '1979', '198', '1980', '1984', '1986', '1994', '1998', '1999', '19th', '19yr', '1a', '1acd4900c1424d1', '1d', '1km', '1m', '1pack', '1rockstar62', '1st', '1x1', '2', '20', '200', '2000', '200000', '20000k', '2001', '2002', '2003', '2005', '2006', '2007', '2007he', '2008', '2009', '2010', '2011', '2012', '2013', '2014', '2015', '20150613', '2016', '2017', '20177', '2019', '202', '2025', '2030', '203rd', '2065', '208', '20k', '20min', '20skyhawkmm20', '20yr', '21', '210', '213', '214904', '21k', '21st', '22', '22day', '22pm', '23', '231a', '2327564d', '233liveonlin', '238', '239', '23928835', '23km', '23rd', '24', '241487', '24v', '25', '250', '2500', '250000', '2500fp', '250k', '26', '260th', '263789f4', '263chat', '265v', '267', '27', '2781', '279', '27w', '28', '28700', '28pm', '29', '290', '293', '295ss', '29pm', '2a', '2am', '2b', '2d', '2day', '2fast2furi', '2for1lapd', '2hour', '2k13', '2k15', '2leezi', '2minutemix', '2nd', '2pack', '2pc', '2pm', '2slow2report', '3', '30', '300', '300000', '300k', '300m', '300w', '301dc', '309943', '30a', '30bst', '30m', '30min', '30p', '30pc', '30pm', '30stm', '30th', '31', '311', '319', '31pm', '32', '320', '325', '325ci', '33', '33333', '33pm', '34', '3460', '35', '350', '358', '36', '360', '360wisenew', '361', '3612', '365disast', '367', '37', '370', '375', '37592', '37b', '38', '38745', '39', '390', '3934', '3939', '3941', '3942', '3945', '3967', '3a', '3am', '3d', '3dc', '3g', '3km', '3la', '3m', '3novic', '3p', '3pack', '3rd', '3x', '3x5', '4', '40', '4000', '400000800000', '400dr', '400t', '401k', '405', '40hourfamin', '40mln', '40w', '41', '410', '4103', '415', '419', '420', '429cj', '43', '43rd', '44', '45', '450', '4500', '452', '45600', '459', '45m', '45pm', '46', '4608ìñ2474', '4678', '47km', '48', '49', '495', '4am', '4got', '4head', '4k', '4km', '4ku', '4pm', '4regionnear', '4sake', '4th', '4the', '4tile', '4tpfa', '4tpkotc', '4wd', '4x4', '4yygb', '5', '50', '500', '5000', '500th', '501', '5040', '509', '50ft', '50shadezofgrey', '51', '513', '516', '52', '528', '52k', '53', '530', '54', '540', '54000', '544', '547', '55', '550', '55436', '56', '57', '573', '58', '582', '58hif', '5c', '5hvzlaradio', '5km', '5l', '5pm', '5s', '5so', '5sosfam', '5sosfamupdat', '5th', '6', '60', '600', '60000', '60km', '60m', '60mph', '61', '615', '616', '61st', '62', '627', '629', '63rd', '64', '64oz', '65', '65000', '66', '660', '6615434', '662', '666', '666canberra', '67', '670thescor', '6773', '68', '688', '69', '6aug', '6bn', '6c', '6l', '6m', '6pm', '6th', '7', '70', '7000', '70000', '707d', '70th', '70year', '712c', '71st', '72', '72w', '731', '737', '73km', '73rd', '74', '740', '75', '75000', '751', '752', '75k', '77', '777', '78', '79', '7a', '7aal', '7amdollela', '7k', '7newsadl', '7p', '8', '80', '800', '8000', '800000', '8015', '80m', '82', '8217', '82ndabndiv', '83', '8392', '8400', '8437150124', '8550013', '85885473', '8591', '85v', '87', '877', '88', '8960', '89x', '8km', '8m', '8th', '8wht', '9', '90', '9000', '900037', '90225', '905', '90blk', '90th', '91', '911', '911bomb', '917', '91å', '92', '924', '925', '928', '93', '94', '945hpa', '95', '950', '957thegam', '95root', '96', '96355', '966', '96km', '97', '98', '99', '994', '9973', '999', '999day', '9am', '9km', '9newsbrisban', '9newsmorn', '9pm', '9tarbox', 'a', 'a1', 'a10', 'a1a', 'a2', 'a3', 'a40', 'a5', 'a7', 'aa', 'aaaa', 'aaaaaaallll', 'aaaaaand', 'aaarrrgghhh', 'aaceorg', 'aan', 'aannnnd', 'aar', 'aaronthefm', 'aashiqui', 'ab', 'aba', 'abandon', 'abandonedp', 'abb', 'abbandon', 'abbott', 'abbruchsimul', 'abbyairshow', 'abc', 'abc3340', 'abc7', 'abc7eyewit', 'abcnew', 'abcnews24', 'abcnorio', 'abe', 'aberdeen', 'aberdeenfanpag', 'aberdeenfc', 'aberystwyth', 'abha', 'abia', 'abil', 'abject', 'abl', 'ablaz', 'ableg', 'abninfvet', 'aboard', 'abomb', 'abomin', 'abort', 'about', 'abq', 'abrancaballero', 'absenc', 'absolut', 'absolutsumya15', 'abstorm', 'abstract', 'absurd', 'absurdli', 'abubaraa1', 'abus', 'abysmaljoin', 'ac', 'acaciapenn', 'academi', 'academia', 'acarewornheart', 'acc', 'accept', 'access', 'accid', 'accident', 'accidentalpropheci', 'accionempresa', 'accompani', 'accord', 'accordingli', 'account', 'accuraci', 'accus', 'accustom', 'acdelco', 'ace', 'acebab', 'acebreakingnew', 'acenewsdesk', 'acess', 'ach', 'achedin', 'achiev', 'achimota', 'acid', 'acmilan', 'acn', 'acoust', 'acousticmaloley', 'acquiesc', 'acquir', 'acquisit', 'acr', 'acronym', 'across', 'acryl', 'act', 'actavi', 'actin', 'action', 'actionmoviestaughtu', 'activ', 'activis', 'activist', 'actor', 'actress', 'actual', 'acura', 'acut', 'ad', 'adam', 'adamantli', 'adamniblo', 'adamrubinespn', 'adamtuss', 'adani', 'adann', 'adapt', 'add', 'addict', 'addit', 'address', 'addtexastonext1dtour', 'adelaid', 'adhd', 'adida', 'adiossuperbacteria', 'adjust', 'adler', 'admin', 'administr', 'admit', 'adndotcom', 'adopt', 'ador', 'adorableapppl', 'adrianpeel', 'adriasimon', 'adriennetomah', 'adult', 'adultblackmal', 'adumbbb', 'advanc', 'advantag', 'adventur', 'advers', 'advertis', 'advic', 'advis', 'advisori', 'advoc', 'adweek', 'aeg', 'aelinrhe', 'aeroplan', 'aerospac', 'aesop', 'aesthet', 'af', 'afc', 'affair', 'affect', 'affili', 'affleck', 'afflict', 'afghan', 'afghanistan', 'afghetc', 'afk10', 'afloat', 'afp', 'afraid', 'africa', 'african', 'africanbaz', 'africansinsf', 'afrikaan', 'afrin', 'aft', 'after', 'afterhaiyan', 'afterlif', 'aftermath', 'afternoon', 'aftershock', 'aftershockdelo', 'aftershockorg', 'afterward', 'afycso', 'ag', 'again', 'against', 'agalloch', 'agdq', 'age', 'ageekyfangirl14', 'agenc', 'agent', 'aggarw', 'aggress', 'aggressif', 'agnivesh', 'agnu', 'ago', 'agoni', 'agre', 'agreement', 'aguero', 'agusa', 'agw', 'ah', 'ahahahga', 'ahamedi', 'ahead', 'ahh', 'ahhhh', 'ahhhhh', 'ahhtheenikki', 'ahrar', 'ahrari', 'ai', 'aia', 'aid', 'aidad', 'aidan', 'aiginsur', 'aiiamericangiri', 'aiii', 'aim', 'aimlessli', 'aintsheperti', 'air', 'air1bullet', 'airasia', 'aircraft', 'airhead', 'airhorn', 'airlift', 'airlin', 'airplan', 'airport', 'airstrik', 'airwav', 'aisl', 'aisumag', 'aitchkayce', 'ajabrown', 'ajw', 'ak', 'aka', 'akam', 'akarb74', 'akcsl', 'akgovbillwalk', 'akilah', 'akito', 'akram', 'akumareisu', 'akwa', 'akx', 'akxbskdn', 'al', 'ala', 'alabama', 'alabamaquak', 'aladdin', 'alameda', 'alamodc', 'alanhahn', 'alarm', 'alarmingli', 'alaska', 'alaskan', 'alaskaseafood', 'alba', 'albani', 'albeit', 'alberta', 'albertan', 'albertson', 'album', 'alchemist', 'alcohol', 'alcoholandmet', 'aldridg', 'alec', 'aleisstok', 'alekalicant', 'alert', 'alex', 'alexalltimelow', 'alexandrapullin', 'alexandrian', 'alexeivolkov1', 'alexhammerston', 'alexi', 'alexissanchez', 'alexjacobsonpf', 'alexshipppp', 'alextuck', 'alfapedia', 'alga', 'algeria', 'alhaji', 'alhanda', 'ali', 'alic', 'alien', 'alifaditha', 'align', 'alil', 'alipap', 'alisonannyoung', 'aliv', 'aliveafter5', 'all', 'allah', 'allahsfinest12', 'allay', 'alldaycumshot', 'alleg', 'allegedli', 'allegi', 'allenenbot', 'allerg', 'alley', 'alli', 'allianc', 'allinwithchri', 'alllll', 'alloc', 'alloosh', 'allot', 'allow', 'alloy', 'allthekidneybeansandsorbet4misha', 'allthenew', 'allyinwondrland', 'almighti', 'almost', 'almusafirah', 'aloi', 'alon', 'along', 'alot', 'alp', 'alpha', 'alphen', 'alrasyid448iturasya', 'alreadi', 'alright', 'alrighti', 'alska', 'also', 'alsowhat', 'alt', 'altamont', 'altern', 'although', 'alton', 'aluminum', 'alv', 'alvinnelson07', 'alway', 'alwsl', 'am', 'ama', 'amali', 'amaramin3', 'amateur', 'amateurnest', 'amaz', 'amazin', 'amazing', 'amazon', 'amber', 'ambit', 'amblesid', 'ambul', 'amcx', 'ame', 'ameen', 'amen', 'amend', 'ameribag', 'america', 'american', 'americanlegion', 'amesocialact', 'amico', 'amicospizzato', 'amid', 'amiddl', 'amiibo', 'aminakh', 'aminespn', 'amino', 'amirit', 'amirkingkhan', 'amman', 'amo', 'among', 'amongst', 'amp', 'amplifi', 'amread', 'amritsar', 'amsal', 'amssumm', 'amsterdam', 'amumumux', 'amznfavorit', 'an', 'an247', 'ana', 'anakin', 'analog', 'analysi', 'anarchi', 'anarchicteapot', 'anathemazhiv', 'anatomi', 'anchor', 'anchorag', 'ancient', 'ancop', 'and', 'andchina', 'ander', 'anderson', 'andi', 'andr', 'andrea', 'andreessen', 'andrew', 'android', 'androidgam', 'andygild', 'anellatulip', 'anew', 'angel', 'angela', 'angelheartnight', 'angelina', 'angelriveralib', 'angelstar39', 'anger', 'angharadjames16', 'angioplasti', 'angri', 'angusmacneilsnp', 'anhqdc', 'ani', 'anim', 'animaladvoc', 'animallog', 'animatron', 'aniston', 'anjem', 'ankl', 'anna', 'annaciclismo', 'annajhm', 'annddd', 'annealiz1', 'annihil', 'anniversari', 'annmarieronan', 'annonym', 'annouc', 'announc', 'annoy', 'annual', 'anonchimp', 'anonym', 'anoth', 'answer', 'ant', 'anthelmint', 'antholog', 'anthoni', 'anthrax', 'anthxvi', 'anti', 'antichrist', 'antioch', 'antiochhickoryhollow', 'antiochu', 'antipozi', 'antoni', 'antonio', 'antpips67', 'anu', 'anxieti', 'anxietyproblem', 'anxiou', 'any1', 'anybodi', 'anymor', 'anyon', 'anyth', 'anytim', 'anyway', 'anywher', 'anza', 'aogashima', 'aom', 'ap', 'apano55', 'apart', 'apaz', 'apc', 'apch', 'apcpdp', 'apd', 'apga', 'aphiabeta1907', 'aphl', 'aphyr', 'apiec', 'apocalpyt', 'apocalyps', 'apocalypt', 'apollo', 'apolog', 'apologis', 'app', 'appal', 'appar', 'appeal', 'appear', 'appeas', 'appercept', 'appetit', 'appi', 'appl', 'applaud', 'appleofficl', 'appli', 'applic', 'appoint', 'apprais', 'appreci', 'appreciativeinquiri', 'approach', 'appropri', 'approv', 'appx', 'apr', 'april', 'apropo', 'apt', 'aptlyengineerd', 'aq', 'aqua', 'aquariu', 'aquarium', 'ar', 'ara', 'arab', 'arabia', 'arabian', 'arachi', 'arcad', 'arceen', 'archetyp', 'archipelagowolv', 'architect', 'architectur', 'are', 'area', 'areal', 'arena', 'arent', 'areva', 'arfur', 'argent', 'argentaelit', 'argentina', 'argentinean', 'argh', 'argsuppos', 'argu', 'argument', 'argus99', 'ari', 'aria', 'ariabrisard', 'arian', 'ariana', 'arianareed11', 'arin', 'ariz', 'arizona', 'arizonadot', 'arizzo44', 'arkan', 'arkansa', 'arlington', 'arm', 'armageddon', 'armenian', 'armi', 'armori', 'arnhem', 'arnley', 'arobotlegion', 'around', 'arovolturi3000', 'arrang', 'arreat', 'arrest', 'arrestpastornganga', 'arriv', 'arrog', 'ars', 'arsen', 'arson', 'arsonist', 'arsonistmus', 'art', 'artbrut', 'artectura', 'arti', 'artic', 'articl', 'artifici', 'artilleri', 'artist', 'artisteoftheweekfact', 'artwork', 'arvindkejriw', 'as', 'as10004', 'asae15', 'asap', 'asb', 'asburi', 'asburyparkpress', 'ascend', 'aseer', 'asf', 'ash', 'ashayo', 'ashberxo', 'ashdod', 'ashenforest', 'ashes2015', 'ashes2ash', 'ashestoash', 'ashghebrani', 'ashj', 'ashley', 'ashrafiyah', 'ashton5so', 'ashvil', 'asia', 'asian', 'asianshawtyy', 'asic', 'asid', 'asimtanvir', 'ask', 'askconnor', 'askforalaska', 'askh3cz', 'askin', 'asleep', 'aspect', 'asphalt', 'aspir', 'ass', 'assad', 'assail', 'assassin', 'assassinkpg', 'assault', 'assembl', 'assert', 'assess', 'asset', 'asshol', 'assist', 'assnchat', 'associ', 'assum', 'assur', 'asswip', 'asterpuppet', 'astonish', 'astound', 'astrakhan', 'astro', 'astrolog', 'astrologian', 'astroturf', 'asukag', 'asylum', 'asymbina', 'at', 'atamathon', 'atc', 'atcha', 'atchisonsean', 'atcinema', 'ate', 'atgrannyshous', 'atheistic1', 'athen', 'athlet', 'atk', 'atl', 'atla', 'atlant', 'atlanta', 'atlarnxx', 'atlbizchron', 'atleast', 'atlev', 'atljw', 'atm', 'atmospher', 'atom', 'atombomb', 'atomicbomb', 'att', 'attach', 'attack', 'attackonstil', 'attain', 'attempt', 'attend', 'attende', 'attent', 'attic', 'attila', 'attitud', 'attjcdemo', 'attract', 'atv', 'au', 'aubilenon', 'aubrey', 'auburn', 'auc', 'auckland', 'auction', 'audaciousspunk', 'audacityjamesta', 'audi', 'audienc', 'audio', 'audit', 'audreyp77', 'aug', 'august', 'aul', 'aunt', 'auntiedot', 'aurora', 'ausinstarchitect', 'auspol', 'aussi', 'aust', 'austin', 'austinpearcy22', 'australia', 'australian', 'austrian', 'auth', 'authent', 'author', 'authormik', 'autism', 'autismawar', 'autist', 'auto', 'autoam', 'autobiographi', 'autoinsur', 'autom', 'automat', 'autumn', 'auz', 'av', 'ava', 'avail', 'avalanch', 'avbronstein', 'ave', 'aveng', 'avenu', 'averag', 'avert', 'avi', 'aviat', 'aviationaddict', 'avigdorliberman', 'avoid', 'avysss', 'aw', 'awadgolf', 'await', 'awak', 'awaken', 'awar', 'award', 'awash', 'away', 'awesom', 'awesomeeeeeee', 'awesomelov', 'awesomesauc', 'awickedassassin', 'awkward', 'awn', 'awol', 'awwww', 'ay', 'ayekoradio', 'ayhhhhhdjjfjrjjrdjjek', 'ayhoka', 'ayshuntornado', 'ayyo', 'ayyy', 'az', 'azimel', 'azusa', 'b', 'b1g', 'b1grego', 'b2', 'b24fowler', 'b2b', 'b2bagenc', 'b4', 'b4feder', 'ba', 'baaaack', 'baan', 'babal', 'babalaugh', 'babe', 'babi', 'babri', 'babybackreev', 'babysweet420', 'bachman', 'bachmann', 'back', 'background', 'backlash', 'backpack', 'backroom', 'backti', 'backtoback', 'backup', 'backyard', 'bacteria', 'bad', 'badass', 'badastronom', 'badchoic', 'badg', 'badiran', 'badkitti', 'badli', 'badotweet', 'badr58', 'badu', 'bae', 'baekhyun', 'baffl', 'bag', 'baggag', 'bago', 'bah', 'bahrain', 'bail', 'baileysmsteach', 'bailout', 'bairstow', 'bait', 'bajrangi', 'bak', 'bake', 'bal', 'balanc', 'balconi', 'bald', 'bali', 'ball', 'ballew', 'baltimor', 'bama', 'bamenda', 'ban', 'banana', 'banco', 'band', 'banditregina', 'bandoli', 'banerje', 'bang', 'bangalor', 'bangin', 'bangladesh', 'bangladeshaffect', 'bangladeshflood', 'bangmeupguk', 'bangtan', 'bank', 'banki', 'banksi', 'bankstown', 'bannist', 'bannuk', 'banquet', 'banthebomb', 'bantrophyhunt', 'baptist', 'bapusuratsingh', 'bar', 'barack', 'barackobama', 'barak', 'barbado', 'barbar', 'barber', 'barbitwin', 'barcelona', 'barcouski', 'bard', 'bardissimo', 'bardo', 'bare', 'barfield', 'bargain', 'bark', 'barkevi', 'barn', 'barra', 'barrack', 'barri', 'barrier', 'barrington', 'bartend', 'barthubbuch', 'baruch', 'basalt', 'base', 'basebal', 'baseballquotes1', 'basedgeorgi', 'basedlarock', 'baseman', 'basement', 'bash', 'basi', 'basic', 'basildudin', 'bask', 'basket', 'baskgod', 'bass', 'bastard', 'bat', 'batfanuk', 'bath', 'bathroom', 'batista', 'batter', 'batteri', 'battl', 'battledom', 'battlefield', 'battlerapchri', 'battleroyalemod', 'battleship', 'bay', 'bayarea', 'bayelsa', 'bayelsast', 'bayonet', 'bb', 'bb17', 'bb4sp', 'bbc', 'bbc5live', 'bbcengland', 'bbcintroduc', 'bbclaurak', 'bbcmtd', 'bbcnew', 'bbctalkback', 'bbctm', 'bbcwomanshour', 'bblogger', 'bbm', 'bbshelli', 'bbsnew', 'bc', 'bc19', 'bcfcticketladi', 'bck', 'bcpoli', 'bcuz', 'bcz', 'bd', 'bday', 'bdisgust', 'be', 'be4', 'beach', 'beacon', 'beam', 'bean', 'bear', 'beard', 'bearer', 'beast', 'beastin', 'beastli', 'beat', 'beatdown', 'beaten', 'beatz', 'beaumont', 'beauscoven', 'beauti', 'beautifuljuic1', 'beaverton', 'bebacksoon', 'becam', 'becarefulharri', 'becaus', 'beccacaitlyn99', 'beck', 'beckon', 'beckyfeigin', 'becom', 'beconfid', 'becym', 'bed', 'bedroom', 'bee', 'beef', 'beelievedc', 'been', 'beenghost', 'beep', 'beer', 'beet', 'beetroot', 'beezersun', 'befor', 'beforeitsnew', 'beg', 'began', 'begforcum', 'begin', 'beginn', 'begun', 'behalf', 'behavior', 'behaviour', 'behead', 'behind', 'behindashield', 'behold', 'beig', 'beinart', 'beisbol', 'beit', 'bekahw', 'bel', 'beli', 'belief', 'believ', 'bell', 'bella', 'bellalinn', 'bellerin', 'belli', 'belliger', 'belloli', 'beloeil', 'belong', 'belt', 'belter', 'beluga', 'ben', 'benaffleck', 'bend', 'bene', 'beneath', 'benedict', 'benefit', 'benew', 'bengal', 'bengali', 'bengston', 'benignovito', 'benitez', 'benjamin', 'benjbeckwith', 'benjidevo', 'benjm1', 'benkin97', 'bennycapricon', 'benoth', 'benson', 'benstraci', 'bentley', 'bentossel', 'benzema', 'berahino', 'beram0', 'berlatski', 'berlin', 'bernard', 'bernardino', 'berri', 'berroa', 'besaf', 'besid', 'besieg', 'best', 'bestcomedyvin', 'bestfriend', 'besti', 'bestia', 'bestiv', 'bestnaijamad', 'bestsel', 'besttalkradio', 'bet', 'beth', 'bethanymota', 'bethlehem', 'betray', 'better', 'bettyfreedom', 'between', 'betz', 'bewar', 'beyonc', 'beyond', 'beyondgp', 'beyondthebomb', 'bf', 'bff', 'bfore', 'bg', 'bhaijaan', 'bhavana', 'bhp', 'bhramabul', 'bhusa', 'bi', 'bia', 'bibl', 'biblestudi', 'biblic', 'bicentenni', 'bicep', 'bickleton', 'bicycl', 'bicyclist', 'bid', 'bieber', 'big', 'bigamist', 'bigbroth', 'bigburgerboi55', 'bigconsequ', 'biggangvh1', 'biggar', 'bigger', 'biggest', 'biggi', 'bigperm28', 'bigrigradio', 'bigsbi', 'bigsim50', 'bigstar', 'bike', 'biker', 'bilic', 'bilingu', 'bill', 'billboard', 'biller', 'billgat', 'billharristv', 'billi', 'billion', 'billionair', 'billiton', 'billmccab', 'billroos', 'billyhodg', 'bilsen', 'bilsko', 'bin', 'bind', 'binellithresa', 'bing', 'binladen', 'bio', 'biolab', 'biolog', 'biosurveil', 'bioter', 'bioterror', 'bioterrorismi', 'birb', 'bird', 'birmingham', 'birth', 'birthday', 'biryani', 'bishop', 'bistro', 'bit', 'bitch', 'bitchl0vecannon', 'bitco', 'bitcoin', 'bite', 'bitten', 'bitter', 'bivideo', 'biz', 'biztip', 'bizzlemahomi', 'bjnutt', 'bjp', 'bjpsamvad', 'bk', 'bkb066gp', 'bkn025', 'bkn032', 'blaaaaaaa', 'black', 'blackberri', 'blackburn', 'blackcat', 'blacken', 'blackinamerica', 'blackliv', 'blackmail', 'blackpool', 'blah', 'blair', 'blairmcdougal', 'blais', 'blake', 'blakeschmidt', 'blakeshelton', 'blame', 'bland', 'blank', 'blanket', 'blanksocietyx', 'blanktgt', 'blast', 'blaze', 'blazer', 'blazerfan', 'blazingben', 'blazingelwood', 'bldrcosheriff', 'bleacher', 'bleed', 'blend', 'bless', 'blevin', 'blew', 'blight', 'blind', 'blink', 'blinker', 'bliss', 'blitz', 'blizzard', 'blizzardc', 'blizzarddraco', 'blizzardfan', 'blizzardgamin', 'blk', 'block', 'blockag', 'blockchain', 'blog', 'blogger', 'bloke', 'blond', 'blood', 'bloodbathtv', 'bloodbound', 'bloodi', 'bloodymonday', 'bloom', 'bloomberg', 'bloopandablast', 'bloor', 'blossom', 'blossominglilac', 'blow', 'blower', 'blowin', 'blowjob', 'blowltan', 'blowmandyup', 'blown', 'blowout', 'blubber', 'blue', 'bluebel', 'bluebirddenv', 'bluedio', 'bluehand', 'bluejay', 'blueprint', 'bluetooth', 'bluewestlo', 'bluff', 'blunt', 'bluntedjayt', 'blutz10', 'blvd', 'bmurph1019', 'bmw', 'bmx', 'bn', 'bo', 'bo3', 'board', 'boast', 'boat', 'bob', 'bobbl', 'bobbyofhomewood', 'bobbyxfish', 'bobcat', 'bod', 'bodi', 'boe', 'boi', 'boironusa', 'bois', 'boko', 'bokoharam', 'bokuto', 'bolasi', 'bolshevik', 'bolster', 'bolt', 'boltcyclon', 'bomairing', 'bomb', 'bomber', 'bomd', 'bon', 'bona', 'bone', 'bong', 'bonhomme37', 'bonn1egr', 'bonni', 'bonnieg434', 'bonsai', 'bonu', 'boob', 'book', 'bookmobil', 'bookofdaniel', 'booksbyrog', 'bookslast', 'booktubeathon', 'boom', 'boomerangtim', 'boon', 'booradleyvancullen', 'boost', 'boot', 'booth', 'booti', 'booz', 'bordento', 'border', 'borderland', 'borderlands2', 'bore', 'borgeou', 'born', 'bornverifi', 'borrow', 'bosphor', 'boss', 'boston', 'bot', 'both', 'bother', 'bottl', 'bottom', 'bought', 'boulder', 'bounc', 'bound', 'boundari', 'bounti', 'bout', 'bouta', 'boutta', 'bovin', 'bow', 'boweri', 'bowhunt', 'bowknot', 'bowl', 'box', 'boxer', 'boxset', 'boy', 'boycottbear', 'boyd', 'boyfriend', 'boyhau', 'boyinahorsemask', 'boylesport', 'bp', 'br', 'brace', 'bracelet', 'bracket', 'brad', 'bradford', 'bradi', 'bradley', 'brahman', 'brain', 'brainless', 'brake', 'branch', 'brand', 'brandonmulcahi', 'brandonskei', 'brant', 'brass', 'brasswork', 'brave', 'braveri', 'brazil', 'brazilian', 'brb', 'brbr', 'breach', 'breachgamingorg', 'bread', 'break', 'breakdanc', 'breakdown', 'breakfast', 'breakfaston', 'breaking144', 'breaking411', 'breakingnew', 'breakingnewslh', 'breakth', 'breast', 'breath', 'bred', 'breed', 'breeder', 'breemar', 'breitbartnew', 'breivik', 'bremorrow', 'brena', 'brentobento', 'brew', 'brewer', 'brian', 'brianboru67', 'briannafrost', 'brianroemmel', 'bric', 'brick', 'bridal', 'bride', 'bridg', 'bridgeport', 'bridgeportspe', 'bridgetown', 'bridgework', 'brief', 'briefcas', 'brig', 'brigad', 'bright', 'brighten', 'brightli', 'brighton', 'briliantli', 'brilliant', 'brinco', 'bring', 'brinx', 'brisban', 'brisk', 'bristol', 'brit', 'britain', 'british', 'britishbakeoff', 'britney', 'briton', 'brittanypetko', 'brittsand9', 'brixton', 'bro', 'broad', 'broadcast', 'broader', 'broadli', 'broadway', 'brobread', 'brochur', 'brock', 'brockton', 'brodyfriel', 'broke', 'broken', 'brokenscnec', 'bromleyth', 'bronvil', 'bronwynbishop', 'bronx', 'brook', 'brookesddl', 'brooklyn', 'brooktekl', 'brooo', 'broseidonrex', 'brother', 'brought', 'brown', 'browner', 'browni', 'brows', 'browser', 'browserhijack', 'brrookkllyynnr', 'brucewilli', 'bruh', 'bruis', 'brunett', 'brunt', 'brush', 'brut', 'brutal', 'bruv', 'bryansing', 'bryant', 'brzjc', 'bs', 'bsf', 'bsg', 'bt', 'btw', 'btwn', 'bu', 'bubbl', 'bubblycuteon', 'buc', 'buchana', 'bucharest', 'buck', 'buckl', 'buckley', 'bud', 'buddha', 'buddi', 'buddz', 'budget', 'buff', 'buffalo', 'buffer', 'buffet', 'buffett', 'buffoonmik', 'bug', 'build', 'builder', 'buildingsw', 'buildup', 'built', 'bukidnon', 'bulgarian', 'bull', 'bullet', 'bulletin', 'bulletproof', 'bulli', 'bullpen', 'bullsey', 'bullshit', 'bummer', 'bump', 'bumper', 'bumpin', 'bunch', 'bundi', 'bundl', 'bungi', 'bunt', 'burberry', 'buren', 'burford', 'burger', 'burglar', 'burglari', 'buri', 'burma', 'burn', 'burnabi', 'burner', 'burnfat', 'burnt', 'burok', 'burp', 'burst', 'burton', 'burundi', 'buscemi', 'buse', 'busey', 'bush', 'bushman', 'busi', 'busin', 'businessman', 'businessmen', 'bust', 'busti', 'but', 'butch', 'bute', 'butgod', 'buthidaung', 'butiqob', 'butt', 'butter', 'butterfing', 'butterlondon', 'button', 'buy', 'buyout', 'buzzfe', 'bv', 'bwin', 'bwp', 'by', 'bye', 'byebyesoundcloud', 'byityf', 'bypass', 'byproduct', 'byr', 'bytorrecilla', 'byuwnbeki', 'c', 'c4', 'c7', 'c720', 'ca', 'caaaaaall', 'cab', 'cabbag', 'cabello', 'cabin', 'cabl', 'cabramatta', 'cabrillo', 'cacheadv', 'cachet', 'cackl', 'cactu', 'cad', 'cadenadeseguidor', 'cadrought', 'caesar', 'cafe', 'cafetier', 'cafir', 'cage', 'cagov', 'cai', 'cain', 'cairo', 'caitlin', 'caitsrobert', 'caixxum5so', 'cake', 'cal', 'calabria', 'calai', 'calam', 'calcul', 'calest', 'calfir', 'calfreedommom', 'calgari', 'calgarian', 'calgaryfring', 'calhoun', 'cali', 'cali74142290', 'calif', 'california', 'californian', 'call', 'calm', 'calmli', 'calori', 'calum', 'calum36chamb', 'calumet', 'calwildfir', 'cam', 'cambridg', 'camden', 'came', 'cameo', 'camera', 'cameron', 'cameronciletti', 'cameronhack', 'cameronhigdon34', 'cameronw', 'cameroon', 'camila', 'camilla33', 'camp', 'campaign', 'campanha', 'campbel', 'camper', 'campfir', 'campground', 'campsit', 'campu', 'can', 'canaanit', 'canada', 'canadasuicid', 'canadian', 'canag', 'canal', 'canberra', 'cancel', 'cancer', 'candacedx', 'candi', 'candid', 'candl', 'candylit', 'cannabi', 'cannib', 'cannon', 'cannot', 'cannotwil', 'cano', 'canonbringit', 'canontattoo', 'canonusaimag', 'canpoli', 'cant', 'cantar', 'cantmakeitup', 'cantmisskid', 'cantwaittoplayinminneapoli', 'canva', 'canyon', 'cap', 'capabl', 'capac', 'cape', 'capeann', 'capicapricapri', 'capit', 'capitalist', 'capitul', 'capoeira', 'capsiz', 'captain', 'captainnmorgan', 'caption', 'captiv', 'captor', 'captur', 'captureyyc', 'car', 'cara', 'caraccidentlawy', 'carajdeievingnc', 'caravan', 'carb', 'carbondal', 'carcinoma', 'card', 'cardboard', 'care', 'careemerg', 'careen', 'career', 'careless', 'carfest', 'cargo', 'carhot', 'cari', 'caribbean', 'caribean', 'carl', 'carlachamorro', 'carlilescanoeliveri', 'carlo', 'carlsbadbugkil1', 'carmel', 'carmi', 'carmik', 'carnag', 'carnegi', 'carneross', 'carolin', 'carolina', 'carolinaablaz', 'carolinagutierr', 'carpet', 'carpool', 'carr', 'carri', 'carriag', 'carribean', 'carryi', 'carsonrex', 'cart', 'cartel', 'cartervil', 'cartoon', 'cartooni', 'cartridg', 'caruana', 'cascad', 'cascada', 'case', 'casewrit', 'cash', 'casino', 'casper', 'casperrmg', 'cast', 'castello', 'castl', 'casu', 'casual', 'casualti', 'cat', 'cataclysm', 'catalina', 'catalogu', 'catastroph', 'catch', 'catcher', 'catech', 'categori', 'catfish', 'catfishmtv', 'catholic', 'catlow', 'cato', 'catovitch', 'catsandsyrup', 'catsofinstagram', 'catwoman1775', 'cau', 'caught', 'caus', 'causat', 'caution', 'cautiou', 'cave', 'cb', 'cbc', 'cbccalgari', 'cbcto', 'cbp', 'cbs29', 'cbs3', 'cbsdenver', 'cc', 'ccmusic', 'ccot', 'cd', 'cdc', 'cdcwhistleblow', 'cdnpoli', 'cdt', 'ce', 'cebu', 'cecanf', 'cech', 'cecil', 'cedarglade2015', 'cee', 'celebr', 'celebreti', 'celesti', 'cell', 'celtic', 'cement', 'cena', 'censor', 'censorship', 'censu', 'center', 'centiped', 'centr', 'central', 'ceo', 'cereal', 'cern', 'cerographi', 'certain', 'certainli', 'certainti', 'certif', 'certifi', 'cervelli', 'cervix', 'cessna', 'cest', 'cfc', 'cgg', 'cgi', 'ch', 'ch4', 'chaboyyhd', 'chachi', 'chain', 'chainsaw', 'chair', 'chairman', 'chalk', 'challeng', 'chamberedblood', 'champ', 'champagn', 'champaign', 'champion', 'championsblackfoot', 'championship', 'chan', 'chanc', 'chandane', 'chandrababu', 'chane', 'chang', 'changeforthewors', 'changepilipina', 'chann', 'channel', 'channelstv', 'chao', 'chaosmagician97', 'chapouti', 'chapter', 'char', 'charact', 'charcoal', 'charg', 'chargedup', 'charger', 'chariti', 'charl', 'charleston', 'charley', 'charleyisqueen', 'charli', 'charlieputh', 'charliz', 'charlott', 'charm', 'charmeus', 'charminar', 'charon', 'charstevens97', 'chart', 'chartreus', 'chase', 'chaselabsport', 'chaser', 'chat', 'chattanooga', 'chawalchorbjp', 'che', 'cheap', 'cheat', 'check', 'checkout', 'cheek', 'cheeki', 'cheer', 'chees', 'cheeto', 'cheetosarabia', 'chef', 'chelsdelong12', 'chelsea', 'chelseadog', 'chem', 'chemic', 'chemicalbab', 'cher', 'chernobyl', 'cheroke', 'cherri', 'cheryl', 'chest', 'chester', 'chestertweetsuk', 'chevi', 'chevrolet', 'chew', 'cheyenn', 'chiang', 'chiasson', 'chibi877', 'chicago', 'chicagoscann', 'chick', 'chicken', 'chief', 'chiefcg', 'chieftain', 'chikislizeth08', 'child', 'childcar', 'childfund', 'childhood', 'childhooddefin', 'childish', 'children', 'childress', 'childsexabus', 'chile', 'chili', 'chill', 'chilli', 'chillimik', 'chillin', 'chim', 'china', 'chinadotcom', 'chines', 'chip', 'chipper', 'chippewa', 'chitral', 'chloeunguyen', 'chocol', 'choctaw', 'choic', 'chojo', 'choke', 'chonc', 'choos', 'choosegod', 'chop', 'choppa', 'chopperg', 'chopra', 'chord', 'chore', 'chose', 'chosen', 'choudari', 'chowchilla', 'chowtaxi', 'chp', 'chpsre', 'chr3lyc', 'chri', 'chriscesq', 'chrisdanielshow', 'chrisdyson16', 'chrisman528', 'chrisroth98', 'chrissi', 'christ', 'christi', 'christian', 'christianvalu', 'christiec733', 'christielinford', 'christinalavv', 'christinartnd', 'christma', 'christopherszen', 'christycroley', 'chromsuck', 'chronicil', 'chronicl', 'chrysler', 'chubbysquirrel', 'chubychux', 'chuck', 'chucker', 'chuckswindol', 'chunk', 'church', 'churchil', 'churkin', 'chxrmingprinc', 'ci', 'cia', 'ciaramckendri', 'cig', 'cigarett', 'cigg', 'cilla', 'cin', 'cindi', 'cinema', 'cinla1964', 'cipinang', 'circa', 'circl', 'circu', 'circuit', 'circular', 'cisladi', 'citat', 'cite', 'citi', 'citizen', 'citru', 'citylink', 'cityofhummu', 'cityofkamloop', 'cityofmemphi', 'cityporn', 'civil', 'civilian', 'cjban', 'ckec', 'ckosova', 'cl', 'clad', 'claiborn', 'claim', 'claimin', 'clair', 'clairecmc', 'clanci', 'clap', 'clapton', 'clarksvil', 'clash', 'class', 'classic', 'classycolkett', 'claw', 'clay', 'clayton', 'cld', 'cle', 'clean', 'cleanest', 'cleanup', 'clear', 'clearli', 'cleav', 'cleavag', 'clegg', 'clelli', 'clergyforc', 'cleric', 'clev', 'cleveland', 'clever', 'cleverbot', 'clicca', 'click', 'clico', 'client', 'cliff', 'climat', 'climatechang', 'climb', 'clinic', 'clinton', 'clip', 'cliptv', 'clipuri', 'cllrraymogford', 'clnv', 'clock', 'clog', 'close', 'closest', 'closet', 'closeup', 'closur', 'clot', 'cloth', 'clothesless', 'cloud', 'cloudi', 'cloudygoldrush', 'clown', 'cloydriv', 'club', 'clubbang', 'clue', 'cluei', 'clueless', 'clutch', 'clyde', 'cm', 'cmcsa', 'cmnevalisti', 'cmon', 'cn', 'cnbc', 'cncpt', 'cndpoli', 'cnmi', 'cnn', 'cnni', 'cnv', 'co', 'co2', 'coach', 'coachkeith44', 'coahuila', 'coal', 'coalit', 'coast', 'coast2coastdj', 'coastal', 'coaster', 'coastguard', 'coat', 'cobe', 'cobra', 'cocain', 'cochisecolleg', 'cochran', 'cock', 'cocker', 'cocki', 'cockpit', 'cocktail', 'cocoa', 'cod', 'cod8sandscrim', 'codawscrim', 'code', 'codemew', 'codycarn', 'codythompson25', 'coeffici', 'coerc', 'coercion', 'coffe', 'coffin', 'cognit', 'cogniz', 'cogxbox', 'coif', 'coil', 'coincid', 'coke', 'col', 'cold', 'colder', 'coldmpress', 'cole', 'coleslaw', 'colin', 'colinhoffman29', 'collab', 'collabor', 'collaps', 'collar', 'collater', 'collect', 'colleenmnelson', 'colleg', 'collegeradi', 'colli', 'collid', 'collideworship', 'collin', 'collis', 'collud', 'colnharun', 'colo', 'coloiccarn', 'colombia', 'colombian', 'colomr', 'colonel', 'color', 'colorado', 'coloradoavalanch', 'colorect', 'colorlin', 'colour', 'colt', 'columbia', 'columbu', 'column', 'com', 'coma', 'combat', 'combin', 'combo', 'combust', 'comcastcar', 'comdev', 'come', 'comedi', 'comeeee', 'cometh', 'comfort', 'comic', 'comin', 'comingsoon', 'comma', 'command', 'commenc', 'comment', 'commerc', 'commerci', 'commiss', 'commit', 'committe', 'commod', 'common', 'commonwealth', 'commun', 'commut', 'como', 'comp', 'compani', 'companionship', 'compar', 'comparison', 'compass', 'compel', 'compens', 'compet', 'competit', 'competitor', 'complain', 'complaint', 'complet', 'complex', 'complianc', 'compliant', 'complic', 'compon', 'compound', 'comprehens', 'compulsori', 'comput', 'comu', 'con', 'concentr', 'concept', 'concern', 'concert', 'conclud', 'conclus', 'concret', 'concur', 'concuss', 'condemn', 'condens', 'condit', 'conditionspriv', 'condo', 'condol', 'conduct', 'conf', 'confeder', 'confer', 'confess', 'confidenti', 'confirm', 'conflict', 'confound', 'confus', 'congest', 'congrat', 'congratul', 'congress', 'conklin', 'connect', 'connecticut', 'connecto', 'connector', 'connor', 'connorfranta', 'connormidd', 'conquest', 'conscious', 'consent', 'consequ', 'conserv', 'consid', 'consist', 'consol', 'conspiraci', 'constant', 'constantli', 'constel', 'constitut', 'construct', 'consult', 'consum', 'consumerist', 'consumpt', 'cont', 'contact', 'contactenergi', 'contain', 'contempl', 'contemporari', 'content', 'contentmarket', 'contest', 'context', 'contig', 'continu', 'contr', 'contract', 'contractor', 'contrast', 'contri', 'contribut', 'contributor', 'control', 'contruct', 'convect', 'conven', 'conveni', 'convent', 'convers', 'convert', 'convinc', 'convivt', 'cook', 'cooki', 'cool', 'cooler', 'coolest', 'cooool', 'cooper', 'cooperstown', 'cop', 'copa', 'copalibertador', 'cope', 'copi', 'coppednew', 'copper', 'copperfield', 'copycat', 'coquitlam', 'cor4', 'coral', 'cord', 'core', 'corey', 'coreyash', 'corii', 'cork', 'corleonedaboss', 'corn', 'corner', 'coronet', 'corp', 'corps', 'correct', 'correl', 'correspond', 'corrupt', 'cortezera', 'cortneymo', 'corycov', 'cosima', 'cosm', 'cosmet', 'cosponsor', 'cossack', 'cost', 'costa', 'costli', 'costlier', 'cote', 'cottag', 'cotton', 'couch', 'cougar', 'could', 'coulda', 'couldnt', 'coun', 'council', 'councilscc', 'counselor', 'count', 'countdown', 'counter', 'countermoonbat', 'counterstrik', 'counti', 'countless', 'countri', 'countynew', 'coupl', 'courag', 'cours', 'court', 'courtlizcamp', 'courtney', 'courtof', 'cousin', 'cover', 'coverag', 'cow', 'cowardli', 'cowboy', 'cowgirl', 'cowgirllawy', 'cowork', 'cowx', 'coxytown', 'coya', 'coyi', 'coyot', 'cozmo23', 'cpanel', 'cpinto001', 'cpr', 'cqnow', 'cr', 'crabbycal', 'crack', 'crackdown', 'crackedgem', 'cracker', 'crackin', 'craig', 'cram', 'cramer', 'cramp', 'cranboonitz', 'crane', 'cranston', 'crap', 'crapgam', 'crash', 'crashsterl', 'crater', 'crave', 'crawl', 'craykain', 'crayon', 'crazi', 'crazier', 'crazydoctorladi', 'crazyideascolleg', 'crazyindapeg', 'crazyweath', 'crbzfz', 'cream', 'creamfield', 'creat', 'createdunique23', 'creation', 'creationmin', 'creationsbykol', 'creativ', 'creatur', 'credenti', 'credit', 'cree', 'creek', 'creel', 'creep', 'creeper', 'creepiest', 'crematoria', 'crept', 'crescent', 'crest', 'crew', 'cri', 'cricket', 'crime', 'crimin', 'crimsonfuckingv', 'cring', 'crippl', 'criscyborg', 'crisi', 'cristianinspir', 'cristiano', 'critic', 'criticalmedia', 'critter', 'croat', 'croatian', 'crobscarla', 'crockeri', 'crocodil', 'crook', 'crose', 'cross', 'crossfit', 'crow', 'crowd', 'crowdtapp', 'crown', 'crowtherjohn', 'croydon', 'croze', 'crptotech', 'crqck', 'crucial', 'crude', 'cruis', 'crumbl', 'crunchi', 'crusad', 'crush', 'crusti', 'cruz', 'cryibg', 'cryptic', 'crystal', 'crystalblaz', 'cs', 'cs6', 'csaresu', 'csismica', 'cspan', 'cspanwj', 'cst', 'cstsmith', 'csx', 'ct', 'cta', 'ctafail', 'ctaztrophe31', 'ctd', 'cte', 'cti', 'ctr', 'cu', 'cuana', 'cub', 'cuban', 'cube', 'cubstalk', 'cuck', 'cucumb', 'cuddl', 'cuddlesforjen', 'cue', 'cuf', 'cuff', 'cufi', 'cultiv', 'cultsierr', 'cultur', 'cum', 'cumberbatch', 'cumcov', 'cummerbund', 'cumshot', 'cumslut2', 'cumtown', 'cunayyh', 'cunt', 'cup', 'cupcak', 'curb', 'cure', 'curfew', 'curios', 'curl', 'currenc', 'currensi', 'current', 'curri', 'curs', 'curv', 'custer', 'custom', 'cut', 'cute', 'cutekitten', 'cutest', 'cuti', 'cutleri', 'cutter', 'cuyahoga', 'cuz', 'cvinchwaow', 'cw500', 'cwheat', 'cwhoop', 'cya', 'cyber', 'cyberdemon531', 'cybersecur', 'cycl', 'cyclist', 'cyclon', 'cyclonereizei', 'cydia', 'cyhi', 'cyhitheprync', 'cymbal', 'cypress', 'cypru', 'czallstarw', 'd', 'd1ff3r3nt1sg00d', 'd33munni', 'da', 'dab', 'daborsch', 'dacherryontop13', 'dad', 'daddi', 'daem', 'daewony0406', 'dagen', 'dagestan', 'dagger', 'dagnal', 'daili', 'dailyko', 'dailyliber', 'dailytimesngr', 'daisi', 'daisycuttertz', 'dajaal', 'dak', 'dakota', 'dal', 'dalailama', 'dalinthanelan', 'dalla', 'dallascowboy', 'dalroy', 'dam', 'damag', 'damascu', 'damatu', 'damaturu', 'dambisa', 'dame', 'damidnight', 'damiengayl', 'damn', 'damnaariel', 'damnnnn', 'damp', 'dampen', 'damsel', 'dan', 'danagould', 'danc', 'dancefloor', 'dancer', 'danemillar1', 'dangdaddi', 'danger', 'dangerousbean', 'dangl', 'danharmon', 'danhrothschild', 'daniel', 'danielkemp6', 'danielsahyouni', 'daniglasgow45', 'daniriot', 'danisnotonfir', 'danni', 'dannyjohnjul', 'dannyoneil', 'dannyonpc', 'dannyraynard', 'danryckert', 'dant', 'dantmatrafajlo', 'dantwitty52', 'daorcey', 'dapurplesharpi', 'darchambau', 'dardanel', 'dare', 'daretotaha', 'dark', 'darken', 'darkest', 'darkhorsecom', 'darkndtat', 'darkread', 'darrellissa', 'darrylb1979', 'darrylbrook', 'darsena', 'dart', 'darud', 'darwin', 'dat', 'data', 'date', 'dateswhitecoat', 'dattomm', 'daubt', 'daughter', 'daughteri', 'daughterofnai', 'dauntedpsych', 'dave', 'davi', 'david', 'david5fernandez', 'davidcovucci', 'davidduchovni', 'davidhurn', 'davidjordan88', 'davidlabrava', 'davidolszak', 'davidson', 'davidvitt', 'daviesmutia', 'daviskawalya', 'davison', 'dawabsha', 'dawg', 'dawson', 'day', 'dayton', 'dazzl', 'db5', 'dc', 'dccc', 'dcclotheslin', 'dccomic', 'dcfd', 'dcubecraft', 'ddnewsliv', 'ddnt', 'ddo', 'de', 'deactiv', 'dead', 'deaddreamer15', 'deadgirltalk', 'deadgrassandflow', 'deadli', 'deadliest', 'deadlydemi', 'deadpool', 'deafen', 'deai', 'deal', 'dealbreak', 'dealer', 'dealsuk', 'dean', 'dear', 'death', 'death2usa', 'deathmul', 'deb117', 'debacl', 'debat', 'debbi', 'debri', 'debt', 'dec', 'decad', 'decal', 'decay', 'deccgovuk', 'deceas', 'decemb', 'decent', 'decid', 'decis', 'decisionsondecis', 'deck', 'declar', 'declarat', 'declin', 'deco', 'decomposit', 'deconstruct', 'decor', 'decre', 'decreas', 'decrimin', 'dedic', 'deduct', 'dee', 'deed', 'deedeecasey', 'deeeznvtzzz', 'deejayempiresound', 'deem', 'deep', 'deepak', 'deepest', 'deepli', 'deepthought', 'deepwat', 'deezercolombia', 'def', 'default', 'defeat', 'defect', 'defenc', 'defend', 'defendbutera', 'defens', 'defensenew', 'defin', 'definit', 'deflateg', 'deglin', 'degre', 'dehydr', 'dei', 'del', 'delani', 'delay', 'deldryden', 'delet', 'delhi', 'deliber', 'delici', 'deliciousvomit', 'deliv', 'dell', 'delmont', 'delphi', 'delta', 'deltachildren', 'delud', 'delug', 'delus', 'delux', 'dem', 'demand', 'demco', 'demeanor', 'demetae12', 'demi', 'demis', 'demo', 'democraci', 'democrat', 'demolish', 'demolit', 'demolitiond', 'demon', 'demonstr', 'demonstratio', 'den', 'denali', 'deni', 'denial', 'denier', 'denim', 'deniseromano', 'denmark', 'densiti', 'dent', 'dental', 'denton', 'denver', 'deosl86', 'depart', 'depend', 'deploy', 'depot', 'depreci', 'depress', 'dept', 'depth', 'deputi', 'der', 'derail', 'derailedbenchmark', 'derbi', 'dere', 'deriv', 'derma', 'descend', 'describ', 'descript', 'desecr', 'desert', 'deserv', 'design', 'desir', 'desk', 'desol', 'desolationofsmaug', 'despair', 'desper', 'despic', 'despit', 'dessic', 'destiel', 'destin', 'destinationimpact', 'destini', 'destinythegam', 'destroy', 'destroyd', 'destruct', 'detail', 'detain', 'detect', 'detector', 'determin', 'deters', 'detkenlang', 'deton', 'detour', 'detroit', 'detroitnew', 'detroitpl', 'deutsch', 'devalu', 'devast', 'develop', 'devereaux', 'devi', 'devia', 'deviat', 'devic', 'devil', 'devinjoslyn', 'devis', 'devonbreneman', 'devot', 'devour', 'devpeac', 'dew', 'dewdney', 'dey', 'dfir', 'dfljev', 'dfr', 'dh', 'dh30000', 'dhaka', 'dhalgren', 'dhsscitech', 'di', 'diablo', 'diageo', 'diagnosi', 'dial', 'dialys', 'diamond', 'diamondkesawn', 'diamorfiend', 'diann', 'diaporama', 'diari', 'diarrhea', 'diaspora', 'dibang', 'dicaro', 'dice', 'dicehatem', 'dick', 'dickhead', 'dicki', 'dickson', 'dictat', 'did', 'didn', 'didnt', 'die', 'dieanpink95', 'diebold', 'diego', 'dierk', 'diesel', 'diet', 'diff', 'differ', 'difficult', 'difficulti', 'difficultpeopl', 'dig', 'digest', 'diggin', 'digit', 'digitalhealth', 'digniti', 'dijk', 'dilawri', 'dill', 'dilut', 'dimens', 'dinallyhot', 'dinner', 'dinosaurdracula', 'dip', 'diplomaci', 'diplomat', 'direct', 'direction', 'directli', 'director', 'directori', 'diretub', 'dirknomissski', 'dirktrossen', 'dirt', 'dirumah', 'disabledveteran', 'disagr', 'disappear', 'disappoint', 'disarm', 'disast', 'disasterrecoveri', 'disciplinari', 'disclaim', 'disclo', 'disclos', 'disco', 'disconnect', 'discount', 'discours', 'discov', 'discoveri', 'discoverycntr', 'discuss', 'disdain', 'disea', 'diseas', 'disembark', 'disfigur', 'disgrac', 'disgust', 'disillus', 'disinfo', 'dislik', 'disloc', 'dismantl', 'dismay', 'dismiss', 'disney', 'disneyirh', 'disneyland', 'disord', 'disown', 'dispatch', 'dispensari', 'dispers', 'displac', 'display', 'displeas', 'disput', 'disregard', 'disrespect', 'disrupt', 'diss', 'dissert', 'dissuad', 'distanc', 'distinct', 'distract', 'distress', 'distribut', 'district', 'disturb', 'ditch', 'ditto', 'div', 'dive', 'diver', 'divers', 'diversif', 'diversifi', 'divert', 'divestitur', 'divid', 'divin', 'divis', 'dix', 'dixi', 'dixon', 'diyala', 'dj', 'djcoreygrand', 'djeddygnj', 'djiglob', 'djjohnblaz', 'djknyce', 'djoneplustwo', 'djryanwolf', 'dk', 'dl', 'dlac', 'dlc', 'dlh', 'dlin71', 'dloesch', 'dm', 'dmac1043', 'dmassa5', 'dmd', 'dmerida', 'dmoneydemi', 'dmpl', 'dmt', 'dna', 'dnb', 'dnbheaven', 'dnjcom', 'do', 'doc', 'dock', 'doco', 'doctor', 'doctordryadma', 'doctorfluxx', 'document', 'documentari', 'dodg', 'doe', 'doesnt', 'doessnt', 'dog', 'dogg', 'dogger', 'doingahhhthat', 'dojo', 'dolan', 'doll', 'dolla', 'dollar', 'dolphin', 'dom', 'domain', 'domest', 'domin', 'dominicana', 'don', 'donald', 'donat', 'done', 'donington', 'doningtondash', 'donjazzi', 'donnelli', 'donni', 'dont', 'dontexpectnoth', 'donthat', 'donut', 'donzilla', 'doofu', 'doom', 'doomsday', 'doon', 'door', 'dope', 'dopeitsv', 'dopest', 'dopey', 'doppler', 'dorett', 'dori', 'doricr', 'dorismatsui', 'dorito', 'dorl', 'dorman', 'dorret', 'dorri', 'dorrian', 'dose', 'dothraki', 'dotish', 'doubl', 'doublecup', 'doubleghat', 'doubt', 'douchebag', 'doug', 'dough', 'dougkessl', 'dougmartin17', 'dove', 'down', 'downfal', 'downgrad', 'download', 'downpour', 'downright', 'downsid', 'downstair', 'downtim', 'downtown', 'doylech', 'dozen', 'dpagexxi', 'dq', 'dqsvyusi', 'dr', 'draft', 'drag', 'drag0nking0201', 'dragneel', 'drago', 'dragon', 'dragonval', 'drain', 'drake', 'drako', 'drama', 'dramaallama', 'dramat', 'drank', 'dratomic420', 'dravet', 'draw', 'drawn', 'drayesha4', 'drbaseball41', 'drdrewhln', 'dream', 'dreami', 'dreamoforgonon', 'dredougi', 'dren', 'dress', 'drew', 'drewscanlon', 'drewwtaylor', 'drfriedencdc', 'dri', 'dribbl', 'drift', 'drill', 'driller', 'drink', 'drinker', 'drive', 'driven', 'driver', 'driverless', 'driverlesscar', 'drjohanfranzen', 'drjustinmazur', 'drmartyfox', 'drob', 'droid', 'drone', 'drool', 'drop', 'droppd', 'drothvad', 'drought', 'droughtgov', 'droughtmonitor', 'drove', 'drown', 'drphil', 'drrichardbess', 'drsarwatzaib070', 'drug', 'drum', 'drummond', 'drumpf', 'drumstep', 'drunk', 'drvox', 'dryer', 'ds', 'dserialpcilp', 'dt', 'dtb', 'dtn', 'dtop77', 'du19', 'dua', 'dual', 'dualcom', 'dub', 'dubai', 'dubbo', 'dublin', 'dubloadz', 'dubstep', 'duchovbutt', 'duck', 'duckvillelol', 'duda', 'dude', 'due', 'duh', 'duke', 'dull', 'dum', 'dumb', 'dumbass', 'dumbfound', 'duml', 'dummi', 'dump', 'dumuzid', 'dunbar', 'dunde', 'dune', 'dungeon', 'dunk', 'duo', 'dupe', 'dupre', 'durabl', 'durant', 'durban', 'durbanknight', 'dure', 'durham', 'durrellb', 'durvod', 'dust', 'dustinbrowd', 'dustpig', 'dustpiggi', 'duststorm', 'duststormfilm', 'dutch', 'duti', 'dutton', 'dvbb', 'dvc', 'dvd', 'dviyer', 'dw', 'dwarfonjetpack', 'dwarv', 'dwenglish', 'dwight', 'dwilliams313', 'dy', 'dyamiplotk', 'dyannbridg', 'dye', 'dyersburg', 'dylanmcclure55', 'dynamix', 'dynast', 'dynasti', 'dysfunct', 'dystopian', 'dyxtmrydu', 'dzafichari', 'e', 'e1', 'eac4au', 'each', 'eagl', 'ear', 'earbud', 'earl', 'earli', 'earlier', 'earlymay', 'earn', 'earner', 'earnest', 'earth', 'earthquak', 'earthquakenew', 'earthsvoic', 'earthtwerk', 'easi', 'easier', 'easili', 'east', 'eastbound', 'easter', 'eastern', 'easton', 'eastward', 'eat', 'eaten', 'eau', 'eazzyp', 'eb', 'ebay', 'ebb', 'ebola', 'ebolatrend', 'ebrointheam', 'echo', 'eco', 'eco11c', 'ecolog', 'econom', 'economi', 'ecstat', 'ect', 'ed', 'edcxo', 'eddi', 'eden', 'edfring', 'edg', 'edgarsgift', 'edinburgh', 'edison', 'edit', 'editaxohaz', 'editor', 'editori', 'edk', 'edm', 'edmond', 'edmonton', 'edmund', 'edna', 'edt', 'educ', 'edvinnn', 'edw', 'edward', 'edwelchmus', 'edwin', 'ee', 'eeasterling2', 'eeenice221', 'eep', 'eeri', 'ef', 'efak', 'effect', 'effiedean', 'effort', 'efs300', 'eg', 'eganator2000', 'egg', 'eggali', 'ego', 'egoresolut', 'egypt', 'egyptian', 'eh', 'ehek', 'eight', 'eighth', 'eighti', 'eileenmfl', 'eisenhow', 'either', 'ejacul', 'ekiti', 'el', 'elabor', 'elanorofrohan', 'elat', 'elbow', 'elderli', 'elecman', 'elect', 'electr', 'electro', 'electrocut', 'electrocutedboil', 'electron', 'electronicmus', 'electrostat', 'elem', 'element', 'elementari', 'eleph', 'elephantintheroom', 'eleskayle', 'elev', 'elgato', 'elgeotaofeeq', 'elianaraquel', 'elielcruz', 'elig', 'elijah', 'elijahmallari', 'elimin', 'elisagxrcia', 'elit', 'elitesportsni', 'elitist', 'elizabeth', 'elk', 'elkhorn', 'ell', 'ella', 'ellenfromnowon', 'elli', 'elliott', 'elm', 'elreynetwork', 'els', 'elsa', 'eltorroloco', 'elutranscend', 'elven', 'elvi', 'elvia', 'elwood', 'elxn42', 'em', 'emaaalay', 'email', 'embarrass', 'ember', 'emblem', 'embra', 'embrac', 'embroid', 'emerg', 'emergencymgtmag', 'emhub', 'emi', 'emiiliexirwin', 'emil', 'emile', 'emili', 'emilio', 'emiliorivera48', 'emily4everev', 'emilymcfcheslop', 'emilyschuman', 'eminem', 'emittin', 'emmachosenon', 'emmanuel', 'emmerdal', 'emmi', 'emmychappi', 'emo', 'emot', 'emp', 'empathi', 'emperor', 'empir', 'empirikgam', 'employ', 'employe', 'empow', 'empti', 'emptiv', 'ems1', 'emsc', 'emsn', 'emt', 'emv', 'en', 'enabl', 'enact', 'enca', 'encaust', 'encod', 'encor', 'encount', 'encourag', 'encyclopedia', 'end', 'endang', 'ender', 'endless', 'endlessli', 'endors', 'endur', 'enem', 'enemi', 'energi', 'enew', 'engag', 'engin', 'engineermatarai', 'enginesh', 'engl', 'england', 'english', 'engulf', 'enhanc', 'enjoy', 'enkelbiljett', 'enolagay', 'enorm', 'enough', 'enrout', 'enrt', 'ensu', 'ensur', 'enter', 'enterpris', 'entershikari', 'entertain', 'entir', 'entiti', 'entitl', 'entranc', 'entrepreneur', 'entretenimento', 'enugu', 'enviroment', 'environ', 'environment', 'envis', 'envw98', 'envyseven', 'enzasbargain', 'eo', 'eonlinechat', 'eovm', 'ep', 'ep016', 'ep03', 'ep18', 'epa', 'epcotexplor', 'epic', 'epicent', 'epicentr', 'epicinsan', 'epidem', 'epilepsi', 'epilept', 'epiphan', 'episcop', 'episod', 'epl', 'epoch', 'epsom', 'eq', 'equal', 'equat', 'equestrian', 'equip', 'er', 'era', 'eral', 'erasuter', 'ercjmnea', 'erdogan', 'erect', 'ergo', 'eri', 'eric', 'ericbulak', 'erictsunami', 'erinmariefishi', 'erker', 'ermac', 'erod', 'err', 'error', 'errrr', 'erupt', 'erykah', 'es', 'escap', 'escort', 'esevu', 'esh', 'esn', 'esoter', 'esp', 'espargaro', 'especi', 'espn', 'espn2', 'esport', 'esquireattir', 'ess', 'essenceofm', 'essexweath', 'est', 'establish', 'estat', 'esteem', 'estellasreveng', 'estim', 'et', 'etc', 'etcpb', 'etern', 'ether', 'ethereal7', 'ethic', 'ethiopia', 'ethiopian', 'etisalat', 'eto', 'etoff', 'etp', 'etribun', 'eu', 'eudri', 'eulog', 'eunicenjoki', 'eur', 'euro', 'eurocrisi', 'europ', 'european', 'euroquak', 'eurotunnel', 'ev', 'evaaasr', 'evac', 'evacid', 'evacu', 'evad', 'evahanderek', 'evangel', 'evanston', 'evansvil', 'eve', 'evebrigid', 'even', 'event', 'eventspalmbeach', 'eventu', 'ever', 'everest', 'everi', 'eversaf', 'everton', 'everwh', 'everybodi', 'everyday', 'everydaynaija', 'everyon', 'everyth', 'everythign', 'everytim', 'everywher', 'evid', 'evil', 'evildead', 'evilempir', 'evolv', 'ex', 'exacerb', 'exact', 'exactli', 'exagger', 'exam', 'examin', 'examinercom', 'exampl', 'exc', 'excel', 'except', 'excess', 'exchang', 'excit', 'exclam', 'exclus', 'excus', 'exec', 'execut', 'exercis', 'exhaust', 'exhibit', 'exhibitor', 'exist', 'exit', 'exo', 'exofficio', 'exot', 'exp', 'expand', 'expans', 'expect', 'expens', 'experi', 'experienc', 'experiment', 'expert', 'expertwhin', 'expirehc', 'explain', 'explan', 'explicitli', 'explicitpretti', 'explod', 'explodingkitten', 'exploit', 'explor', 'explos', 'expo', 'exponenti', 'export', 'expos', 'exposur', 'express', 'expressandstar', 'exquisit', 'extend', 'extens', 'extent', 'extermin', 'extern', 'extinct', 'extinguish', 'extra', 'extract', 'extraordinair', 'extrem', 'exum', 'ey', 'eye', 'eyebal', 'eyecut', 'eyefact', 'eyesss', 'eyewit', 'eytay', 'ezidigenocid', 'ezralev', 'f', 'f496d', 'fa', 'fa07af174a71408', 'faan', 'fab', 'fabric', 'face', 'facebook', 'faceless', 'facil', 'fact', 'faction', 'factor', 'factori', 'factsheet', 'factual', 'faculti', 'fadc', 'fade', 'fadelurk', 'fahlo', 'fail', 'failur', 'faint', 'faintli', 'fair', 'fairfax', 'fairground', 'fairi', 'fairli', 'fairx818x', 'faith', 'fake', 'falcon', 'fall', 'fallaci', 'fallen', 'fallon', 'fallontonight', 'falmer', 'falphil', 'fals', 'fam', 'fame', 'famili', 'familia', 'familiar', 'famin', 'faminememori', 'famou', 'fan', 'fanarmyfaceoff', 'fanbas', 'fanboy', 'fandom', 'fanfict', 'fang', 'fangirl', 'fant4stic', 'fantabul', 'fantasi', 'fantast', 'fantosex', 'faq', 'far', 'farc', 'farewel', 'fari', 'farm', 'farmer', 'farmland', 'farmr', 'faro', 'farrakhan', 'fart', 'fartanxieti', 'farther', 'fascin', 'fashion', 'fast', 'faster', 'fastest', 'fastpitch', 'fat', 'fatal', 'fatalityu', 'fatburn', 'fate', 'father', 'fault', 'faulti', 'faux', 'fav', 'fave', 'favor', 'favori', 'favorit', 'favorita', 'favourit', 'fazerain', 'fb', 'fb100', 'fbi', 'fci', 'fcked', 'fco', 'fd', 'fdbdp', 'fdni', 'fdx', 'fe', 'fear', 'feast', 'feat', 'featur', 'fecal', 'fed', 'feder', 'fedex', 'fedporn', 'fee', 'feed', 'feel', 'feelin', 'feelslikefob', 'feet', 'feinstein', 'fel', 'fell', 'fella', 'felon', 'felt', 'fem', 'fema', 'femal', 'femalegilgamesh', 'feminist', 'femnism', 'fenc', 'fennovoima', 'fentanyl', 'fergi', 'ferguson', 'ferno', 'ferrel', 'ferri', 'ferrochrom', 'fest', 'festac', 'festiv', 'fetch', 'fettilootch', 'fever', 'fevwarrior', 'few', 'fez', 'ffa', 'fforecast', 'ffvii', 'fgcu', 'fi', 'fiasco', 'fiat', 'fiction', 'fidayeen', 'fiddl', 'fide', 'fieg', 'field', 'fieldston', 'fiendnikki', 'fierc', 'fieri', 'fifa', 'fife', 'fifth', 'fifti', 'fight', 'fighter', 'fighterdena', 'fightin', 'fightterror', 'figur', 'file', 'filipino', 'fill', 'film', 'film4', 'filmmak', 'filter', 'final', 'finalis', 'financ', 'financi', 'financialreview', 'financialtim', 'find', 'fine', 'finer', 'finger', 'fingerrockfir', 'finish', 'finit', 'finn', 'finna', 'finnish', 'finsup', 'fiona', 'fionagilbert', 'fir', 'fire', 'firearm', 'firebal', 'firefight', 'firefightr', 'firefigth', 'fireman', 'firemen', 'firenew', 'firepow', 'firetruck', 'firewis', 'firework', 'firey', 'firm', 'firmli', 'first', 'firstnat', 'firstpostin', 'fish', 'fist', 'fit', 'fitba', 'fittscott', 'fitz', 'fitzgerald', 'five', 'fix', 'fiya', 'fizzi', 'fjord', 'fkhanag', 'fkn', 'fl', 'flag', 'flake', 'flame', 'flamesn', 'flamethrow', 'flare', 'flash', 'flashback', 'flashflood', 'flat', 'flatback', 'flatlin', 'flatt', 'flatten', 'flavafraz21', 'flavor', 'flavorchargedtea', 'flaw', 'flawless', 'flechada', 'fled', 'flee', 'fleek', 'fleet', 'fleetwood', 'flesh', 'fletcher', 'flew', 'flex', 'flgovscott', 'fli', 'flickershowel', 'flight', 'flint', 'flip', 'float', 'floatin', 'flood', 'floor', 'floorburnt', 'floored4', 'flop', 'floral', 'florenc', 'florid', 'florida', 'floridian', 'florin', 'flour', 'flow', 'flow397', 'flower', 'flowri', 'floyd', 'floydmayweath', 'fluctuat', 'fluffi', 'fluid', 'flunki', 'flurri', 'flush', 'flynn', 'flyopinemonkey', 'fm', 'fn', 'fnaf', 'fnaftalkmc', 'fo', 'foam', 'foamcc', 'focu', 'focus', 'fog', 'foil', 'fold', 'foliag', 'folieacat', 'folk', 'follow', 'followback', 'followlasg', 'followm', 'follownflnew', 'fond', 'font', 'foo', 'food', 'foodborn', 'foodstand', 'fool', 'foolish', 'foot', 'footag', 'footbal', 'foothil', 'for', 'foragesecret', 'forb', 'forbath', 'forbesasia', 'forbid', 'forc', 'ford', 'forebod', 'forecast', 'foreclos', 'forefath', 'forehead', 'foreign', 'foreman', 'foreplay', 'foreskin', 'forest', 'forestservic', 'forev', 'forex', 'forfeit', 'forget', 'forgiv', 'forgiven', 'forgot', 'forgotten', 'form', 'format', 'former', 'formula', 'forney', 'forreal', 'forrest', 'forrestmankin', 'forse', 'forsur', 'forsyth', 'fort', 'forth', 'forthright', 'fortun', 'fortworth', 'forward', 'fossil', 'foster', 'foto', 'fotofil', 'fotoset', 'fought', 'foul', 'found', 'foundat', 'founder', 'four', 'foursquar', 'fourth', 'fousey', 'fouseytub', 'fowler', 'fox', 'fox5newsdc', 'foxa', 'foxdebatequest', 'foxnew', 'foxnewsvideo', 'foxsportscom', 'foxtrot', 'foxysiren', 'fpine', 'fpoj', 'fr', 'frackfreeeu', 'frackfreelanc', 'fraction', 'fragil', 'fragranc', 'frail', 'frame', 'fran', 'franc', 'franci', 'francisco', 'francisunderwood', 'frank', 'frankli', 'franklin', 'franta', 'frat', 'fraud', 'frautrapani', 'freak', 'freaki', 'freakiest', 'fred', 'freddi', 'freddiedebo', 'fredosantana300', 'free', 'freeallfour', 'freeamirnow', 'freebesieg', 'freebitcoin', 'freed', 'freediscountbk', 'freedom', 'freedomoutpost', 'freefromwolv', 'freegeezy17', 'freeman', 'freemarket', 'freemurphi', 'freesikhpoliticalprisnor', 'freespeech', 'freestyl', 'freeview', 'freeway', 'freez', 'freezer', 'freiza', 'fremont', 'french', 'frenzi', 'frequent', 'fresh', 'freshli', 'freshman', 'fresno', 'freud', 'freya', 'fri', 'fricken', 'frickin', 'friday', 'friedman', 'friend', 'friend50', 'friend59', 'friendli', 'friendship', 'friggin', 'frighten', 'frisco', 'frobeusn', 'frofrofro', 'frog', 'from', 'front', 'frontin', 'frontlin', 'frost', 'frothi', 'froze', 'frozen', 'frp', 'fruit', 'frusciant', 'frustrat', 'frvrgrate', 'ft', 'fte', 'ftsn', 'ftsnnewsdesk', 'ftw', 'fu', 'fuck', 'fuckboy', 'fuckfac', 'fuckin', 'fucktard', 'fuckyeahcarey', 'fuddi', 'fuel', 'fujiwara', 'fukurodani', 'fukushima', 'fulfil', 'full', 'fulli', 'fullscreen', 'fun', 'function', 'fund', 'fundament', 'fundrais', 'fundwhen', 'funer', 'funkflex', 'funko', 'funkylilshack', 'funni', 'funniest', 'funnydadcoach', 'funnynew', 'funtenna', 'funtim', 'fur', 'furi', 'furiosoxv', 'furiou', 'furst', 'further', 'furtrix', 'fusion', 'fuso', 'futur', 'futurea', 'fvck', 'fwd', 'fwi', 'fwo', 'fwt', 'fx', 'fyi', 'fyld', 'g', 'g20', 'g3', 'g7', 'g90', 'ga', 'gaabyx', 'gabon', 'gadget', 'gaelit', 'gag', 'gagnon', 'gaia', 'gail', 'gailsimon', 'gain', 'gainesvil', 'gal', 'galact', 'galaxi', 'galifianaki', 'gallagh', 'galleria', 'gallipoli', 'galloway4mayor', 'gallup', 'galvnew', 'gambia', 'gambit', 'game', 'gamefe', 'gameinsight', 'gameofkitten', 'gameplay', 'gamer', 'gamescom', 'gamma', 'gander', 'gang', 'gangstermail', 'gansey', 'ganseyman', 'gap', 'gape', 'garag', 'garbag', 'garbanzobean23', 'gard', 'garden', 'garfield', 'gargoyl', 'gargron', 'gari', 'garza', 'gasolin', 'gasp', 'gasparc', 'gassymexican', 'gastric', 'gate', 'gateau', 'gauteng', 'gauz', 'gave', 'gay', 'gayler1969', 'gaynor', 'gaza', 'gazan', 'gazebo', 'gazett', 'gba', 'gbay99', 'gbbo', 'gbbo2015', 'gbonyin', 'gc', 'gd', 'ge', 'gear', 'gecko', 'geekapocalyps', 'gel', 'geller', 'gem', 'gemini', 'gemma', 'gemmahentsch', 'gemmast', 'gemston', 'gen', 'gene', 'gener', 'generalnew', 'geneva', 'genisi', 'genit', 'geniu', 'genocid', 'gentl', 'gentlemen', 'gentli', 'genuin', 'geoffrickli', 'geometr', 'georg', 'georgecol', 'georgegalloway', 'georgia', 'georgina', 'georgou', 'geotech', 'gerenciatodo', 'germ', 'german', 'germani', 'gerryconnolli', 'gesserit', 'gestur', 'get', 'gettin', 'gettinglost', 'geyser', 'gf', 'gfe', 'gfrost1985', 'gfz', 'gg', 'ggindependencmessag', 'ggkeeponrockin', 'gh', 'ghe', 'ghetto', 'ghost', 'ghostoftheav', 'ghostwrit', 'ghoul', 'ghul', 'gi', 'gianni', 'giant', 'giantgiantsound', 'gibraltar', 'gideonstrumpet', 'gidiexclusix', 'gif', 'gift', 'gig', 'gigagil', 'gigant', 'gigawatt', 'giggl', 'gilbert23', 'gilderoy', 'gilgit', 'gillibrand', 'gilmanrocks7', 'gilmoreguysshow', 'gimp', 'gin', 'ginga', 'gio', 'giorgio', 'girardeau', 'girl', 'girlfriend', 'girlslovecum', 'girlthatsrio', 'gisel', 'gishwh', 'gist', 'gisuserpr', 'give', 'giveaway', 'givebackkalinwhiteaccount', 'given', 'glacier', 'glad', 'gladbach', 'glander', 'glass', 'glassanim', 'glaucoma', 'glean', 'glen', 'glenn', 'glenstannard', 'glide', 'glimps', 'glitch', 'glitter', 'global', 'globalwarm', 'globe', 'globiinclus', 'glononium', 'gloomi', 'glori', 'gloria', 'gloriavelez', 'gloriou', 'glosblue66', 'gloucest', 'glove', 'glue', 'gm', 'gmail', 'gmcr', 'gmt', 'gmtti', 'gn', 'gnwt', 'go', 'goal', 'goat', 'goblu', 'gobsmack', 'god', 'godli', 'godlik', 'godofmischief', 'godsfirstson1', 'goe', 'gog', 'goggl', 'gohan', 'goin', 'gokitgo', 'goku', 'gold', 'goldstein', 'golem', 'golf', 'golfbal', 'gon', 'gone', 'goner', 'gonna', 'good', 'goodby', 'goodel', 'goodlook', 'goodluck', 'goodnight', 'goodread', 'goof', 'goofbal', 'googl', 'googlemap', 'goonc1ti', 'goonda', 'gooneratheist', 'goooooooaaaaaal', 'goooooooo', 'gop', 'gordon', 'gordonr74', 'gore', 'gorgeou', 'gorpuazikinak', 'gosh', 'goshen', 'gospel', 'gostei', 'got', 'gotham', 'gotriangl', 'gotta', 'gotten', 'gotthard', 'goulburn', 'gould', 'gov', 'govegan', 'govern', 'governor', 'govjaynixon', 'govt', 'govwalk', 'goz', 'gp', 'gpaulista5', 'gpm', 'gpv', 'gr', 'grab', 'grabakahitman', 'grabber', 'grace', 'grade', 'graduat', 'grahamwp', 'grain', 'grand', 'grandad', 'grandeur', 'grandfath', 'grandma', 'grandmoth', 'grandpa', 'grant', 'grantfactori', 'grantgordi', 'granttamane8', 'grape', 'graph', 'grass', 'grate', 'gratia', 'grave', 'gravel', 'graveyard', 'gravi', 'graviti', 'gravitychat', 'gravitymovi', 'gray', 'grayson', 'graywarden', 'graze', 'greasi', 'great', 'greater', 'greateranglia', 'greatest', 'greatli', 'greec', 'greed', 'greedi', 'greek', 'green', 'greenbuildermag', 'greenlacey', 'greenspac', 'greenway', 'greer', 'greet', 'greetingcard', 'greg', 'greggmair', 'gregori', 'gregorysand', 'greink', 'grenad', 'grew', 'grey', 'greyjoy', 'greyston', 'grid', 'gridlock', 'grief', 'griffin', 'grill', 'grime', 'grimrail', 'grind', 'grindhous', 'grit', 'gritti', 'grizzli', 'groan', 'groceri', 'grogparti', 'groin', 'groom', 'gross', 'grossli', 'ground', 'group', 'grouponuk', 'grove', 'grow', 'growingupblack', 'growingupincolorado', 'growingupspoil', 'grown', 'growth', 'grrrr', 'grtvnew', 'grub', 'grudg', 'grummz', 'grumpout', 'gt', 'gta', 'gtfo', 'gtxrwm', 'guabxfv', 'guag', 'guam', 'guarante', 'guard', 'guardian', 'guardrail', 'guatemala', 'guatemalan', 'gucci', 'guess', 'guest', 'guevara', 'guid', 'guidofawk', 'guild', 'guillermo', 'guilti', 'guiltygearxxacp', 'guimara', 'gujaratriot', 'gulag', 'gulf', 'gulfport', 'gull', 'gum', 'gummi', 'gun', 'gunfail', 'gunfight', 'gunfir', 'gunk', 'gunman', 'gunmen', 'gunner', 'gunnersfan89', 'gunsens', 'gunshot', 'guo', 'gurion', 'gurmeetramrahim', 'gust', 'gusti', 'gusto', 'gut', 'guthri', 'guy', 'guyreginald', 'gv', 'gwatt', 'gwfraze', 'gym', 'gymflow', 'gymtim', 'gyp', 'gypsi', 'gyrsi', 'h', 'h20', 'ha', 'haaaaaa', 'haaretz', 'habbo', 'habit', 'hack', 'hacker', 'had', 'hadnt', 'hagerstown', 'hah', 'haha', 'hahah', 'hahaha', 'hahahah', 'hahahaha', 'hai', 'hail', 'haildamag', 'hailstorm', 'hailyoutsey', 'hailzel', 'hair', 'haircut', 'hairdryer', 'hairi', 'haiyan', 'hajihunter762', 'hakogaku', 'haley', 'haleywhaley', 'half', 'halfhourhotel', 'halfway', 'halifax', 'hall', 'halljh1720', 'halloikbenwil', 'halsey', 'halt', 'ham', 'hama', 'hamayun', 'hamburg', 'hamilton', 'hamlet', 'hammond', 'hamper', 'hampshir', 'hamptonroadsfor', 'hamstr', 'hana', 'hand', 'handbag', 'handi', 'handicap', 'handl', 'handout', 'handsid', 'handsom', 'hang', 'hangin', 'hangout', 'hank', 'hanna', 'hannabrooksi', 'hannah', 'hannahkauthor', 'hanneman', 'hannomottola', 'hanov', 'hao', 'hap', 'hapa', 'happen', 'happi', 'happili', 'har', 'hara', 'haram', 'harass', 'harbhajansingh', 'harbor', 'hard', 'harda', 'hardbal', 'hardcor', 'hardcov', 'harden', 'harder', 'hardest', 'hardi', 'hardli', 'hardlin', 'hardsid', 'hardstyl', 'harlan', 'harm', 'harman', 'harmoni', 'harper', 'harperanetflixshow', 'harri', 'harrisgl', 'harrow', 'harrystyl', 'harsh', 'harshli', 'hartford', 'harvard', 'harvardu', 'harvest', 'harveymain', 'harwich', 'hasarriv', 'hasbro', 'hashd', 'hashimoto', 'hashtag', 'hashtagteaclub', 'hasil', 'hasn', 'hassanrouhani', 'hassl', 'hastl', 'hat', 'hatchet', 'hate', 'hater', 'hatman', 'hatr', 'hatzolah', 'haunt', 'hav', 'have', 'havnt', 'haw', 'hawaii', 'hawaiianpaddlesport', 'hawk', 'hay', 'hayden', 'haydnexist', 'hazard', 'hazelannmac', 'hazmat', 'hcg', 'hcsm', 'hd', 'hdumpty39', 'he', 'hea', 'head', 'headdesk', 'header', 'headlin', 'headlinelik', 'headphon', 'headquart', 'headset', 'heal', 'health', 'healthandsafeti', 'healthcar', 'healthi', 'healthinsur', 'healthweekly1', 'hear', 'heard', 'hearitfrompa', 'hearitfrompatti', 'heart', 'heartach', 'heartbeat', 'heartbreak', 'heartdiseas', 'hearth', 'hearthston', 'heartland', 'heartless', 'heartwarm', 'heat', 'heather', 'heaven', 'heavenli', 'heavi', 'heavybag201', 'heavydirtysoul', 'heavyrain', 'heavyweight', 'hebron', 'hebrooon', 'hector', 'heebsterrr', 'heel', 'hehe', 'heheh', 'heidia1438', 'height', 'heir', 'heiress', 'held', 'helen', 'heleneyancey', 'heli', 'helicopt', 'helio', 'hell', 'hella', 'heller', 'hellfir', 'hellfireev', 'hello', 'hellonwheelsamc', 'hellotybeeren', 'helm', 'helmet', 'helo', 'help', 'helplin', 'helpm', 'helsinki', 'hem', 'hemp', 'henderson', 'hendrick', 'hendrixonfir', 'hendy21', 'henley', 'henri', 'henshaw', 'her', 'here', 'hereticofeth', 'herman', 'hermitag', 'hero', 'heroin', 'hess', 'hew', 'hexagon', 'hey', 'heyimbeeyt', 'heyitsepark', 'heyot6', 'heyseto', 'heywood', 'hfxstanfield', 'hgf52611', 'hh', 'hhahaha', 'hhbu', 'hi', 'hiatt', 'hibern', 'hickson', 'hicksvil', 'hidden', 'hide', 'hideou', 'hienshi', 'hieroglyph', 'high', 'higher', 'highest', 'highland', 'highli', 'highqualitybird', 'highsmith', 'highway', 'higuain', 'hijack', 'hijinks1967', 'hikagezero', 'hike', 'hiker', 'hil', 'hilari', 'hilda', 'hill', 'hillari', 'hillaryclinton', 'hillarymass', 'hilli', 'hillsid', 'hilversum', 'him', 'himalaya', 'himeruisu', 'himself', 'hinata', 'hinatobot', 'hindsight', 'hindustan', 'hint', 'hinterestin', 'hinton', 'hip', 'hiphop', 'hipster', 'hire', 'hirochii0', 'hiroshima', 'hirsch', 'hisao', 'hist', 'histor', 'histori', 'historicalmag', 'hit', 'hitch', 'hitchhik', 'hitech', 'hitter', 'hive', 'hixon', 'hlg', 'hlongwan', 'hlportal', 'hm', 'hmm', 'hmmm', 'hmu', 'ho', 'hoax', 'hobbi', 'hobbit', 'hobo', 'hoc', 'hockey', 'hoe', 'hoffman', 'hog', 'hogan', 'hoist', 'hoke', 'hold', 'holdin', 'hole', 'holi', 'holiday', 'holist', 'holland', 'holli', 'hollyorange8', 'hollyw', 'hollywarnexx', 'hollywood', 'holm', 'holmgren', 'holodomor', 'holomua', 'holt', 'holtz', 'holymileyray', 'hom', 'home', 'home2', 'homealone2', 'homebuy', 'homecom', 'homefolk', 'homegrown', 'homeimprov', 'homeland', 'homeless', 'homemad', 'homeown', 'homepag', 'homer', 'hometown', 'hometownglori', 'homeworldgym', 'homi', 'homicid', 'homophobia', 'homosexu', 'homukami', 'hond', 'honda', 'honduran', 'honest', 'honestli', 'honey', 'honeybunzgem', 'honor', 'honour', 'honshu', 'hoo', 'hood', 'hoodedu', 'hoof', 'hook', 'hooligan', 'hoop', 'hop', 'hope', 'hopefulbatgirl', 'hopeinchrist', 'hopeinheart', 'hopfer', 'horiikawa', 'horizon', 'horn', 'horndal', 'horni', 'horno', 'hornybigbadwolf', 'horoscop', 'horowitz', 'horrend', 'horribl', 'horrif', 'horrifi', 'horror', 'horrormovi', 'hors', 'horsetalknz', 'hospit', 'host', 'hostag', 'hot', 'hotbox', 'hotboy', 'hotel', 'hotnewscak', 'hotspot', 'hotter', 'hottest', 'houghjeff', 'hour', 'hous', 'household', 'houston', 'how', 'howardu', 'howel', 'howev', 'howfan', 'hpssjd', 'hr', 'href', 'hripsk', 'hromadsk', 'hronlinetweet', 'hrsto', 'hs', 'hs2', 'hse', 'hsjb215', 'hsu', 'htarvrgli', 'html5', 'htt', 'http', 'hua', 'hub', 'hubert', 'hubri', 'hudhud', 'hue', 'huebel', 'huffman', 'huffpostart', 'huffpostcomedi', 'huffpostrelig', 'huffpostuk', 'hug', 'huge', 'hugh', 'hughes1128', 'hugomatz', 'huh', 'hull', 'human', 'humanitarian', 'humanityi', 'humanright', 'humaza', 'humbl', 'humboldt', 'humid', 'humofthec', 'humor', 'hump', 'humphrey', 'hunchback', 'hundr', 'hung', 'hunger', 'hungerarticl', 'hungov', 'hungri', 'hungrier', 'hunhri', 'hunk', 'hunt', 'hunter', 'hunterlove1995', 'hunterston', 'huntington', 'hunwx', 'hurl', 'hurri', 'hurrican', 'hurricanedam', 'hurricanedolc', 'hurricanesurg', 'hurt', 'husband', 'hush', 'hushleg', 'hutch', 'huyovoetripoly', 'huzzah', 'hvnewsnetwork', 'hw', 'hw18', 'hwi', 'hwo', 'hwrf', 'hwy401', 'hyatt', 'hybrid', 'hyderabad', 'hyiderghost2', 'hype', 'hyperbol', 'hypo', 'hypocrisi', 'hysteria', 'i', 'i10', 'i15', 'i405', 'i5', 'i580', 'i77', 'iaff36', 'iafflocal4416', 'iamdowntown', 'iamhorsefli', 'iamrrsb', 'iamtalia', 'iamtonyn', 'ian', 'ianbartlett', 'ianhellfir', 'ianokavo96', 'iartg', 'iateyourfood', 'ib', 'ibaraki', 'ibeto', 'ibeyioffici', 'ibiza', 'ibom', 'ibrahimmisau', 'icaru', 'icaseit', 'iccrealckt', 'icd10', 'ice', 'iceland', 'icelandreview', 'icemoon', 'icequeenfrosla', 'ici', 'icicl', 'iclown', 'icon', 'icrc', 'ictyosaur', 'icymagistr', 'icymi', 'id', 'idaho', 'idc', 'idea', 'ideal', 'idek', 'ident', 'identif', 'idgaf', 'idi', 'idiot', 'idk', 'idlenomor', 'idm', 'idol', 'idp', 'idwpublish', 'idwx', 'ieansquad', 'ieee', 'ielectrocut', 'iembothfo', 'if', 'ifak', 'iflcanada', 'ifunni', 'ig', 'iger', 'ight', 'igmpj', 'ignit', 'ignor', 'ignorancesh', 'ihave44episodesofgg', 'iheartradio', 'ii', 'iii', 'iiii', 'iinet', 'iit', 'ij', 'ijetalert', 'ijourn', 'ijustin', 'ik', 'ik4len', 'ika', 'ikpeazu', 'ilford', 'ill', 'illeg', 'illinoi', 'illog', 'illumin', 'illus', 'illusoria', 'illustr', 'ilnewsflash', 'im', 'im2ad', 'ima', 'imag', 'imagecom', 'imagin', 'imagini', 'imam', 'imawesome7986', 'imbal', 'imdb', 'ime', 'imeshika', 'imkeepingmydayjob', 'immedi', 'immens', 'immigr', 'immin', 'immortaltech', 'immun', 'imo', 'imouto', 'impact', 'impair', 'impend', 'imperfect', 'imperi', 'impli', 'implic', 'implicit', 'implod', 'implor', 'import', 'impos', 'imposit', 'imposs', 'impress', 'imprison', 'improv', 'impuls', 'imraz', 'imsushickoflov', 'imtariik', 'in', 'ina', 'inbetween', 'inbound', 'inc', 'incap', 'incas', 'incess', 'inch', 'inchao', 'incid', 'incident', 'inciner', 'incit', 'inciweb', 'includ', 'incom', 'incompet', 'increas', 'increasingli', 'incred', 'incredul', 'increment', 'ind', 'indah', 'inde', 'indec', 'indecis', 'independ', 'indepth', 'index', 'indi', 'india', 'indiahttp', 'indiakomuntorjawabdo', 'indian', 'indiana', 'indianapoli', 'indianperpetr', 'indiatv', 'indict', 'indiefilm', 'indiegogo', 'indiepopmom', 'indiffer', 'indigo6', 'indiscrimin', 'indistinguish', 'individl', 'individu', 'indo', 'indonesia', 'indonesian', 'indoor', 'indot', 'induc', 'industri', 'indyfest', 'inec', 'ineedexposur', 'inequ', 'inevit', 'infact', 'infam', 'infantri', 'infantryman', 'infect', 'infecti', 'infectiousdiseas', 'inferior', 'inferno', 'infest', 'infield', 'infiltr', 'infin', 'infinit', 'infinitegrace7', 'inflict', 'influenc', 'influenti', 'info', 'infograph', 'infomerci', 'inform', 'informationng', 'infosec', 'infowar', 'infrastructur', 'ing', 'inhof', 'initi', 'inj', 'inject', 'injur', 'injuri', 'injustic', 'ink', 'inmat', 'inner', 'inning', 'innit', 'innoc', 'innov', 'input', 'inroic', 'insa', 'insan', 'insect', 'insert', 'insid', 'insight', 'insomnia', 'insomniac', 'inspect', 'inspi', 'inspir', 'inst', 'instagram', 'instal', 'instant', 'instantli', 'instapundit', 'instaquot', 'instead', 'instinct', 'institut', 'institution', 'instruct', 'insult', 'insur', 'insurers163', 'int', 'intact', 'intead', 'integr', 'intel', 'intellig', 'intelligencebar', 'intend', 'intens', 'intensifi', 'intent', 'interact', 'interest', 'interestrateris', 'interlaken', 'interlock', 'intern', 'internet', 'internetradio', 'interpret', 'interraci', 'interrog', 'interrupt', 'intersect', 'intersectio', 'interspers', 'interst', 'intertissu', 'intertwin', 'interv', 'interven', 'interview', 'intl', 'into', 'intox', 'intragener', 'intrigu', 'intro', 'introduc', 'introduct', 'inund', 'invad', 'invalid', 'invas', 'invent', 'invest', 'investig', 'invinc', 'invis', 'invit', 'invoic', 'invokc', 'involv', 'invzic', 'inw', 'io', 'iof', 'iot', 'iowa', 'ip', 'ipa', 'ipad', 'iphon', 'iphooey', 'iphoto', 'ipo', 'ipod', 'ir', 'iran', 'irand', 'iranian', 'irannucleard', 'iraq', 'iraqi', 'iredel', 'ireland', 'ireport', 'irish', 'irishirr', 'irishspi', 'irishtimesworld', 'iron', 'ironi', 'ironman', 'irrespect', 'irvin', 'irwin', 'is', 'isai', 'isaiah', 'isao', 'isea2015', 'ish', 'isi', 'isil', 'isl', 'isla', 'islam', 'islamaphob', 'islamist', 'island', 'isllik', 'isnt', 'iso', 'isol', 'isra', 'israel', 'issu', 'istg', 'it', 'itali', 'italian', 'italianalp', 'item', 'itinerari', 'itrawcwb', 'itsdani', 'itsmegss', 'itsnasb', 'itsqueenbabi', 'itssselenaluna', 'itun', 'itz', 'itzsteven', 'ivan', 'ive', 'iwasdisappointedbi', 'iwat', 'iwk', 'iwontmakeit', 'izigarcia', 'j', 'j2bone', 'j3lyon', 'ja', 'jacinta', 'jack', 'jackass', 'jacket', 'jackhol', 'jacki', 'jackman', 'jackmulholland1', 'jackperu1', 'jackson', 'jacksonvil', 'jackwilsher', 'jaclynsonn', 'jacqu', 'jacqui', 'jade', 'jadehelm15', 'jag', 'jagexhelpdibi', 'jagexsupport', 'jagm', 'jaiden', 'jail', 'jailbreak', 'jaileen', 'jak', 'jakarta', 'jake', 'jakeadavi', 'jakeblight', 'jakegint', 'jam', 'jamaica', 'jamaican', 'jame', 'jamesjustu', 'jamessnyder22', 'jami', 'jamiegriff97', 'jamieny', 'jamilazzaini', 'jammu', 'jan', 'janata', 'janeenorman', 'janenelson097', 'janic', 'janiethekillr', 'jannellix0', 'jannet2208', 'janta', 'januari', 'jap', 'japan', 'japanes', 'japanjapan', 'jar', 'jare', 'jariana', 'jarmusch', 'jasalhad', 'jasmin', 'jasminehuerta24', 'jason', 'jasoncundy05', 'jasonfloyd', 'jasonpope2', 'jaureguiswisdom', 'java', 'jawan', 'jax', 'jay', 'jaycootchi', 'jaydennotjar', 'jaylenejoybeligan', 'jaymcleanauthor', 'jazz', 'jbouie', 'jbumzqpk', 'jcomans', 'jdabe80', 'jealou', 'jean', 'jeannamibian', 'jeannathoma', 'jeb', 'jebbush', 'jedi', 'jeep', 'jeepsunk', 'jeesss', 'jeez', 'jeff', 'jefferson', 'jeffpalmer16', 'jen', 'jengriffinfnc', 'jenna', 'jennasjem', 'jennellensbb', 'jenner', 'jennif', 'jennife29916207', 'jenniferarri', 'jeremydun', 'jerkfac', 'jeromekem', 'jerri', 'jersey', 'jerusalem', 'jess', 'jessicastclair', 'jessienojok', 'jessienovoa', 'jessienovoarp', 'jesu', 'jet', 'jetengin', 'jetixrestor', 'jetstar', 'jew', 'jewel', 'jewelri', 'jewhaditm', 'jewish', 'jewishpress', 'jez', 'jfb', 'jfc', 'jhaustin', 'jhmnye', 'jiahahahha', 'jihad', 'jihadi', 'jim', 'jimin', 'jimmi', 'jimmozel', 'jimskiv92', 'jinx', 'jishin', 'jitsu', 'jitter', 'jiwonl', 'jjdirti', 'jkl', 'jlabuz', 'jlester34', 'jmastrodonato', 'jmcwrite', 'job', 'joboozoso', 'jocelyn', 'joe', 'joedawg42', 'joegoodmanjr', 'joel', 'joelsherman1', 'joestrong', 'joeybats19', 'joeysterl', 'jogger', 'johannesburg', 'john', 'johndcgow', 'johnejefferson', 'johnfromcranb', 'johnfugelsang', 'johngreen', 'johnjcampbel', 'johnni', 'johnson', 'johnsontionn', 'join', 'joint', 'joinvroom', 'joke', 'jokin', 'joli', 'jollyjinu', 'jon', 'jona', 'jonathan', 'jone', 'jones94kyl', 'jonesboro', 'jonesluna', 'joonma', 'jordan', 'jorrynja', 'jose', 'josebasedgod', 'joseph', 'josephjett', 'josephu', 'josh', 'joshacagan', 'joshcorman', 'joshlado', 'joshsternberg', 'joshua', 'joshuaassaraf', 'josi', 'jota', 'journal', 'journalist', 'journey', 'journo', 'joxroundt', 'joy', 'joyner', 'jozerphin', 'jp', 'jpanzar', 'jr', 'jrlallo', 'jrowah', 'js', 'jsdf', 'jst', 'jsunnew', 'jtruff23', 'jtw', 'ju', 'juan', 'juanmthompson', 'juanni', 'juda', 'judemugabi', 'judg', 'judgement', 'judici', 'judith', 'judson1360', 'juic', 'juici', 'juke', 'jul', 'juli', 'julian', 'julianlag', 'juliechen', 'juliekragt', 'juliet', 'jump', 'jumper', 'jumpin', 'jun', 'junction', 'june', 'juneau', 'jungl', 'junk', 'junko', 'junsuisengen', 'jupit', 'juri', 'juror', 'jusreign', 'jusstdoitgirl', 'just', 'justaguess', 'justic', 'justicemalala', 'justifi', 'justin', 'justinbieb', 'justinejayyy', 'justinl', 'justintrudeau', 'justjon', 'justsay', 'justthebottl', 'jwalkerlyl', 'jyheffect', 'k', 'k2', 'k3', 'kabarmesir', 'kaboom', 'kabul', 'kabwandi', 'kach', 'kadiegrr', 'kaduna', 'kai', 'kain', 'kainyusanagi', 'kaiseiw', 'kaiser', 'kakajambori', 'kakeru', 'kaldi', 'kalinandmyl', 'kalinwhit', 'kall', 'kallemattson', 'kalmikya', 'kamayani', 'kamchatka', 'kamindoz', 'kamkasteiiano', 'kamloop', 'kamon', 'kamunt', 'kane', 'kanger', 'kanglaonlin', 'kansa', 'kany', 'kaotixblaz', 'kapokekito', 'kappa', 'kaputt21', 'karachi', 'karen', 'karijob', 'karinagarciaxo', 'karlsruh', 'karma', 'karnakarank', 'karnal', 'karnythia', 'karymski', 'kasab', 'kasabw', 'kasad1lla', 'kash', 'kashmir', 'kasiadear33', 'kasiakosek', 'kasich', 'kasitaroch', 'katherin', 'kathrynschulz', 'katiecool447', 'katiekatcub', 'katramsland', 'katrina', 'katt', 'katterpì', 'katunew', 'kay', 'kayla', 'kaylak369', 'kbak', 'kbeastx', 'kc', 'kc5kh', 'kca', 'kcarosawmur', 'kcrw', 'ke', 'keampurley', 'kebab', 'keegan', 'keegan172', 'keen', 'keep', 'keeper', 'keepingtheviginaclean', 'keit', 'keith', 'keithboykin', 'keithyy', 'keithyyl', 'kelbi', 'kelbytomlinson', 'kelli', 'kellkan', 'kellogg', 'kellyannwx', 'kelworldpeac', 'kemalatlay', 'kenai', 'kendal', 'kendraleigh13', 'kenji', 'kennedi', 'kennel', 'kenneth', 'kennethbau', 'kenni', 'kenosha', 'kenya', 'kept', 'keratin', 'kerenserpa', 'kern', 'kerri', 'kerrick', 'kerrykatona7', 'kesabaran', 'kessili', 'kessler', 'kettlebel', 'keurig', 'kevin', 'kevinbacon', 'kevinedwardsjr', 'kevr7', 'key', 'kezi9', 'kfc', 'kfvs12', 'kg4vaal', 'kgb', 'khadidon', 'khaki', 'khalidkkazi', 'khan', 'khq', 'khqa', 'khrone', 'khulna', 'khuzdar', 'ki', 'kia', 'kick', 'kid', 'kiddi', 'kiddo', 'kidicalmassdc', 'kidnap', 'kidney', 'kidscompani', 'kidstheseday', 'kierannicholson', 'kiernan', 'kiev', 'kijan', 'kijangbank', 'kijimamatako', 'kike', 'kill', 'killer', 'killhard', 'killin', 'killson', 'kimkardashian', 'kind', 'kinda', 'kinder', 'kindermorgan', 'kindersley', 'kindl', 'kindli', 'kindof', 'kinesiolog', 'kinet', 'king', 'kingdom', 'kinggerudo', 'kingmyth1999', 'kingnaruto', 'kinkyconnor', 'kirafrog', 'kiranahmedd', 'kircut1', 'kiri', 'kirkmin', 'kiro7seattl', 'kirsten', 'kirstiealley', 'kisii', 'kiss', 'kissimme', 'kit', 'kitana', 'kitchen', 'kith', 'kitten', 'kiwikaryn', 'kjforday', 'klarajoelsson', 'klavierstuk', 'klimkin', 'klitschko', 'klondik', 'km', 'kmactwn', 'kmatakobot', 'kml', 'knee', 'kneel', 'kneelbot', 'knew', 'knife', 'knight', 'knive', 'kno', 'knob', 'knobhead', 'knock', 'knockout', 'knott', 'know', 'knowlddg', 'knowledg', 'known', 'knox', 'knoxvil', 'knw', 'knx1070', 'kodak', 'kodi', 'kodiak', 'koin', 'koin6new', 'kombat', 'kombatfans33', 'komen', 'komo', 'kontrol', 'kook', 'kopiteluke1892', 'korea', 'korean', 'kororinpa', 'korzhonov', 'kosciusko', 'kosher', 'kota', 'kotolili', 'kotowsa', 'kou', 'koz', 'kp', 'kpcc', 'kpdi', 'kppolic', 'kraft', 'krefeld', 'kristenkoin6', 'kristindavi', 'kristyleemus', 'kro', 'ks', 'ks100', 'ks111', 'ks161', 'ks315', 'ks57', 'ks94', 'ksbynew', 'kshllcenterpri1', 'ktfounder', 'kttape', 'kuala', 'kulli', 'kunalkapoor', 'kung', 'kunstler', 'kurd', 'kurdish', 'kurdistan', 'kurokobot', 'kurt', 'kurtkamka', 'kushwush', 'kuualohax', 'kuwait', 'kuznetsova', 'kwaaaaa', 'kwislo', 'kwwwkwwwk', 'ky', 'kyee', 'kyle', 'kylekrenek', 'kylewappl', 'kynespeac', 'kyrikoni', 'l', 'l4', 'l6', 'l9udest', 'la', 'lab', 'label', 'labor', 'laboratori', 'labour', 'labourleadership', 'lace', 'lack', 'lad', 'laden', 'ladi', 'ladin', 'ladyfleur', 'laevantin', 'lafayett', 'lag', 'lago', 'laid', 'laighign', 'lake', 'lakeisabella', 'lakh', 'lalaloopsi', 'lamarcu', 'lamb', 'lambast', 'lame', 'lamha', 'lamp', 'lan', 'lana', 'lanc', 'lancast', 'lancasteronlin', 'land', 'landfal', 'landi', 'landolina', 'landown', 'landscap', 'landsli', 'landslid', 'lane', 'lanford', 'langata', 'langley', 'langtre', 'languag', 'languish', 'lanjut', 'lansdown', 'lantiqua', 'lao', 'laoi', 'lap', 'lapaka', 'laphamsquart', 'laps', 'lara', 'larg', 'larger', 'largest', 'lariou', 'lash', 'lasiren', 'lassic', 'last', 'lasting', 'lastma', 'lasvegasloc', 'late', 'latechwatch', 'later', 'latest', 'latestnew', 'latim', 'latin', 'latina', 'latino', 'latinoand', 'lattic', 'laud', 'laudner', 'laugh', 'laughtrad', 'launch', 'laundri', 'laura', 'lauradeholanda', 'laurathorne97', 'lauren', 'laurenjauregui', 'laurenmiller7', 'laurensicl', 'laurent', 'lava', 'lavapixcom', 'lavatori', 'lavend', 'law', 'lawfulsurvivor', 'lawn', 'lawneglig', 'lawrenc', 'lawsonoffici', 'lawsuit', 'lawton', 'lawx', 'lawyer', 'lax', 'lay', 'layer', 'laylovetournay', 'layout', 'lbr', 'lcb', 'lcc', 'ld', 'ldnr', 'le', 'lead', 'leader', 'leadership', 'leaf', 'leagu', 'leak', 'lean', 'leandotorg', 'learn', 'learni', 'leashless', 'least', 'leather', 'leav', 'lebanon', 'led', 'ledofficial1', 'lee', 'leed', 'leedsroug', 'leedstraif', 'leejasp', 'leelanau', 'left', 'lefti', 'leftwich', 'leg', 'legaci', 'legacyofthesith', 'legal', 'legend', 'legendari', 'legio', 'legion', 'legionna', 'legionnair', 'legionnairesdiseas', 'legionstrackandfield', 'legisl', 'legislatur', 'legit', 'legitim', 'legna989', 'lego', 'leh', 'leiaorganasolo', 'leicestermerc', 'leisur', 'leitchfield', 'lemairele', 'lembra', 'lemm', 'lemon', 'lemonad', 'len', 'lender', 'length', 'lenkaiswaifu', 'lennlen', 'lennonparham', 'lennox', 'lenor', 'leo', 'leoblakecart', 'leon', 'leonalewi', 'leonardvil', 'leprosi', 'ler', 'lesbian', 'lesleychappel', 'lesleymariie', 'lesnar', 'lesotho', 'less', 'lesson', 'lessonforlif', 'lest', 'let', 'letdown', 'lethal', 'lethbridg', 'letsfootbal', 'letter', 'level', 'levi', 'lewi', 'lexi', 'lexipurdue', 'lez', 'lga', 'lgbt', 'lgl', 'lgm', 'lhh', 'lhmovi', 'liabil', 'liabl', 'liananovoa', 'liar', 'lib', 'libbi', 'liber', 'libertarianluk', 'liberti', 'libertybell1000', 'libertygeek83', 'librari', 'libraryeliza', 'libya', 'libyan', 'licens', 'lich', 'lickin', 'lie', 'lieu', 'life', 'lifeaintfairkid', 'lifeguard', 'lifehack', 'lifeit', 'lifelettercaf', 'lifelin', 'lifelong', 'lifestyl', 'lifetim', 'lift', 'light', 'lightbulb', 'lighten', 'lighter', 'lightli', 'lightman', 'lightn', 'lightningooc', 'lightningstrik', 'lightningwolf', 'lightrail', 'lightseraph', 'lightumupbeast', 'liguist', 'like', 'likeavillasboa', 'liken', 'lil', 'lili', 'lilitan', 'lilithsaintcrow', 'lilourri', 'lilreese300', 'lim', 'lima', 'limeston', 'limit', 'limpar33', 'lincoln', 'lind', 'lindasocvat', 'linden', 'lindenow', 'lindsay', 'lindsaywynn3', 'line', 'linerless', 'link', 'linkedin', 'linkuri', 'lion', 'lionel', 'lip', 'lipstick', 'liqd', 'liquid', 'lisatoddsutton', 'lisavanderpump', 'lisowski', 'lisp', 'list', 'listen', 'listenl', 'listeria', 'listia', 'lit', 'litani', 'lite', 'liter', 'literari', 'literatur', 'lith', 'lithium', 'litter', 'littl', 'littlebitofbass', 'littlewomenla', 'liv', 'livagotta', 'live', 'liveleak', 'livelihood', 'livemint', 'liveonkbak', 'liveonstream', 'liver', 'liverpool', 'livesci', 'livestream', 'liveworkshop', 'livin', 'liy', 'lizard', 'lizbon', 'lizhphoto', 'lizzie363', 'lk', 'll', 'llegast', 'llf', 'lloyd', 'lmao', 'lmfao', 'lmfaooo', 'lmfaoooo', 'ln', 'lnp', 'lo', 'loa', 'load', 'loaf', 'loan', 'loath', 'lobbi', 'loboparanoico', 'local', 'localarsonist', 'locat', 'lock', 'lockdown', 'locker', 'lockewiggin', 'locksmith', 'locomot', 'locust', 'lodisilverado', 'log', 'logan', 'logic', 'logist', 'logo', 'loki', 'loko', 'lol', 'lolatjesu', 'lolgop', 'lolla', 'lollapalooza', 'lollyknick', 'lolo', 'lolol', 'lomasvisto', 'london', 'london3', 'lone', 'lonely', 'lonepin', 'loner', 'lonewolffur', 'long', 'longaberg', 'longbreastyat', 'longer', 'longest', 'longev', 'loo', 'look', 'lookg', 'lookss', 'looney', 'looooool', 'looooooooooool', 'loop', 'loos', 'looser', 'loot', 'looter', 'lopez', 'lopezandthelion', 'lord', 'lordbrathwait', 'lordofbetray', 'lordrsbiscuit', 'lore', 'loretta', 'lorr', 'lorri', 'losangel', 'losangelestim', 'lose', 'loseit', 'loser', 'loss', 'lost', 'lot', 'lotg', 'lotz', 'lou', 'loud', 'louder', 'loudest', 'loughe', 'loui', 'louistomlinson', 'loupascal', 'love', 'lovefood', 'loveislov', 'lovelylikelaura', 'lovemydentist', 'lovemyjob', 'lovemywife1983', 'lover', 'loveyouuuu', 'low', 'lower', 'lowkey', 'lowli', 'lownd', 'loyalti', 'lpdkl', 'lrt', 'ls', 'lt', 'lt3dave', 'ltz', 'lu', 'lubbock', 'lubric', 'luca', 'lucha', 'lucif', 'lucio', 'luck', 'lucki', 'lucymayoffici', 'lucypalladino', 'lucysforsal', 'luhan', 'lui', 'luiz', 'lujo', 'luka', 'luke', 'luke5so', 'lukebox', 'lukewinki', 'lulgzimbestpict', 'lulu', 'lumbar', 'lume', 'lumixusa', 'lumpur', 'lunasagal', 'lunch', 'lung', 'lungcanc', 'lure', 'lurkin', 'luv', 'luzukokoti', 'lvg', 'lvl', 'lwb', 'lwilliams13', 'ly', 'lyeh', 'lyf', 'lyme', 'lynch', 'lynchburg', 'lynchonsport', 'lyndon', 'lyric', 'lyrium', 'lzk', 'lzkeli', 'lzktjnox', 'm', 'm00nf00l', 'm1', 'm151a1', 'm27329', 'm3', 'm4', 'm416', 'm5', 'm6x1', 'm8', 'ma', 'ma3rout', 'maaaaan', 'maailiss', 'maatmhi', 'mac', 'maca', 'macabrelolita', 'macbreck', 'macdaddyleo', 'machida', 'machin', 'machinegunkelli', 'machismo', 'macia', 'mackayim', 'mackinnon08', 'macon', 'mad', 'madara', 'maddddd', 'maddi', 'made', 'madhya', 'madinah', 'madison', 'madisonpa', 'madmakni', 'madonnamk', 'mafia', 'mafireem', 'mag', 'magazin', 'mage', 'mageavexi', 'magellan', 'magginoodl', 'magic', 'magichairbump', 'magist', 'magn', 'magner', 'magnet', 'magnific', 'magnitud', 'magnitudeml', 'magnum', 'magog', 'magu', 'mahalo', 'maid', 'maiga', 'mail', 'mailonlin', 'main', 'mainland', 'mainli', 'mainlin', 'mainstag', 'maintain', 'mainten', 'maj', 'majesti', 'major', 'make', 'maker', 'maketh', 'makewaterwork', 'makinmemori', 'malabamiandson', 'malaysia', 'malaysian', 'male', 'malik', 'malistkiss', 'mall', 'mallord', 'malt', 'malta', 'mama', 'mamata', 'man', 'manag', 'manarm', 'manchest', 'manchesterlit', 'mandat', 'mandatori', 'mandela', 'mandem', 'mandi', 'mane', 'manga', 'mango', 'manhood', 'mani', 'mania', 'manifest', 'manit', 'mankind', 'manli', 'mannequin', 'manner', 'manor', 'mansehra', 'manserv', 'mansion', 'manslaught', 'mantra', 'manual', 'manuel', 'manufactur', 'manur', 'manutd', 'manzanita', 'map', 'mapl', 'mapleridg', 'mapmyrun', 'mar', 'maratha', 'marbl', 'marc', 'march', 'marchol', 'marcoar', 'marek', 'marek1330', 'marg', 'margaret', 'margarita', 'marginoferror', 'mari', 'maria', 'mariaf30', 'mariah', 'mariahcarey', 'marian', 'mariankey', 'mariasherwood2', 'marijuana', 'marilyn', 'marin', 'marinad', 'marinelin', 'mariomaraczi', 'mark', 'markarg', 'marker', 'market', 'marketforc', 'marketingmediocr', 'marketwatch', 'markkriegsman', 'markoturn', 'marksmaponyan', 'markwschaef', 'marlen', 'marley', 'marleyknysh', 'marlon', 'marquei', 'marquez', 'marqui', 'marr', 'marri', 'marriag', 'marshal', 'mart', 'martial', 'martinmj22', 'martynwait', 'martyr', 'marvel', 'marvin', 'marxism', 'maryland', 'marynmck', 'mascara', 'mash', 'mashup', 'mask', 'masochisticmag', 'mason', 'masonit', 'mass', 'massacr', 'massag', 'massgrav', 'massiv', 'master', 'master0fsloth', 'masterchef', 'masterpiec', 'masturb', 'mat', 'mataa', 'matako3', 'matakomilk', 'match', 'matchwood', 'mate', 'mateo', 'materi', 'math', 'mathewisangri', 'matia', 'matt', 'mattbez', 'mattburgen', 'mattcohen4fak', 'matter', 'matthew', 'mattingli', 'mattkroschel', 'mattress', 'mattson', 'mattytalk', 'mauds99', 'maui', 'mauryn143', 'mav', 'max', 'maxi', 'maximum', 'maxsi', 'may', 'mayan', 'mayb', 'mayflow', 'mayhem', 'mayhem114', 'mayonnais', 'mayor', 'mayoroflondon', 'mayweath', 'mazda', 'maze', 'mb', 'mba', 'mbataweel', 'mbiwa', 'mc', 'mccain', 'mccainenl', 'mccauleysdesign', 'mcclain', 'mcconnel', 'mccormick', 'mcdonald', 'mcfadden', 'mcfaul', 'mcgsecur', 'mcgwire', 'mchapmanwsaz', 'mchenri', 'mcilroy', 'mclaughlin', 'mcmahon', 'mcnabbych', 'mcourt', 'mcpherson', 'mcr', 'mcv', 'md', 'mdash', 'mdt', 'me', 'mead', 'meaganerd', 'meal', 'mean', 'meaningless', 'meant', 'meanwhil', 'measl', 'measur', 'meat', 'mechamacgyv', 'mechan', 'mechanicsburg', 'med', 'medal', 'meddl', 'media', 'media420', 'mediaguido', 'median', 'medic', 'medic914', 'medicin', 'mediev', 'medinah', 'medit', 'meditationbymsg', 'mediterran', 'mediterranean', 'medium', 'medusa', 'meek', 'meellltt', 'meerkat', 'meet', 'meetkakarotto', 'meg', 'mega', 'megadeth', 'megalpoli', 'megan', 'meganbee92', 'megancoopi', 'megaquak', 'megatronafc', 'megyn', 'meinl', 'melani', 'melissaross9847', 'mello', 'melris', 'melt', 'meltdown', 'melvil', 'member', 'membuahkan', 'meme', 'memenaar', 'memor', 'memori', 'memphi', 'men', 'menahem', 'menciu', 'menolippu', 'menswear', 'mental', 'mentalhealthgov', 'mention', 'meow', 'mercado', 'mercenari', 'merchant', 'merci', 'mercuri', 'mere', 'merg', 'merl', 'merycormi', 'mesh', 'meshnewsdesk', 'mesick', 'mesmer', 'mess', 'messag', 'messeng', 'messeymetoo', 'messi', 'messiah', 'messnermatthew', 'met', 'metal', 'metallica', 'metaphor', 'metastat', 'meteoearth', 'meteor', 'metepec', 'meter', 'method', 'metlif', 'metr', 'metric', 'metro', 'metrobu', 'metrofmtalk', 'metroid', 'metropoli', 'metropolitan', 'metrotown', 'meturn', 'mexican', 'mexico', 'meyerbjoern', 'mezcal', 'mf', 'mfalcon21', 'mfi', 'mfrwauthor', 'mgm', 'mgn', 'mgr', 'mgs2', 'mgtab', 'mh', 'mh17', 'mh370', 'mhmmm', 'mht', 'mhtw4fnet', 'mi', 'mia', 'miami', 'mic', 'michael', 'michael5so', 'michaelgbaron', 'michaelwestbiz', 'michel', 'michelenfpa', 'michelleell', 'michigan', 'mickinyman', 'micom', 'micountryhick', 'microb', 'microchip', 'microlight', 'microphon', 'microsoft', 'microwav', 'mid', 'middl', 'middleeastey', 'mideast', 'midfield', 'midg', 'midget', 'midnight', 'mido', 'midst', 'midsumm', 'midtown', 'midweek', 'midwest', 'mievil', 'might', 'migrain', 'migrant', 'migrat', 'mihirssharma', 'mike', 'mikecroninwmur', 'mil', 'mild', 'mile', 'mileena', 'milf', 'mili5499', 'milioooo', 'milit', 'milita', 'militar', 'militari', 'militarydotcom', 'militia', 'milk', 'milkshak', 'mill', 'millcityio', 'milledgevil', 'millennium', 'million', 'miln', 'milwauke', 'min', 'mina', 'minaj', 'minamisoma', 'mind', 'mindless', 'mindmischief', 'mindset', 'mine', 'minecraft', 'miner', 'mingo', 'minhaz', 'mini', 'miniatur', 'minim', 'minimehh', 'minimum', 'minion', 'minist', 'ministri', 'mink', 'mino', 'minor', 'minsuwoong', 'mint', 'minu', 'minuscul', 'minut', 'minutia', 'mipasho', 'miprv', 'mir', 'miracl', 'mirad', 'mirag', 'mirkwood', 'mirmanda11', 'mirror', 'mirrorlady2', 'miscalcul', 'misdirect', 'miseri', 'misfit', 'misfitrar', 'misfortunebut', 'misguid', 'misha', 'mishap', 'misl', 'miss', 'missambear', 'missdaoh', 'misshomasttopa', 'missi', 'missil', 'mission', 'mississauga', 'mississippi', 'missjadebrown', 'missleylaha', 'missouri', 'misstep', 'mistak', 'mistaken', 'misti', 'mistreat', 'mistress', 'mistresspip', 'mistrust', 'mithitenni', 'mitig', 'mitt', 'mix', 'mixifi', 'mixtap', 'mixxtail', 'miyagi', 'mizuta', 'mizzou', 'mk', 'mk2', 'mkayla', 'mkx', 'ml', 'mlb', 'mlg', 'mlk', 'mlm', 'mlrydalch', 'mlstransfer', 'mm', 'mma', 'mmchale13', 'mmda', 'mmfa', 'mmk', 'mmmm', 'mmmmmm', 'mmo', 'mn', 'mo', 'moan', 'mobil', 'moblin', 'mochichiiiii', 'mock', 'mockeri', 'mockingpanem', 'mod', 'mode', 'model', 'modelbubbl', 'moder', 'modern', 'modest', 'modestmouseremix', 'modi', 'modibo', 'modifi', 'modnao23', 'modoc', 'moe', 'mofanon', 'mofo', 'mogacola', 'moham', 'moir', 'moist', 'molav', 'mold', 'mole', 'molecularli', 'moli', 'molloy', 'mollythetanz', 'molten', 'mom', 'moment', 'mommi', 'mommyisbomb', 'momneedscoffe', 'mon', 'monarchi', 'monday', 'monetari', 'money', 'monica', 'monitor', 'monkey', 'monogram', 'monologu', 'monopol', 'monoton', 'monro', 'monsoon', 'monster', 'monstros', 'montalbanoni', 'montana', 'montego', 'montetjwitter11', 'montgomeri', 'month', 'monthli', 'monti', 'montroseband', 'monwabisi', 'mood', 'moon', 'moonbeam', 'mooniighthunti', 'moonlight', 'moor', 'mooresvil', 'moorlandschmbr', 'mop', 'mophem', 'moral', 'morbid', 'morbidmovi', 'mordechai', 'more', 'morebut', 'morehouse64', 'morel', 'moreland', 'morethan', 'morevoic', 'morgan', 'morganit', 'morganlawgrp', 'moriah', 'mormon', 'morn', 'morningjo', 'morocco', 'moron', 'mortal', 'mortar', 'morti', 'mortifi', 'moscow', 'moscowghost', 'mosebi', 'mosh', 'moshav', 'mosley', 'mosqu', 'mosquito', 'most', 'moth', 'mother', 'mothernatur', 'mothernaturenetwork', 'motion', 'motiv', 'motley', 'motogp', 'motor', 'motorcraft', 'motorcycl', 'motorcyclist', 'motordom', 'motorist', 'motorsport', 'mould', 'mount', 'mountain', 'mountwario', 'mourn', 'mous', 'mouss', 'mouth', 'move', 'moveit', 'movement', 'movi', 'movietheatr', 'moving2015', 'movt', 'moyo', 'mp', 'mp3', 'mpc', 'mper', 'mph', 'mpp', 'mprnew', 'mr', 'mraamirjavaid', 'mrc', 'mre', 'mrmikeeaton', 'mrrobinson', 'mrsbinker', 'mrtophypup', 'mrw', 'ms', 'msf', 'msfsea', 'msgdoing111welfarework', 'msmiggi', 'msmigot', 'msnbc', 'msoreo', 'mt', 'mta', 'mtgrotto', 'mthe', 'mtr', 'mtsalert', 'mtv', 'mtvsummerstar', 'muaytai', 'muazimusprim', 'much', 'mud', 'mudslid', 'mueller', 'mufc', 'muffl', 'mug', 'muhamadjab', 'muhammad', 'mukilteo', 'mulan', 'mulberri', 'mullah', 'mullin', 'multi', 'multidimensi', 'multidimension', 'multipl', 'multiplay', 'mum', 'mumbai', 'mumbai24x7', 'mumbailoc', 'mumbairiot92', 'mumbaitim', 'mumbl', 'munch', 'munclejim', 'municip', 'muppet', 'murder', 'murfreesboro', 'murlo', 'murphi', 'muschamp', 'muscl', 'muse', 'museawayf', 'museum', 'mushroom', 'music', 'music212', 'musicadvisori', 'musician', 'musicvideo', 'musik', 'musk', 'muslim', 'must', 'mustachemurs', 'mustard', 'muster', 'mutant', 'mute', 'mutekmontr', 'mutil', 'mutt', 'muttatek', 'mutual', 'muzzamil', 'muzzi', 'mv', 'mwednesday', 'mwjcdk', 'mwlippert', 'mwnhappi', 'mx', 'mxaaaa', 'my', 'myanmar', 'mybabi', 'mycar', 'mydrought', 'myelf', 'myfitnessp', 'myfriendmina', 'mygc', 'mylifestori', 'mylittlepwnies3', 'mypillowstudio', 'myreligion', 'myrtlegroggin', 'mysteri', 'mystic', 'myth', 'mythgriy', 'myvintagesoul', 'mzgraciebabi', 'mzmandilynn', 'n', 'n15b', 'na', 'naaa', 'naayf', 'nade', 'naemolgo', 'nafeezahm', 'nagasaki', 'nagaski', 'nagelashley', 'nah', 'nail', 'najib', 'najibrazak', 'nake', 'nalathekoala', 'name', 'namekian', 'namjoon', 'nan', 'nana', 'nank', 'nankana', 'nanotech', 'naomi', 'nap', 'nar', 'narciss', 'narendra', 'narr', 'narrat', 'narri', 'narrowli', 'nasa', 'nashhmu', 'nashsnewvideo', 'nashvil', 'nashvillefd', 'nashvilletraff', 'nasti', 'nat', 'natali', 'natalia', 'nataliealund', 'natasharideout', 'nate', 'natgeo', 'nathan', 'nathanfillion', 'nation', 'nativ', 'nativehuman', 'nato', 'natsnat', 'natsu', 'natur', 'naturaldisast', 'naturalexampl', 'natwest', 'naval', 'navbl', 'nave', 'navi', 'navig', 'navista7', 'nawh', 'naypyidaw', 'nazi', 'nb', 'nba', 'nbanew', 'nbc', 'nbc10', 'nbc15', 'nbcnew', 'nbcnightlynew', 'nbcpolit', 'nbn', 'nc', 'ncm', 'ncwx', 'nd', 'nda', 'ndetent', 'ndtv', 'ndzedz', 'ne', 'neal', 'neanderrebel', 'neanea2724', 'near', 'nearbi', 'nearli', 'neat', 'nece', 'necessari', 'neck', 'necn', 'necro', 'need', 'needl', 'neeli', 'neg', 'negara', 'neglect', 'negoti', 'negro', 'neighbor', 'neighborhood', 'neighbour', 'neil', 'neileastwood77', 'neither', 'nelson', 'nema', 'nemesiskp', 'nennicook', 'neon', 'neoprogressive1', 'nepal', 'nepdloyko', 'nephew', 'nerv', 'nervana1', 'nervou', 'nester', 'nestl', 'net', 'netanyahu', 'netflix', 'netkicorp', 'netlabel', 'network', 'neur0si', 'nevada', 'nevaehburton33', 'never', 'neverforget', 'nevermor', 'new', 'newav', 'newbeginningsanimalrescu', 'newberg', 'newbi', 'newciti', 'newep', 'newest', 'newhart2010', 'newheight', 'newidea', 'newli', 'newlyw', 'newport', 'newreleas', 'news', 'news24680', 'news3lv', 'news4buffalo', 'news786', 'newsarama', 'newscomauhq', 'newsdict', 'newser', 'newsinsid', 'newspap', 'newswatch', 'newyear', 'newyork', 'newyorkc', 'next', 'nexu', 'nf', 'nffc', 'nfl', 'nflexpertpick', 'nfpa', 'ng2x5', 'ngata', 'nghlth', 'nh', 'nh1new', 'nhl', 'nhlduck', 'nia', 'niagara', 'niall', 'niallhariss', 'niamhosullivanx', 'nic', 'nice', 'nick', 'nickcocofre', 'nicki', 'nicklee8', 'nickscom', 'nicol', 'nicolaclements4', 'nicolekidman', 'niec', 'nieuw', 'nigeltanner1', 'nigeria', 'nigerian', 'nigga', 'nigh', 'night', 'nightbeat', 'nightmar', 'nightmarish', 'nightmarishli', 'niiiic', 'nike', 'nikistitz', 'nikki', 'nikoniko12022', 'nikostar', 'nine', 'ninja', 'nino', 'nintendo', 'niqqa', 'nissan', 'nissannew', 'nitclub', 'nite', 'nitishkumar', 'nitroglycerin', 'nitti', 'nixon', 'nj', 'nj36', 'njenga', 'nkea', 'nkeajresq', 'nkulw', 'nl', 'nlccollid', 'nlmdimrc', 'nlwx', 'nm', 'nne', 'nno', 'nnw', 'no', 'noaa', 'noah', 'noahanynam', 'noahcrothman', 'noahj456', 'noahshack', 'nobleman', 'nobodi', 'noch', 'nochilllukeham', 'nockthi', 'noel', 'noemot', 'noi', 'noiran', 'nois', 'nojok', 'nola', 'nolesfan05', 'nomin', 'nomiya', 'non', 'none', 'nonprofit', 'nonucleariran', 'noob', 'noodl', 'nook', 'noonan', 'noooo', 'noooooooo', 'noooooooooooo', 'nope', 'noperiferico', 'nopow', 'nora', 'noranda', 'norfolk', 'norge2040', 'normal', 'norman', 'nors', 'nort', 'north', 'northampton', 'northbayhealth', 'northbound', 'northeast', 'northern', 'northerncalifornia', 'northgat', 'northland', 'northumberland', 'northumbria', 'northwest', 'northwestern', 'norwaymfa', 'nose', 'nosso', 'nostalgia', 'nostril', 'nosyb', 'not', 'note', 'notgoingoutinthat', 'noth', 'nother', 'nothing', 'notic', 'notif', 'notifi', 'notificationsu', 'notion', 'notley', 'notori', 'notorieti', 'notpan', 'notr', 'notrocketsci', 'nottingham', 'nout', 'nov', 'nova', 'novalismi', 'novel', 'novemb', 'now', 'nowher', 'nowplay', 'nowt', 'nowwwwww', 'noxdv', 'noxiou', 'np', 'nprfreshair', 'nra', 'nrc', 'nrcmiddleeast', 'nri', 'nro', 'ns', 'nsa', 'nsf', 'nsfw', 'nside', 'nsit', 'nsw', 'ntsb', 'ntvde', 'nu', 'nuclear', 'nuclearweapon', 'nude', 'nueva', 'nuff', 'nugget', 'nuh', 'nui', 'nuke', 'number', 'nurgl', 'nurs', 'nut', 'nutsandboltssp', 'nuu', 'nuy', 'nv', 'nvr', 'nw', 'nwo', 'nwsbayarea', 'nwspocatello', 'nwt', 'nxwestmidland', 'ny', 'ny1', 'ny1burst', 'ny35', 'nyack', 'nyc', 'nycbuild', 'nycdivorcelaw', 'nycfc', 'nycha', 'nyg', 'nyka', 'nylon', 'nyozi', 'nypd', 'nypdnew', 'nyse', 'nyt', 'nytim', 'nz', 'nå¼36', 'o', 'o784', 'oak', 'oakridg', 'oamsgajagahahah', 'obama', 'obedi', 'obispo', 'object', 'oblig', 'obligatori', 'obliter', 'oblivi', 'obscur', 'observ', 'obsess', 'obsolet', 'obstacl', 'obta', 'obvious', 'oc', 'oc73x', 'ocalan', 'ocampo', 'occas', 'occasion2b', 'occup', 'occur', 'occurr', 'ocd', 'ocean', 'ocnj', 'oct', 'oct336', 'odai', 'odd', 'oddbal', 'ode', 'odel', 'odeon', 'oef', 'oem', 'of', 'ofclan', 'ofcours', 'ofentsetsi', 'off', 'offend', 'offens', 'offer', 'offic', 'officeofrg', 'offici', 'officialcoredj', 'officialmqm', 'officialrealrap', 'officialtjonez', 'offlin', 'offload', 'offr', 'offramp', 'offroad', 'offshoot', 'offshor', 'offsid', 'offsit', 'offspr', 'offtrackhors', 'offv', 'ofici', 'ofnsixjk', 'ofr', 'often', 'ogt', 'ogtomd', 'ogun', 'oh', 'ohgod', 'ohh', 'ohhhh', 'ohhmyjoshh', 'ohhsehun', 'ohio', 'ohlordi', 'ohmygoshi', 'ohmyloz', 'ohyayyyyay', 'oi', 'oif', 'oil', 'oilandga', 'ojoubot', 'ok', 'okanagan', 'okanowa', 'okay', 'okayyyyyi', 'okcfox', 'okgabbi', 'okgoon', 'okinawa', 'okinawan', 'okla', 'oklahoma', 'oktaviana', 'oktxduo', 'okwx', 'ol', 'olap', 'old', 'older', 'oldest', 'oli', 'oliv', 'oliviaann', 'oliviaapalmerr', 'oliviamiles01', 'olliebailey11', 'ollymursau', 'olrul', 'olsen', 'olymp', 'olympia', 'omagazin', 'omaha', 'omar', 'omarmolina036', 'ombudsmanship', 'omega', 'omfg', 'omg', 'omgbethersss', 'omgggg', 'omron', 'omw', 'on', 'onboard', 'onc', 'one', 'oneborn', 'onegreenplanet', 'oneheartonemindonecss', 'oneself', 'onesi', 'onfireand', 'onihimedesu', 'onion', 'onli', 'onlin', 'onlinea', 'onlinemalaysia', 'onlyftf', 'onnnn', 'onr', 'onshit', 'ontario', 'onthisday', 'onto', 'onufr', 'onå', 'oo', 'oocvg', 'ooh', 'oomf', 'oompah', 'oooh', 'ooohshit', 'ooooohshit', 'oooooohhhh', 'ooour', 'oop', 'ootd', 'op', 'opal', 'ope', 'open', 'openli', 'oper', 'opera', 'ophelia', 'ophiuchus2613', 'opinion', 'opp', 'oppa', 'opportun', 'oppos', 'opposit', 'oppress', 'oprah', 'opseaworld', 'optic', 'optich3cz', 'opticscump', 'optim', 'optimist', 'option', 'opu', 'or', 'oracl', 'oral', 'orang', 'orangi', 'orapinforma', 'orbett', 'orca', 'orch', 'orchard', 'orchardalley', 'orchestr', 'orchid', 'orcot', 'ordain', 'order', 'oregon', 'org', 'organ', 'organicallyrud', 'ori', 'orianna', 'origin', 'ornament', 'orphanag', 'orpik', 'orpol', 'orshow', 'ortiz', 'oryx', 'os', 'osag', 'osama', 'osborn', 'osbourn', 'osha', 'osi2016', 'oso', 'osp', 'ossington', 'osteen', 'ostentati', 'oswalt', 'otd', 'oth', 'other', 'otherwis', 'otleyhour', 'otm', 'otp', 'otrametlif', 'otratmetlif', 'ouch', 'ought', 'oun', 'oup', 'our', 'ourmothermari', 'out', 'outag', 'outbid', 'outbound', 'outbre', 'outbreak', 'outburst', 'outcom', 'outcri', 'outdoor', 'outfield', 'outfit', 'outflow', 'outlet', 'outlook', 'outnumb', 'outrag', 'outright', 'outrun', 'outsid', 'outta', 'ouvindo', 'ouvir', 'ouwbbal', 'ov', 'ovari', 'oven', 'over', 'overal', 'overblown', 'overboard', 'overcharg', 'overcom', 'overdr', 'overflow', 'overhead', 'overhostag', 'overload', 'overlook', 'overnight', 'overpr', 'overr', 'overrun', 'overse', 'oversight', 'overtak', 'overtim', 'overtook', 'overtur', 'overturn', 'overwatch', 'overwhelm', 'overwork', 'ovo', 'ovofest', 'owen', 'owenrbroadhurst', 'own', 'owner', 'ownership', 'oworoshoki', 'oyster', 'p', 'p2', 'p45perez', 'pa', 'pace', 'paci', 'pacif', 'pack', 'packag', 'packfor', 'pacquiao', 'pact', 'pad', 'pada', 'paddytomlinson1', 'padr', 'pagasa', 'page', 'pageparkescorp', 'pageshi', 'paid', 'pain', 'paint', 'painthey', 'pair', 'pajama', 'pak', 'pakistan', 'pakistani', 'pakpattan', 'pale', 'palefac', 'palermo', 'palestin', 'palestinian', 'palin', 'palinfoen', 'palm', 'palmer', 'palmoil', 'pam', 'pamela', 'pampalmat', 'pamper', 'pan', 'panama', 'panay', 'pancak', 'panda', 'pandem', 'pandemonium', 'pandora', 'panel', 'panic', 'panick', 'panik', 'panoram', 'pant', 'pantalonesfuego', 'panther', 'panti', 'pantofel', 'papa', 'papcrdol', 'paper', 'paperback', 'paperwork', 'papi', 'papicongress', 'papiichampoo', 'par', 'para', 'paracord', 'parad', 'paradis', 'paraguay', 'paramed', 'paramor', 'paranorm', 'paratroop', 'parch', 'pardon', 'parent', 'parenthood', 'parentsacrossam', 'pari', 'parisian', 'park', 'parkchat', 'parker', 'parksboardfact', 'parley', 'parliamentari', 'parliment', 'parol', 'parr', 'parshol', 'part', 'partak', 'parter', 'parti', 'partial', 'particip', 'particul', 'particular', 'particularli', 'partner', 'partnership', 'pascal', 'pasco', 'pass', 'passeng', 'passion', 'passiv', 'password', 'past', 'pasta', 'pasti', 'pastor', 'pastur', 'pat', 'patch', 'pate', 'path', 'pathfind', 'pathogen', 'patienc', 'patient', 'patio', 'patna', 'patriciatraina', 'patrick', 'patrickjbutl', 'patrickwsl', 'patriot', 'patriotsn', 'patrol', 'patron', 'pattern', 'patton', 'pattyds50', 'paul', 'paulhollywood', 'paulista', 'paulstaub', 'pave', 'paw', 'pawsox', 'paxton', 'pay', 'payback', 'payday', 'payment', 'pb', 'pbban', 'pbcanpcx', 'pbohanna', 'pbx', 'pc', 'pcaldicott7', 'pci', 'pcp', 'pd', 'pdp', 'pdx', 'pea', 'peac', 'peaceloverescu', 'peacetim', 'peak', 'peal', 'peanut', 'pearl', 'pearlharbor', 'peasant', 'pedal', 'pedestrian', 'pediatr', 'pedro', 'pee', 'peek', 'peel', 'peep', 'peer', 'peeter', 'peic', 'pelosi', 'pen', 'penalti', 'pendleton', 'penetr', 'peninsula', 'penn', 'penney', 'penni', 'pennington', 'pennliv', 'pension', 'peopl', 'pepper', 'pepperoni', 'per', 'perceiv', 'percent', 'perfect', 'perfectli', 'perfor', 'perform', 'perhap', 'period', 'periscop', 'perish', 'peritoengrafoscopia', 'periwinkl', 'perkpearl', 'perman', 'permiss', 'permit', 'perpetr', 'perquisit', 'perri', 'perrybellegard', 'perrychat', 'persecut', 'persist', 'person', 'personalinjuri', 'personnel', 'perspect', 'pertain', 'perth', 'pestl', 'pet', 'peta', 'petchari', 'pete', 'petebest', 'petelmcguir', 'peter', 'peterborough', 'peterduttonmp', 'petereallen', 'peterhowenecn', 'peterknox', 'petersburg', 'petersen', 'petit', 'petroleum', 'petti', 'pfannebeck', 'pfft', 'pft', 'pg', 'pga', 'phalaborwa', 'phandom', 'phantasm', 'phantom', 'pharaoh', 'pharma', 'pharrel', 'phase', 'phdsquar', 'phelimkin', 'phenomen', 'phew', 'phiddlefac', 'phil', 'philadelphia', 'philip', 'philipduncan', 'philippi', 'philippin', 'philli', 'phillip', 'phillipten', 'phnotf', 'phoenix', 'phone', 'photo', 'photogen', 'photograph', 'photographi', 'photoset', 'photoshop', 'phuket', 'physic', 'physician', 'piano', 'pianohand', 'pic', 'pick', 'picken', 'pickerel', 'pickl', 'pickpocket', 'pickup', 'picthi', 'pictur', 'piec', 'pieceofm', 'pierc', 'piga', 'pigeon', 'pikachu', 'pikin', 'pile', 'pileq', 'pileup', 'pilgrim', 'pill', 'pillori', 'pillow', 'pilot', 'pin', 'pine', 'piner', 'pineview', 'pink', 'pinpoint', 'pioneer', 'pioneerpress', 'pipe', 'pipelin', 'piperwearsthep', 'piprhi', 'pir', 'piraci', 'pirat', 'pisc', 'pisco', 'pisgah', 'piss', 'pit', 'pitch', 'pitcher', 'pitchwar', 'piti', 'pitmix', 'pittsburgh', 'pivot', 'pixar', 'pixelcanuck', 'pixeljanosz', 'pixelsmovi', 'pizza', 'pizzarev', 'pjcoyl', 'pjnet', 'pkk', 'pkwi', 'pl', 'place', 'plagu', 'plain', 'plan', 'plane', 'planet', 'planetari', 'plank', 'planner', 'plant', 'plantat', 'plastic', 'plate', 'platform', 'platinum', 'platt', 'play', 'playa', 'player', 'playingnow', 'playlist', 'playoff', 'playoverwatch', 'playstat', 'playthrough', 'plaza', 'plea', 'plead', 'pleas', 'pleasant', 'pleasantli', 'pleasur', 'pleb', 'pledg', 'plenti', 'pletch', 'plez', 'pll', 'pllolz', 'ploppi', 'plot', 'plsss', 'plu', 'plug', 'plugin', 'plumb', 'plummet', 'plung', 'pluto', 'plymouth', 'plz', 'pm', 'pneumonia', 'pnpizodi', 'po', 'poc', 'pochett', 'pocket', 'poconorecord', 'pod', 'podcast', 'poem', 'poetri', 'pogo', 'poignant', 'point', 'pointless', 'poison', 'pokemon', 'pol', 'poland', 'polar', 'polaroid', 'pole', 'polic', 'policeng', 'polici', 'policyhold', 'policylab', 'polit', 'politic', 'politician', 'politifact', 'poll', 'pollster', 'pollut', 'pomo', 'pond', 'pone', 'poni', 'pont', 'pool', 'poor', 'poorli', 'pop', 'popcorn', 'popehat', 'popey', 'poplar', 'popul', 'popular', 'populardemand', 'porcini', 'porcupin', 'porn', 'pornhub', 'porno', 'porridg', 'port', 'portabl', 'portaloo', 'portfolio', 'portgassdk', 'portion', 'portland', 'portrait', 'portug', 'pose', 'posit', 'poss', 'posses', 'possess', 'possibl', 'post', 'postal', 'postapocalypticflimflam', 'postcard', 'poster', 'postexist', 'postpon', 'pot', 'potato', 'potenti', 'potter', 'potu', 'pouch', 'pound', 'pour', 'pov', 'poverti', 'pow', 'poway', 'powder', 'power', 'powerlin', 'pox', 'pozarmi', 'poze', 'pp', 'pp15000266818', 'pp15000266858', 'ppact', 'ppc', 'ppfa', 'ppl', 'pple', 'ppor', 'ppsellsbabypart', 'pra', 'prabhu', 'prablematicla', 'practic', 'practition', 'pradesh', 'pragnik', 'prairi', 'prais', 'praiz8', 'pray', 'prayer', 'prayforsaipan', 'pre', 'preach', 'preacher', 'prebreak', 'preced', 'preciou', 'precipit', 'precisionist', 'precondit', 'predat', 'predict', 'prefectur', 'prefer', 'pregnant', 'prem', 'prematur', 'premier', 'premis', 'premium', 'premonit', 'prensa', 'preorder', 'prepar', 'prepared', 'prepper', 'preppertalk', 'preschool', 'preseason', 'preseasonworkout', 'presenc', 'present', 'preserv', 'preset', 'presid', 'presidenti', 'presley', 'press', 'presser', 'presssec', 'presstv', 'pressur', 'prestig', 'preston', 'presum', 'pretend', 'pretens', 'pretti', 'prettyboyshyflizzi', 'preval', 'prevent', 'preview', 'previou', 'previous', 'prez', 'price', 'priceless', 'pride', 'priest', 'primal', 'primalkitchen', 'primari', 'primarili', 'prime', 'princ', 'princeoffenc', 'princessduck', 'principl', 'print', 'printabl', 'prior', 'prioriti', 'prison', 'prisonplanet', 'privaci', 'privat', 'privileg', 'pro', 'prob', 'probabl', 'probe', 'problem', 'proc', 'proce', 'procedur', 'process', 'prod', 'produc', 'product', 'producthunt', 'profbriancox', 'profession', 'profil', 'profit', 'profittothepeopl', 'program', 'programm', 'progress', 'progress4ohio', 'prohibit', 'project', 'projectil', 'prolifer', 'prolli', 'prolong', 'prom', 'promis', 'promo', 'promot', 'prompt', 'prone', 'pronounc', 'proof', 'propaganda', 'propan', 'propel', 'proper', 'properli', 'properti', 'propheci', 'prophet', 'proport', 'propos', 'prosecut', 'prosper', 'prosser', 'protect', 'protector', 'protein', 'protest', 'protestor', 'proto', 'protoshoggoth', 'proud', 'proudgreenhom', 'prove', 'proven', 'provid', 'provinc', 'provoc', 'provok', 'proxi', 'prysmian', 'ps', 'ps1', 'ps2', 'ps3', 'ps4', 'psa', 'psalm', 'psalm34', 'psd', 'pseudojuuzo', 'psfda', 'psm', 'psp', 'psqd', 'psychiatr', 'psychic', 'psycholog', 'psychologist', 'psychrewatch', 'pt', 'pt1', 'pt4', 'ptsd', 'ptsdchat', 'pub', 'public', 'publichealth', 'publish', 'puck', 'puddl', 'puerto', 'puff', 'pug', 'pugprob', 'pugwash', 'puledotechupd', 'pulkovo', 'pull', 'pulloney', 'puls', 'pulwama', 'pummel', 'pump', 'pumper', 'pumpkin', 'pun', 'punch', 'punctur', 'pundit', 'puni', 'punish', 'punjab', 'punk', 'punkblunt', 'pup', 'puppet', 'puppi', 'puppyshogun', 'purchas', 'purdi', 'pure', 'purifi', 'purpl', 'purpleturtlerdg', 'purport', 'purpos', 'purs', 'push', 'push2left', 'pussi', 'pusssssssssi', 'pussyxdestroy', 'put', 'puth', 'putin', 'pvc', 'pvri', 'pwhvgwax', 'pxnatosil', 'pydisney', 'pyjama', 'pyramidhead76', 'pyrbliss', 'pyrotechn', 'python', 'q', 'q1', 'q13', 'q2', 'q99', 'qave', 'qendil', 'qew', 'qiang', 'qld', 'qnh', 'qotr', 'qpr1980', 'qti', 'quadrillion', 'quak', 'qual', 'qualit', 'qualiti', 'quantit', 'quantum', 'quarantin', 'quarrel', 'quarter', 'quarterstaff', 'quartz', 'que', 'queen', 'queenmi', 'queensland', 'queenswharf', 'queenwendi', 'queer', 'quem', 'quest', 'questergirl', 'question', 'quick', 'quicker', 'quickli', 'quiet', 'quirk', 'quit', 'quiz', 'quizz', 'quora', 'quot', 'quoteoftheday', 'quotesttg', 'quran', 'qvc', 'qz', 'qzloremft', 'r', 'r1354', 'r21', 'r3do', 'r5live', 'ra', 'raabchar28', 'rabaa', 'rabbit', 'rabidmonkeys1', 'racco', 'raccoon', 'race', 'racer', 'rachelcain', 'rachelrof', 'racial', 'racist', 'radar', 'radiat', 'radic', 'radio', 'radioact', 'radioriffrock', 'radler', 'radneck', 'radychildren', 'raffirc', 'raft', 'rag', 'rage', 'raheel', 'raheelsharif', 'rahulkanw', 'raid', 'raider', 'raidersreport', 'rail', 'railgun', 'railraod', 'railroad', 'railway', 'rain', 'rainbow', 'raineishida', 'rainfal', 'rainforestresq', 'raini', 'rainier', 'rainstorm', 'rais', 'raishimi33', 'raisinfing', 'ralli', 'ralph', 'ram', 'ramat', 'ramp', 'rampag', 'ran', 'rand', 'randallpinkston', 'randerson62', 'randi', 'random', 'randomthought', 'randomtourist', 'randpaul', 'rang', 'rangerkaitimay', 'raniakhalek', 'rank', 'ransack', 'ransomwar', 'rant', 'rap', 'rape', 'rapid', 'rapidli', 'rapper', 'raptor', 'rar', 'rare', 'rascal', 'rat', 'rate', 'rather', 'ratio', 'ration', 'raung', 'rave', 'ravioliwith', 'raw', 'rawfoodbliss', 'ray', 'raychielovesu', 'raynbowaffair', 'rayner', 'raynor', 'rayquazaerk', 'razak', 'raze', 'raì¼l', 'rb', 'rbcinsur', 'rbi', 'rch', 'rcmp', 'rd', 'rdg', 're', 'rea', 'reaad', 'reach', 'react', 'reaction', 'reactor', 'read', 'reader', 'readi', 'reaf', 'reagan', 'real', 'realdonaldtrump', 'realest', 'realhiphop', 'realhotcullen', 'realis', 'realism', 'realist', 'realiti', 'realiz', 'realjaxclon', 'realli', 'realliampayn', 'realm', 'realtim', 'reap', 'rear', 'reason', 'reassign', 'reator', 'rebah', 'rebecca', 'rebeccaforr', 'rebel', 'rebelmage2', 'reblog', 'reboot', 'rebound', 'rebuild', 'rec', 'recal', 'recap', 'receipt', 'receiv', 'recent', 'recip', 'reckless', 'reckon', 'reclus', 'recogn', 'recognis', 'recognit', 'recoil', 'recommend', 'reconnect', 'record', 'recordand', 'recount', 'recov', 'recoveri', 'recreat', 'recruit', 'recycl', 'red', 'redblood', 'redbul', 'redcliff', 'redcoatjackpot', 'reddakushgodd', 'reddevil4lif', 'reddish', 'reddit', 'redeem', 'redeemeth', 'redempt', 'redesign', 'rediscov', 'redistribut', 'redland', 'redo', 'redskin', 'redsox', 'reduc', 'redw', 'reebok', 'reed', 'reef', 'reev', 'refer', 'referencerefer', 'reflect', 'refuge', 'refugeesmatt', 'refugio', 'refund', 'refus', 'reg', 'regard', 'regardless', 'regc', 'regent', 'reggaeboyz', 'regim', 'region', 'regist', 'regr', 'regress', 'regret', 'regular', 'reid', 'reidlak', 'reigncoco', 'reimagin', 'rein', 'reinc', 'reinstat', 'reiter', 'reject', 'rejectdcartoon', 'rejoic', 'rel', 'relat', 'relationship', 'relax', 'relaxinpr', 'relay', 'releas', 'releg', 'relentless', 'relev', 'relief', 'reliefweb', 'religi', 'religion', 'reliv', 'remad', 'remain', 'remainontop', 'remand', 'remark', 'remast', 'rembr', 'remedi', 'rememb', 'rememberrabaa', 'remembr', 'remind', 'remix', 'remodel', 'remors', 'remorseless', 'remot', 'remov', 'remymarcel', 'ren', 'renam', 'render', 'rene', 'renew', 'renewsit', 'renison', 'reno', 'renov', 'rent', 'renunciedilma', 'reopen', 'rep', 'repair', 'repatri', 'repay', 'repdonbey', 'repeat', 'repjohnkatko', 'replac', 'repli', 'report', 'reportedli', 'reportli', 'repres', 'repress', 'repris', 'reprocuss', 'republ', 'republican', 'repuls', 'reput', 'req', 'requa', 'request', 'requiem', 'requir', 'reriellechan', 'rescind', 'rescu', 'rescuer', 'research', 'resembl', 'reserv', 'reset', 'reshap', 'reshareworthi', 'reshrimplevi', 'resid', 'residenti', 'residu', 'resigninsham', 'resili', 'resin', 'resist', 'resoluteshield', 'resolutevan', 'resolv', 'resort', 'resourc', 'respect', 'respond', 'respons', 'resqu', 'rest', 'restart', 'restaur', 'restiv', 'restless', 'restor', 'restoringpath', 'restrict', 'restrospect', 'result', 'resum', 'retail', 'retain', 'retard', 'retir', 'retire', 'retiredfilth', 'retool', 'retract', 'retreat', 'retro', 'retroact', 'return', 'retweet', 'reunion', 'reunit', 'reus', 'reuter', 'rev', 'reveal', 'reveillertm', 'revel', 'reveng', 'revenu', 'rever', 'revers', 'review', 'revis', 'revitup', 'reviv', 'revolt', 'revolut', 'reward', 'rewatchingthepilot', 'rework', 'rexyy', 'rey', 'rezaphotographi', 'rfcgeom66', 'rfp', 'rgj', 'rhee1975', 'rhett', 'rhiannon', 'rhineston', 'rhode', 'rhyme', 'ri', 'ribbon', 'rice', 'riceechrispi', 'rich', 'richard', 'richardson', 'richarkkirkarch', 'richchandl', 'richelieu', 'richhomeydon', 'richmond', 'ricin', 'rick', 'ricket', 'rickybonessxm', 'rico', 'ricotta', 'rid', 'ridah', 'riddler', 'ride', 'rider', 'ridg', 'ridicul', 'rifl', 'rig', 'rigga', 'right', 'righteou', 'rightli', 'rightway', 'rigour', 'rihanna', 'rijn', 'rin', 'rindou', 'ring', 'rinkydnk2', 'rio', 'rio2016', 'riooooo', 'rioslad', 'riot', 'rioter', 'rip', 'rippl', 'ripriprip', 'ririnsid', 'rise', 'riser', 'risk', 'riski', 'rite', 'ritual', 'ritualist', 'ritzyjewel', 'rival', 'rivalri', 'riveeeeeer', 'river', 'riverroam', 'rivier', 'riyadh', 'rizzo', 'rjg0789', 'rjkrraj', 'rl', 'rlauren83199', 'rli', 'rn', 'rnk', 'road', 'roadid', 'roadway', 'roadwork', 'roanok', 'roanoketim', 'roar', 'rob', 'robbi', 'robbiewilliam', 'robdelaney', 'robert', 'robertbenglund', 'robertcalifornia', 'roberthard', 'robertmeyer9', 'robertoneill31', 'robertwelch', 'robinson', 'roblox', 'robot', 'robotcoingam', 'robotrainstorm', 'robpulsenew', 'robsimss', 'robthieren', 'rochdal', 'rock', 'rockefellerchi', 'rockefelleruniv', 'rocket', 'rocki', 'rockin', 'rockingham', 'rockstar', 'rod', 'rodarmer21', 'roddypiperauto', 'rodkiai', 'roga', 'roger', 'rogu', 'roguewatson', 'roh3', 'roh3smantibatam', 'rohingya', 'rohnert', 'roimentor', 'rokiiee', 'rolandonabeat', 'role', 'roleplay', 'roll', 'roller', 'rollingston', 'rolo', 'rom', 'roman', 'romanatwoodvlog', 'romanc', 'romania', 'romant', 'romanticsuspens', 'rome', 'romeo', 'romeocrow', 'romero', 'romford', 'romp', 'ron', 'ronald', 'ronaldo', 'ronda', 'rong', 'ronincarbon', 'ronni', 'ronwyden', 'roof', 'roofer', 'rooftop', 'room', 'roomr', 'roosevelt', 'root', 'rope', 'rori', 'rorington95', 'rosali', 'rose', 'rosemarytraval', 'rosenberg', 'rosenth', 'rosewel', 'roskomnadzor', 'ross', 'rossbarton', 'rossmartin7', 'rossum', 'roster', 'rot', 'rotari', 'rotat', 'rotten', 'rottentomato', 'roughdeal1', 'round', 'round2', 'roundhous', 'rousey', 'rout', 'router', 'routin', 'rove', 'rover', 'row', 'rowyso', 'rowysolouisvil', 'roy', 'royal', 'rp', 'rpn', 'rq', 'rrbc', 'rrusa', 'rs', 'rs40000cr', 'rs5', 'rsa', 'rsf', 'rskarim1', 'rslm72254', 'rspca', 'rss', 'rsx', 'rt', 'rt4ament', 'rtcom', 'rtrrt', 'rtrrtcoach', 'ru', 'rub', 'rubber', 'rubberi', 'rubbin', 'rubbl', 'rubi', 'rubybot', 'rudd', 'ruddyyyyyy', 'rude', 'rueb', 'ruhl', 'ruin', 'rule', 'ruler', 'rum', 'rumah', 'rumbl', 'rumor', 'run', 'runabout', 'runaway', 'runjewel', 'runkeep', 'runner', 'runnerjoy', 'runnin', 'runway', 'ruor', 'rupaul', 'rural', 'rush', 'rushlimbaugh', 'russaky89', 'russel', 'russellvil', 'russia', 'russian', 'ruthann', 'rutherford', 'rv', 'rvfriedmann', 'rwa', 'rwi', 'rwrabbit', 'ryan', 'ryanoss123', 'ryleedowns02', 'ryrotheunawar', 'ryt', 'rzimmermanjr', 's', 's01e09', 's5', 's61', 'sa', 'sa15t', 'saadth', 'saalon', 'saat', 'sabcnewsroom', 'sabotag', 'sabrina', 'sac', 'sack', 'sackvil', 'sacramento', 'sacrific', 'sad', 'saddl', 'saddlebrook', 'saddledom', 'sadli', 'safari', 'safe', 'safeco', 'safer', 'safeti', 'safferoonicl', 'safsufa', 'safyuan', 'sagacioussab', 'sahel', 'sahib', 'said', 'sail', 'sailor', 'saint', 'saintrobinho86', 'saintsfc', 'saipan', 'saison', 'sake', 'sakhalintribun', 'saku', 'sakuuchiha', 'saladinahm', 'salado', 'sale', 'salem', 'salisburi', 'salli', 'salman', 'salmanmydarl', 'salmon', 'salon', 'salopek', 'salt', 'salti', 'saltriverwild', 'salut', 'salvador', 'salvadoran', 'salvag', 'salvat', 'salvi', 'salyer', 'sam', 'sama', 'samajp32', 'samantha', 'samaritan', 'samelsamel', 'sami', 'samihonkonen', 'sammi', 'sammysosita', 'sampl', 'samsmithworld', 'samsung', 'san', 'sana', 'sanchez', 'sanction', 'sand', 'sandbox', 'sander', 'sandi', 'sandiego', 'sandra', 'sandstorm', 'sandun', 'sandwich', 'sanelesstheori', 'sanford', 'sanfrancisco', 'sang', 'sanit', 'saniti', 'sanitis', 'sanjaynirupam', 'sanliurfa', 'sanonofr', 'sansa', 'santa', 'santaclara', 'santanico', 'santiago', 'santo', 'sapphirescallop', 'sara', 'sarabia', 'sarah', 'sarahksilverman', 'sarahmcp', 'sarcasm', 'sarcast', 'sarniamakchri', 'sarumi', 'sasha', 'sask', 'sassi', 'sat', 'satan', 'satanaofhel', 'satchel', 'satellit', 'satin', 'satir', 'satisfi', 'satoshi', 'satur', 'saturday', 'saturn', 'saudi', 'saudiarabia', 'saudimosqu', 'sauldale305', 'saumur', 'saunder', 'sav', 'savag', 'savagen', 'savannahross4', 'save', 'savebe', 'savedenaliwolv', 'saver', 'saveti', 'savior', 'savour', 'saw', 'say', 'sayedridha', 'sayin', 'sayna', 'sb', 'sb57', 'sbee', 'sbnation', 'scab', 'scale', 'scaligero', 'scalpium', 'scam', 'scandal', 'scar', 'scare', 'scari', 'scarier', 'scariest', 'scarlet', 'scasualti', 'scatter', 'scegnew', 'scenario', 'scene', 'schedul', 'scheer', 'schelbertgeorg', 'scheme', 'schiphol', 'schism', 'schlichter', 'schoenfeld', 'scholar', 'school', 'schoolboy', 'schulz', 'schwarber', 'scichat', 'scienc', 'sciencefict', 'scientist', 'scifi', 'scissor', 'scmpnew', 'scofield', 'scoop', 'scorch', 'score', 'scorpion', 'scotiabank', 'scotland', 'scotrail', 'scott', 'scottdpierc', 'scotto519', 'scourg', 'scourgu', 'scout', 'scrambledegg', 'scrape', 'scraptrid', 'scratch', 'scream', 'screech', 'screen', 'screenshot', 'screw', 'scriptettesar', 'scroll', 'scseestapreparando', 'sct012', 'sct014', 'scuf', 'scum', 'scvsupremecourt', 'scynic1', 'sd', 'se', 'sea', 'seagul', 'seagull07', 'seal', 'seamstress', 'sean', 'seanhann', 'seanpeconi', 'search', 'seashor', 'season', 'seat', 'seatbelt', 'seattl', 'seattledot', 'seattletim', 'seawal', 'seaworld', 'sebe', 'sec', 'seclus', 'second', 'secondhand', 'secret', 'sectarian', 'section', 'sector', 'secur', 'sedan', 'sedar', 'seduct', 'see', 'seed', 'seek', 'seeker', 'seem', 'seemeth', 'seemli', 'seen', 'seewe', 'seeyouatamico', 'sef', 'sega', 'segment', 'seismic', 'seismicsoftwar', 'seiz', 'sejorg', 'sel', 'select', 'self', 'selfavow', 'selfi', 'sell', 'selmo', 'selmoooooo', 'semasirtalk', 'semi', 'seminar', 'sen', 'senat', 'senatemajldr', 'send', 'senfeinstein', 'senior', 'sens', 'sensand', 'senschum', 'sensei', 'sensit', 'senso', 'sensor', 'sensori', 'sent', 'sentenc', 'sentient', 'sentinel', 'senzu', 'sep', 'separ', 'sept', 'septemb', 'septic', 'sequala', 'sequel', 'sequenc', 'ser', 'sera', 'serbian', 'seren', 'serephina', 'sergiopiaggio', 'seri', 'serial', 'seriou', 'serious', 'serv', 'servant', 'server', 'servic', 'servicin', 'session', 'set', 'setanta', 'sethalphaeu', 'setlist', 'setsuko', 'setting4success', 'settl', 'settlement', 'setzorah', 'seven', 'sevenfigz', 'sevenfold', 'seventi', 'sever', 'sew', 'sewag', 'seward', 'sewer', 'sex', 'sexi', 'sexist', 'sexual', 'sexycumshot', 'sexydragonmag', 'sf', 'sfa', 'sfgate', 'sfgiant', 'sfor', 'sg', 'sgc72', 'sh', 'sha', 'shaabi', 'shad', 'shade', 'shadow', 'shadowflam', 'shadowman', 'shahe', 'shaikh', 'shake', 'shaken', 'shakeolog', 'shaker', 'shakespear', 'shakjn', 'shall', 'sham', 'shame', 'shanaynay', 'shanghai', 'shania', 'shaniatwain', 'shanta', 'shantaeforsmash', 'shantaehalfgeniehero', 'shantaeskyy', 'shaolin', 'shape', 'shaper', 'shar', 'share', 'shareahol', 'sharethi', 'sharia', 'sharif', 'shark', 'sharp', 'sharper', 'sharpli', 'shatter', 'shaw', 'shawie17shawi', 'shay', 'shayoli', 'she', 'shear', 'shed', 'shedid', 'sheer', 'sheeran', 'sheet', 'shekhargupta', 'shelbi', 'shell', 'shelli', 'shelter', 'shemesh', 'shen', 'shepherd', 'sherfield72', 'sheriff', 'shestooyoung', 'shevlin', 'shia', 'shidddd', 'shield', 'shift', 'shifter', 'shii', 'shimmyfab', 'shine', 'ship', 'shipsxanchor', 'shipwreck', 'shira', 'shirley', 'shirt', 'shit', 'shite', 'shitti', 'shitton', 'shiver', 'shizun', 'shoal', 'shock', 'shoe', 'sholt87', 'shook', 'shoook', 'shoot', 'shoota', 'shooter', 'shootout', 'shop', 'shopp', 'shore', 'short', 'shortfal', 'shot', 'shotgun', 'should', 'shoulder', 'shouout', 'shout', 'shoutout', 'shove', 'shovel', 'show', 'showcas', 'showdown', 'shower', 'shrew', 'shrewsburi', 'sht', 'shtap', 'shtf', 'shud', 'shuffl', 'shunichiro', 'shut', 'shutdown', 'si', 'sibl', 'sicili', 'sick', 'side', 'sidelin', 'sidelinesavag', 'sidewalk', 'sidjsjdjekdjskdjd', 'siena', 'sif', 'sift', 'sigalert', 'sigh', 'sight', 'sigmund', 'sign', 'signal', 'signatur', 'signific', 'sigu', 'sikh', 'sila', 'silenc', 'silent', 'silent0siri', 'silentmind', 'silinski', 'silli', 'silo', 'silver', 'silverhuski', 'silveri', 'silverman', 'silverstar58200', 'silverwood', 'similar', 'simmer', 'simmon', 'simon', 'simpl', 'simpli', 'simplifi', 'simplyvain', 'simpson', 'simul', 'simultan', 'sin', 'sinc', 'since1970th', 'sincer', 'sincerelyevelnn', 'sindh', 'sing', 'singl', 'sinistra', 'sinjar', 'sink', 'sinkhol', 'sinkingshipindi', 'sioux', 'siouxlan', 'siouxland', 'sip', 'sippin', 'sir', 'sirbrandonknt', 'siren', 'sirensicebreak', 'sirensong21', 'sirenvoic', 'siriu', 'sirmion', 'sirmixalot', 'sirtitan45', 'sirtophamhat', 'siskiy', 'sismo', 'sister', 'sit', 'site', 'siteinvestig', 'sittw', 'sittway', 'situ', 'situat', 'sivan', 'six', 'sixpencee', 'sixth', 'size', 'sizewel', 'sizygwwf', 'sj', 'sjubb', 'sk398', 'skagg', 'skanndtyagi', 'skardu', 'skarletan', 'skateboard', 'skc', 'skeleton', 'sketch', 'sketchbook', 'skh', 'ski', 'skill', 'skim', 'skin', 'skinless', 'skinni', 'skip', 'skippy6gam', 'skirt', 'skull', 'sky', 'skye', 'skyland', 'skyler', 'skylin', 'skynet', 'skynew', 'skype', 'skyrim', 'skyscrap', 'skywar', 'skywarn', 'sl', 'slab', 'slain', 'slam', 'slander', 'slanglucci', 'slap', 'slash', 'slate', 'slatukip', 'slaughter', 'slave', 'slaveri', 'slay', 'slayer', 'sleep', 'sleeper', 'sleepjunki', 'slept', 'slew', 'slice', 'slicker', 'slide', 'slideshar', 'slight', 'slightest', 'slightli', 'slikrickdarula', 'slimebeast', 'slingnew', 'slip', 'slipper', 'slit', 'slither', 'slogan', 'slone', 'slopeofhop', 'slosher', 'slosheriff', 'slow', 'slower', 'slowli', 'slowpok', 'slsandpet', 'slsp', 'slum', 'slumber', 'sm', 'smack', 'small', 'smallbiz', 'smallbusi', 'smaller', 'smallforestelf', 'smantibatam', 'smart', 'smartnew', 'smarttek', 'smash', 'smaug', 'smb', 'smear', 'smell', 'smem', 'smfh', 'smh', 'smile', 'smirk', 'smithereen', 'smithsonian', 'smoakqueen', 'smoke', 'smoker', 'smokey', 'smoki', 'smoochi', 'smooth', 'smp', 'smth', 'smug', 'smuggler', 'smugglersnab', 'smusx16475', 'sn', 'snack', 'snake', 'snap', 'snapchat', 'snapchatselfi', 'snapharmoni', 'snazzychipz', 'snd', 'sneak', 'sneez', 'sni', 'sniff', 'sniiiiiiff', 'snipe', 'snippet', 'snooker', 'snoop', 'snort', 'snotgreen', 'snow', 'snowbal', 'snowden', 'snowflak', 'snowi', 'snowstorm', 'snowywolf5', 'snuck', 'snuff', 'so', 'soak', 'soaker', 'soap', 'soapscoop', 'sob', 'soc', 'socal', 'soccer', 'social', 'socialist', 'socialmedia', 'socialtim', 'socialwot', 'societi', 'sock', 'socket', 'sod', 'sodamntru', 'sofa', 'soft', 'softbal', 'softenza', 'softwar', 'soggi', 'soil', 'solano', 'solar', 'sold', 'soldi', 'soldier', 'sole', 'solelink', 'solicitor', 'solid', 'solitud', 'solo', 'soloquiero', 'solut', 'solv', 'somalia', 'some', 'somebodi', 'someday', 'somehow', 'someon', 'somerset', 'someth', 'somethin', 'sometim', 'sometimesi', 'somewher', 'somm', 'son', 'sona', 'soner', 'song', 'songfor', 'songhey89', 'soni', 'sonia', 'sonido', 'sonison', 'sonofbaldwin', 'sonofbobbob', 'sonofliberty357', 'sonoranrattl', 'sonyprousa', 'soo', 'soon', 'soonergrunt', 'soonermag', 'soonersportstv', 'sooo', 'soooo', 'soothmyslumb', 'sopam', 'sophi', 'sophieingle01', 'sophiewisey', 'sophist', 'sore', 'sorri', 'sorrow', 'sorrybutitstru', 'sort', 'sothwest', 'souda', 'soudelor', 'sought', 'soul', 'soulja', 'soultech', 'sound', 'soundcloud', 'sounder', 'soundtrack', 'soup', 'sour', 'sourc', 'sourmashnumber7', 'souss', 'south', 'southampton', 'southbound', 'southdown', 'southeast', 'southern', 'southkorea', 'southlin', 'southridgelif', 'southwest', 'soviet', 'sow', 'soz', 'sp', 'spa', 'space', 'spaceangelseven', 'spaceship', 'spaceshiptwo', 'spacewolverin', 'spacex', 'spain', 'spam', 'spammer', 'span', 'spaniel', 'spanish', 'spark', 'sparkz', 'spartan', 'sparxxx', 'speak', 'speaker', 'speakingfromexperi', 'spear', 'spec', 'specci', 'speci', 'special', 'specialguest', 'specialist', 'specialne', 'specif', 'specimen', 'spectacular', 'spectrum', 'specul', 'speculatio', 'speech', 'speed', 'speedtech', 'spell', 'spen', 'spencer', 'spencerfearon', 'spend', 'spent', 'spi', 'spice', 'spicybread', 'spider', 'spiderweb', 'spike', 'spill', 'spilt', 'spin', 'spinnellii', 'spirit', 'spit', 'splash', 'splatdown', 'splatl', 'splatoon', 'splattershot', 'splif', 'split', 'splottdav', 'spo', 'spoil', 'spokan', 'spoke', 'spong', 'sponsor', 'sponsorship', 'spontan', 'spookyfob', 'sport', 'sporten', 'sportinggood', 'sportsroadhous', 'sportwatch', 'spot', 'spotlight', 'spous', 'spout', 'sprain', 'spray', 'spread', 'spree', 'spring', 'springer', 'sprinkler', 'sprinter', 'sprite', 'spsgsp', 'spur', 'spurgeon', 'sputnik', 'sputnikint', 'sputter', 'spx', 'spyro', 'sq', 'squabbl', 'squad', 'squar', 'squeaki', 'squeaver', 'squeez', 'squibbi', 'squirrel', 'sqwizzix', 'sr', 'sr14', 'sr22', 'sr37', 'srajapaks', 'sriramk', 'srk', 'srsli', 'ssb4', 'ssp', 'ssshhheeesshh', 'ssssnell', 'ssu', 'ssw', 'st', 'stab', 'stabl', 'stacdemon', 'stacedemon', 'stacey', 'staci', 'stack', 'stadium', 'staf', 'staff', 'stage', 'staid', 'stain', 'stalag', 'stalin', 'stall', 'stallion150', 'stamp', 'stan', 'stand', 'standard', 'standardis', 'standforwolv', 'standstil', 'standup', 'stankyboy88', 'star', 'starb', 'starbuck', 'starbucksculli', 'stardat', 'stare', 'starflamegirl', 'stark', 'starmad', 'starr', 'start', 'startelegram', 'starter', 'startid', 'startrek', 'startup', 'starv', 'stat', 'state', 'statement', 'statesvil', 'station', 'stationcdrkelli', 'statist', 'statu', 'stavernis', 'stavola', 'stay', 'std', 'steadi', 'steak', 'steal', 'stealth', 'steam', 'steamship', 'stearn', 'steel', 'steellord', 'steep', 'stefanejon', 'stefano', 'stem', 'step', 'steph93065', 'stephanenni', 'stephaniemarija', 'stephen', 'stephengeorg', 'stephenk', 'stephenscifi', 'stephenson', 'stepkan', 'stereo', 'sterl', 'sterlingknight', 'stern', 'sterotyp', 'steve', 'steven', 'stevenontwatt', 'stevenrul', 'steveycheese99', 'stevi', 'stew', 'stewart', 'stfxunivers', 'stick', 'sticker', 'sticki', 'stickynyc', 'stiiilo', 'stil', 'still', 'stir', 'stl', 'stlnd', 'stloui', 'sto', 'stock', 'stockholm', 'stockton', 'stockwel', 'stoke', 'stole', 'stolen', 'stomach', 'stone', 'stonebrewingco', 'stonewal', 'stoni', 'stood', 'stool', 'stop', 'stopevict', 'stopharp', 'stoponesound', 'store', 'storen', 'storey', 'stori', 'storm', 'stormbeard', 'stormchas', 'stormcom', 'stormi', 'stormtroop', 'stout', 'stow', 'straight', 'straighten', 'straightfir', 'strain', 'strait', 'strand', 'strang', 'stranger', 'strap', 'strateg', 'strategi', 'stratford', 'strawberri', 'strawberrysoryu', 'stray', 'streak', 'stream', 'streamyx', 'stree', 'street', 'streetjamzdotnet', 'streetlight', 'strength', 'strengthen', 'stress', 'stretch', 'stretcher', 'strickskin', 'strict', 'strictli', 'strike', 'striker', 'strip', 'stripe', 'stripteas', 'strive', 'stroke', 'strong', 'stronger', 'strongest', 'strongli', 'struck', 'structur', 'struggl', 'strut', 'stu', 'stuart', 'stuartbroad8', 'stuck', 'stuckinbook', 'stud', 'studebak', 'student', 'studi', 'studio', 'stuff', 'stuffin', 'stump', 'stun', 'stunckl', 'stung', 'stunningli', 'stupid', 'stupidniggr', 'sturgi', 'sturi', 'stvmlli', 'style', 'stylish', 'stylishli', 'stylist', 'su', 'sub', 'subatom', 'subcommitte', 'subconsci', 'subcontin', 'subcontractor', 'subject', 'submerg', 'submiss', 'submit', 'submitt', 'subreddit', 'subscript', 'subsd', 'subsequ', 'substanc', 'substanti', 'subtl', 'subtleti', 'subway', 'succeed', 'success', 'such', 'suck', 'sucker', 'sudan', 'sudden', 'suddenli', 'sue', 'suelinflow', 'suffer', 'suffic', 'suffici', 'suffield', 'sugar', 'sugg', 'suh', 'suho', 'suicid', 'suit', 'suitabl', 'sul', 'sultri', 'summari', 'summer', 'summer2015', 'summerf', 'summerhalleri', 'summerinsweden', 'summerslam', 'summertim', 'summervib', 'summit', 'summon', 'sumn', 'sumo', 'sun', 'sunbath', 'sunburn', 'sunburst', 'suncorp', 'sunday', 'sundercr', 'sundown', 'sunflow', 'sunk', 'sunk1', 'sunni', 'sunnymead', 'sunray', 'sunset', 'sunshin', 'sunyorang', 'super', 'superb', 'superbug', 'superfici', 'superfood', 'superhero', 'superintend', 'superior', 'superman', 'supermarket', 'supernatur', 'supernovalest', 'superpow', 'superstit', 'superv', 'supervisor', 'suppli', 'support', 'suppos', 'supposedli', 'suprem', 'supremacist', 'supremo', 'surah', 'sure', 'suresh', 'sureshpprabhu', 'sureshprabhu', 'sureti', 'surf', 'surfac', 'surfer', 'surfphoto', 'surg', 'surgeri', 'surgic', 'surpris', 'surrend', 'surround', 'survey', 'surviv', 'survivor', 'surya', 'susanj357', 'sushi', 'susi', 'susiya', 'suspect', 'suspend', 'suspens', 'suspici', 'sustain', 'sustainourearth', 'sutherland', 'suv', 'sux', 'svetlana', 'sw', 'swag', 'swallow', 'swam', 'swami', 'swanger', 'swansea', 'swarm', 'swayback', 'swayoung01', 'swb1192', 'swea', 'swear', 'sweat', 'sweater', 'sweati', 'sweden', 'swedish', 'sweep', 'sweet', 'sweet2young', 'sweetiebirk', 'sweetpea', 'swell', 'swellyjetevo', 'swept', 'swiftli', 'swiftycommissh', 'swim', 'swime', 'swing', 'swingman', 'swiss', 'switch', 'switzerland', 'swivel', 'swollen', 'swoop', 'sword', 'sworn', 'swtrain', 'sy', 'syd', 'sydney', 'sydtraff', 'syjexo', 'symantec', 'symbol', 'sympathi', 'symphoni', 'symptom', 'synapsenkotz', 'syndic', 'syndrom', 'syria', 'syrian', 'syringetoang', 'system', 'systemat', 'szmnextdoor', 'szuter', 't', 't1000', 'taaylordarr', 'tab', 'tabl', 'tablet', 'tac', 'tacit', 'tackettdc', 'taco', 'tacoma', 'tact', 'tactic', 'tadhgtgmtel', 'tae', 'taf', 'tag', 'tahini', 'taho', 'tail', 'tailor', 'taint', 'taipei', 'taiwan', 'tak', 'take', 'takeaway', 'takecar', 'taken', 'takeoff', 'taki', 'takin', 'tale', 'talent', 'taliban', 'talisman', 'talk', 'talkin', 'talkinghel', 'talkradio', 'tallest', 'tambo', 'tambourin', 'tammyw1997', 'tampa', 'tampabay', 'tampon', 'tan', 'tanehisico', 'tangl', 'tangletalk', 'tank', 'tanslash', 'tanstaafl23', 'tantonationalforest', 'tantrum', 'tanzania', 'taoistinsight', 'tapa', 'tape', 'taraswart', 'tareksoc', 'targ', 'target', 'tarletonsophi', 'tarmineta3', 'tarp', 'tarynel', 'tarzana', 'task', 'tasmania', 'tast', 'tastemycupcake', 'tat', 'tattoo', 'taufikcj', 'taught', 'taungbazar', 'tawfmcaw', 'tax', 'taxi', 'taxpay', 'taxreturn', 'taxston', 'tayiorrmad', 'taykreidl', 'taylor', 'taylorswift13', 'tb', 'tbh', 'tblack', 'tbr', 'tbt', 'tc', 'tcc', 'tcgreno', 'tch', 'tconnellyr', 'tcot', 'tdm', 'tdp', 'te', 'tea', 'teach', 'teacher', 'teafrystlik', 'teahivetweet', 'team', 'teamatowinn', 'teamfollowback', 'teamhennessi', 'teammat', 'teamo', 'teampalestina', 'teamscorpion', 'teamstream', 'teamsurvivor', 'teamvodg', 'tear', 'teas', 'tech', 'techesback', 'technew', 'technic', 'technica', 'techniqu', 'technolog', 'tecno', 'ted', 'tedcruz2016', 'teddi', 'teduka', 'tee', 'teeess', 'teemo', 'teen', 'teena797', 'teenag', 'teenfict', 'teeth', 'tejc', 'telangana', 'telegraph', 'telegraphworld', 'telekinesi', 'telemarket', 'teleport', 'televis', 'tell', 'telli', 'telltal', 'tellyfckngo', 'telnet', 'tem', 'temecafreeman', 'temecula', 'temp', 'temper', 'temperatur', 'templ', 'templat', 'temporari', 'temporarili', 'temptat', 'ten', 'tend', 'tenn', 'tennesse', 'tennessean', 'tennew', 'tenni', 'tenno', 'tennoatax', 'tenshi', 'tension', 'tent', 'tepat', 'tepco', 'terel', 'term', 'termin', 'termn8r13', 'terrain', 'terribl', 'terrif', 'terrifi', 'territori', 'terror', 'terrorist', 'tersestuff', 'terwillig', 'tesco', 'tesla', 'test', 'testa', 'testi', 'testicl', 'testifi', 'testimoni', 'texa', 'texan', 'texansdc', 'texaschainsawmassacr', 'text', 'textur', 'tf', 'tfb', 'tfl', 'tfw', 'tg', 'tgirl', 'th', 'tha', 'thai', 'thailand', 'thalapathi', 'than', 'thank', 'thankkk', 'thankyou', 'that', 'thatd', 'thatfatguy', 'thatpersianguy', 'thatrussianman', 'thatsabinegirl', 'thatwitchem', 'thda', 'the', 'theaf', 'theash', 'theater', 'theatershoot', 'theatlant', 'theatr', 'thebachelorett', 'thebargain', 'theblackshag', 'theblaz', 'thebookclub', 'theboyofmask', 'thebriankraus', 'thebuffshow', 'theburnageblu', 'thecomedyquot', 'theconspiracytheori', 'thedailybeast', 'thedailyshow', 'thedarktow', 'thedayct', 'thedoolinggroup', 'thee', 'theeconomist', 'theellenshow', 'theemobrago', 'theevilol', 'theft', 'thegam', 'theghostparti', 'thegreenparti', 'thehamm', 'thehighfess', 'thehobbit', 'their', 'thejenmorillo', 'thejonesesvoic', 'theleadernew', 'thelegendblu', 'thelonevirolog', 'them', 'themagickidrap', 'themain', 'themalemadonna', 'theme', 'themermacorn', 'themh', 'themselv', 'then', 'thene', 'thenewshyp', 'thenissonian', 'theolog', 'theori', 'thepartyofmean', 'theramin', 'therapi', 'there', 'thereal', 'therealrittz', 'therefor', 'therein', 'thereisonlysex', 'thereof', 'theresmorewherethatcamefrom', 'these', 'thesensualey', 'thesewphist', 'thesmallclark', 'thesteveharveyshow', 'thestrain', 'thetawniest', 'thetimepast', 'thetshirtkid', 'thetwisterokc', 'thetxi', 'thewebbeffect19', 'thewesterngaz', 'thexfiles201day', 'they', 'theyd', 'theyr', 'thh', 'thi', 'thick', 'thief', 'thigh', 'thin', 'thing', 'thingsih', 'think', 'thinkpink', 'thinner', 'third', 'thirst', 'thirsti', 'thirti', 'thisdayinhistori', 'thisisfaz', 'thisishavehop', 'thisisperidot', 'thisispublichealth', 'thnk', 'tho', 'thoma', 'thomashcrown', 'thomassmonson', 'thomasvissman22', 'thorgan', 'thorin', 'thorium', 'thoroughli', 'those', 'thou', 'though', 'thought', 'thousand', 'thoutaylorbrown', 'thr', 'thranduil', 'thrarchiv', 'thread', 'threat', 'threatconnect', 'threaten', 'threatintel', 'three', 'threesom', 'threw', 'thriller', 'thrive', 'throat', 'throne', 'through', 'throughout', 'throw', 'throwback', 'throwin', 'thrown', 'thru', 'thrust', 'thruuu', 'tht', 'thu', 'thucydipleas', 'thug', 'thuggin', 'thunder', 'thundersnow', 'thunderstorm', 'thur', 'thurlow', 'thursd', 'thursday', 'thx', 'thyroid', 'tianta', 'tiaramarei', 'tic', 'ticket', 'ticklemeshawn', 'tidal', 'tidalhifi', 'tide', 'tie', 'tier', 'tiffanyfrizzel', 'tiger', 'tigersjostun', 'tiggr', 'tight', 'tightli', 'til', 'till', 'tim', 'timarobert', 'timber', 'time', 'time4mesew', 'timebomb', 'timelin', 'timesofindia', 'timestack', 'timeworld', 'timey', 'timmicallef', 'tin', 'tinder', 'tinderbox', 'ting', 'tini', 'tint', 'tinybabi', 'tinyjecht', 'tip', 'tipster', 'tire', 'tirelessli', 'tita', 'titan', 'titania', 'tithenai', 'titl', 'titolo', 'titortau', 'titti', 'tix', 'tj', 'tjrobertson2', 'tkyonly1fmk', 'tlc', 'tlk', 'tloz', 'tmp', 'tms7', 'tn', 'tna', 'tneazzi', 'tnn', 'to', 'tobiasellwood', 'tod', 'today', 'todayhav', 'todayi', 'todayng', 'todayngr', 'todd', 'toddcalfe', 'toddler', 'toddstarn', 'toddyrockstar', 'toe', 'toenail', 'togeth', 'togth', 'toiindianew', 'toilet', 'toke', 'tokteach', 'tokyo', 'told', 'toler', 'tolew', 'toll', 'tom', 'tomarse99', 'tomato', 'tomcatart', 'tomclanc', 'tomdean86', 'tomfromireland', 'tomislav', 'tomlinson', 'tommorow', 'tomorrow', 'ton', 'tone', 'tongu', 'toni', 'tonight', 'tonn', 'tonto', 'tonyakappes11', 'tonyburk', 'tonycottee1986', 'tonyhsieh', 'tonymcguin', 'tonysando', 'too', 'toocodtodd', 'took', 'tookitlikeaman', 'tool', 'toooooo', 'toosoon', 'tooth', 'tootru', 'top', 'top25', 'topic', 'topnew', 'topstori', 'tor', 'tora', 'torch', 'tore', 'tori', 'torment', 'tornado', 'toronto', 'torontorc', 'torranc', 'torrecilla', 'torrent', 'torrenti', 'torso', 'tort', 'tortur', 'toss', 'tosu', 'total', 'totalitarian', 'tote', 'totoooooo', 'totoooooooooo', 'totteham', 'tottenham', 'touch', 'touchdown', 'tough', 'toughen', 'toung', 'tour', 'tourist', 'tournament', 'tourofutah', 'tow', 'toward', 'towboat', 'towel', 'tower', 'town', 'township', 'toxic', 'toxicsavior', 'toyota', 'tozlet', 'tp', 'tprimo24', 'tr', 'tra', 'trace', 'tracey', 'traci', 'track', 'tracklist', 'traction', 'tractor', 'trad', 'tradcatknight', 'trade', 'trader', 'tradit', 'traditionalist', 'traffic', 'trafficalert', 'trafficnetwork', 'trafford', 'tragedi', 'tragic', 'trail', 'trailer', 'trailhead', 'train', 'traintragedi', 'traitor', 'trajectori', 'tram', 'trampl', 'tran', 'tranci', 'transcend', 'transcript', 'transfer', 'transform', 'transgend', 'transgress', 'transit', 'translat', 'transport', 'transporta', 'transwomen', 'trap', 'traplord29', 'trash', 'trauma', 'traumat', 'traumatis', 'travel', 'travelelixir', 'travers', 'travi', 'tray', 'trc', 'treasur', 'treat', 'treati', 'treatmen', 'treatment', 'treblinka', 'tree', 'treeporn', 'treescap', 'trek', 'trekker', 'tremblayeh', 'tremont', 'tremor', 'tren', 'trench', 'trend', 'trent', 'trespass', 'trestl', 'trey', 'treyarch', 'tri', 'triad', 'trial', 'triangl', 'trib', 'tribal', 'tribe', 'tribez', 'tribun', 'triciaoneil', 'triciaoneillphoto', 'trick', 'tricki', 'trickier', 'trickshot', 'trickxi', 'tricycl', 'trident', 'trigger', 'trillac', 'trillion', 'trim', 'triniti', 'trinna', 'trip', 'tripl', 'tripoli', 'triumph', 'triumphant', 'trivium', 'trixiedrown', 'trjdavi', 'troi', 'troll', 'trolley', 'trollingtilmeekdiss', 'trollkratto', 'trombonetristan', 'troop', 'trooper', 'trope', 'trophi', 'trophyhunt', 'tropic', 'troubl', 'troubleonmymind', 'troup', 'troy', 'troylercraft', 'troyslaby22', 'trp', 'trpreston01', 'tru', 'trubgm', 'truck', 'truckcrash', 'truckload', 'true', 'truediagnosi', 'truelov', 'truestori', 'truli', 'trulyst', 'trump', 'trump2016', 'trunk', 'trust', 'trusti', 'trustymclusti', 'truth', 'tryna', 'trynna', 'tryout', 'ts', 'tsipra', 'tsunami', 'tsunamiesh', 'tsunaminopeach', 'tsutomi', 'tt', 'tte', 'ttw', 'tu', 'tub', 'tube', 'tucson', 'tuesday', 'tuffer', 'tuicruis', 'tullamarin', 'tulowitzki', 'tumbl', 'tumblr', 'tuna', 'tune', 'tunein', 'tuneswgg', 'tuni', 'tunisia', 'tunisian', 'tunnel', 'turbin', 'turbojet', 'turdnado', 'turkey', 'turkish', 'turkmen', 'turn', 'turnedonfetaboo', 'turner', 'turnpik', 'tuski', 'tutor', 'tutori', 'tv', 'tvjnew', 'tvshowtim', 'tw4rw', 'twain', 'twcnew', 'twcnewsclt', 'tweak', 'tween', 'tweet', 'tweet4taiji', 'tweetinglew', 'tweetstorm', 'twelv', 'twenti', 'twentynin', 'twi', 'twia', 'twice', 'twilight', 'twilightfairi', 'twill', 'twimbo', 'twin', 'twist', 'twister', 'twisterlovesshania', 'twitch', 'twitsandiego', 'twitter', 'two', 'twoptwip', 'twx', 'tx', 'txt', 'ty', 'tyar', 'tyler', 'tyleroakley', 'type', 'typewrit', 'typhoon', 'typic', 'typo', 'typographi', 'tyrant', 'tyre', 'tyron', 'tìüp', 'u', 'u2', 'uabstephenlong', 'uae', 'uber', 'uchicago', 'ud', 'udhampur', 'udhampuragain', 'udom', 'ufn', 'ufo4ublogeurop', 'uganda', 'ugc', 'ugh', 'ugli', 'ugliest', 'uglypeopl', 'uh', 'uhc', 'uhhhhh', 'uhmmmm', 'uk', 'uke', 'ukflood', 'uknew', 'ukrain', 'ullman', 'ultim', 'ultima', 'ultimatum', 'ultra', 'uluru', 'um', 'umbrella', 'umm', 'umntu', 'un', 'unabl', 'unaddress', 'unarm', 'unauthor', 'unavoid', 'unawar', 'unbeliev', 'uncertain', 'uncertainti', 'uncl', 'uncomfort', 'uncommon', 'uncondit', 'unconfirm', 'unconsci', 'uncontrol', 'uncov', 'under', 'undercov', 'underestim', 'underground', 'undergroundbestsel', 'undermin', 'underpass', 'understand', 'understood', 'underwat', 'underway', 'underwood', 'underwrit', 'undeserv', 'undetect', 'undon', 'unend', 'unexercis', 'unexplain', 'unfair', 'unfil', 'unfml', 'unfold', 'unfollow', 'unfortun', 'unfortunemelodi', 'ungodli', 'unhappi', 'unharm', 'unheal', 'unhing', 'uniform', 'unimpress', 'uninvestig', 'union', 'uniqu', 'unit', 'uniteblu', 'uniti', 'univers', 'universityoflaw', 'univsfound', 'unkn', 'unknowingli', 'unknown', 'unless', 'unlicens', 'unload', 'unlock', 'unnecessari', 'unnewsteam', 'unpack', 'unplug', 'unpreced', 'unpredict', 'unprepar', 'unqualifi', 'unr', 'unreal', 'unrealtouch', 'unrecogn', 'unrel', 'unrest', 'unsaf', 'unsecur', 'unsens', 'unsign', 'unstabl', 'unstopp', 'unsuccess', 'unsuckdcmetro', 'unsur', 'unsurprisingli', 'untameddirewolf', 'untangl', 'until', 'unto', 'unu', 'unveil', 'unwant', 'unwarr', 'unwomen', 'up', 'upa', 'upcom', 'updat', 'upgrad', 'upheav', 'uphil', 'upi', 'uplift', 'upload', 'upon', 'upper', 'uproot', 'uprootin', 'upset', 'upstair', 'uptown', 'uptownjorg', 'upward', 'ur', 'uranium', 'urban', 'urbanfashion', 'urbanis', 'urg', 'urgent', 'urgentther', 'urib', 'uriminzok', 'urin', 'urogyn', 'urself', 'ursula', 'uruan', 'urufusanragu', 'us', 'us101', 'us70', 'usa', 'usag', 'usagi', 'usama', 'usami', 'usar15', 'usar2015', 'usarmi', 'usat', 'usatoday', 'usatodaynfl', 'usd', 'usdot', 'use', 'useless', 'user', 'usf', 'usg', 'ush', 'ushanka', 'ushiocom', 'usmnt', 'usual', 'usw', 'uswarcrim', 'ut', 'utahcanari', 'utahgrizz', 'utc', 'utd', 'utfir', 'utica', 'util', 'utopian', 'utp', 'utter', 'utterli', 'utv', 'uud', 'uv', 'uve', 'uvopwz', 'ux', 'v', 'v4', 'v6', 'v8', 'va', 'vabeng', 'vaca', 'vacanc', 'vacant', 'vacat', 'vacchiano', 'vaccin', 'vagersedolla', 'vaginaorcak', 'vai', 'vail', 'val', 'valdes1978', 'vale', 'valentin', 'vall', 'vallerand', 'valley', 'valleywx', 'valu', 'valuat', 'vampir', 'vampiro', 'van', 'vancouv', 'vancouverisland', 'vandal', 'vanderbilt', 'vanessa', 'vanilla', 'vanish', 'vannuyscouncil', 'vanpoli', 'vantag', 'vanuatu', 'vape', 'vaping101', 'varagesal', 'varieti', 'variou', 'vashon', 'vassalboro', 'vast', 'vault', 'vaxshil', 've', 'vector', 'veg', 'vega', 'vegan', 'veget', 'vegetarian', 'veggi', 'vehicl', 'veil', 'vein', 'vela', 'veld', 'veldfest', 'veneto', 'venezuela', 'venic', 'venom', 'vent', 'ventil', 'ventur', 'verd', 'verdict', 'verg', 'vergil', 'verhoek', 'veri', 'vermilion', 'vermont', 'vern', 'veronicadlcruz', 'vers', 'version', 'versu', 'vessel', 'vest', 'vestment', 'vet', 'veteran', 'vets78734', 'vgbootcamp', 'vi', 'via', 'viab', 'vibe', 'vibez', 'vibrat', 'vic', 'vice', 'vicin', 'vicken52', 'vicker', 'vickie627', 'vickybrush', 'victim', 'victimis', 'victori', 'victoria', 'victoriagittin', 'victorian', 'victorinox', 'vid', 'vida', 'video', 'videoclip', 'videogam', 'videoveranomtv', 'viennabutch', 'vietnam', 'vietnames', 'view', 'vigil', 'vike', 'vilelunar', 'villa', 'villag', 'villicanaalicia', 'vimeo', 'vimvith', 'vinc', 'vincent', 'vine', 'vinni', 'vintag', 'vinustrip', 'vinyl', 'violat', 'violenc', 'violent', 'violentfeminazi', 'violet', 'violin', 'vip', 'viper', 'vir', 'viral', 'virg', 'virgil', 'virgin', 'virtual', 'viru', 'visag', 'viscou', 'visibl', 'vision', 'visionzero', 'visit', 'vist', 'visto', 'vita', 'vital', 'vitali', 'vitalvega', 'vitess', 'vivaargentina', 'vivian', 'viviangiang', 'vivianunhcr', 'vivid', 'vixmeldrew', 'vixstuart', 'vj44', 'vladimir', 'vma', 'voc', 'vocal', 'vocalist', 'vod', 'vodka', 'voic', 'void', 'vol', 'volcan', 'volcano', 'volcanodiscov', 'volcanotornado', 'volfan326', 'volga', 'volgagrad', 'volleybal', 'voltaic', 'voltair', 'volunt', 'voluntari', 'vonderhaar', 'voodoo', 'voodooben', 'voortrekk', 'vortex', 'voslooru', 'vote', 'votejkt48id', 'voter', 'vp', 'vra50', 'vroman', 'vs', 'vtc', 'vuitton', 'vulcan', 'vuln', 'vulner', 'vulnera', 'vuzuhustl', 'vvorm', 'vzwsupport', 'vìdeo', 'w', 'wa', 'wacko', 'wafer', 'wage', 'wahhab', 'wahpeton', 'waimat', 'waimea', 'waist', 'wait', 'waiver', 'wake', 'wakeupflorida', 'wakho', 'waldo', 'wale', 'walerga', 'walk', 'walker', 'walkthrough', 'wall', 'wallybait', 'walmart', 'waltdisney', 'walter', 'wander', 'wank', 'wanna', 'wannab', 'want', 'wantmyabsback', 'war', 'warcraft', 'ward', 'warden', 'warfar', 'warfight', 'warlordqueen', 'warm', 'warmbodi', 'warmth', 'warn', 'warnerrobin', 'warp', 'warra', 'warrant', 'warrior', 'warriorcord', 'warsgoddess', 'warship', 'wart', 'warthen', 'wartim', 'waseembadami', 'wash', 'washabl', 'washard', 'washington', 'washingtonpost', 'wasilla', 'wasnt', 'wasp', 'wast', 'wasteland', 'watch', 'watchin', 'watchout', 'watchthevideo', 'water', 'waterboard', 'waterfur', 'watermeloann', 'watermelon', 'waterproof', 'watersafeti', 'watertown', 'waterway', 'wattashit3', 'wattl', 'wattpad', 'wattys2015', 'wave', 'way', 'wayn', 'waynesteratl', 'wayward', 'waziristan', 'wb', 'wbc2015', 'wbcshirl2', 'wbre', 'wbu', 'wc', 'wccorosen', 'wce', 'wctv', 'wcvb', 'wcw', 'wd', 'wdtv', 'wdym', 'wdyouth', 'we', 'weak', 'weaken', 'wealilknowa', 'wealth', 'wealthi', 'weapon', 'weaponxmus', 'wear', 'wearethenew', 'weather', 'weatherit', 'web', 'webb', 'webinar', 'websit', 'wed', 'weddinghour', 'wedgi', 'wedn', 'wedneday', 'wednesday', 'wee', 'weebli', 'weed', 'weei', 'week', 'weekend', 'weeklong', 'weep', 'weigh', 'weight', 'weightless', 'weiqin', 'weird', 'weirdo', 'welcom', 'welfar', 'well', 'welles7', 'welovela', 'weloverobdyrdek', 'weloveyouloui', 'welshninja87', 'wen', 'wendel', 'wenger', 'went', 'were', 'werent', 'wesley', 'wesleyloweri', 'west', 'westchest', 'western', 'westerncanadadrought', 'westero', 'westmarch', 'westminist', 'weston', 'westward', 'wet', 'weve', 'wew', 'wexler', 'weyburn', 'weymouth', 'weyreygidi', 'wfaaweath', 'wfp', 'wftv', 'wha', 'whack', 'whag', 'whale', 'whao', 'what', 'whatcanthedo', 'whatev', 'whatsapp', 'wheat', 'wheatley', 'whedonesqu', 'wheel', 'wheeler', 'whelen', 'when', 'whenev', 'whensoev', 'where', 'wherea', 'whether', 'whi', 'which', 'while', 'whimsi', 'whine', 'whip', 'whipe', 'whippenz', 'whirlwind', 'whiskey', 'whistl', 'whistleblow', 'whitbourn', 'white', 'whitehous', 'whitewalk', 'whitewash', 'whitt', 'who', 'whoa', 'whocar', 'whoever', 'whole', 'wholesal', 'wholeteam3', 'whomev', 'whoop', 'whopperjr760', 'whose', 'wht', 'whvholst', 'whyor', 'wi', 'wick', 'wickett', 'widda16', 'wide', 'wider', 'widespread', 'widout', 'width', 'wiedem', 'wield', 'wife', 'wifi', 'wii', 'wikipedia', 'wild', 'wilden', 'wildfir', 'wildlif', 'wildlionx3', 'wildwestsixgun', 'will', 'willhillbet', 'willi', 'william', 'willian', 'willieami', 'willienelson', 'willingheart', 'willow', 'wilsher', 'wilson', 'wimbledon', 'wimp', 'win', 'wind', 'windi', 'window', 'windowgatribbl', 'windows10', 'windowsil', 'windsor', 'windstorm', 'windwak', 'wine', 'winechat', 'wineisdumb', 'wing', 'winger', 'winik', 'winner', 'winnipeg', 'winston', 'winter', 'wipe', 'wipp', 'wire', 'wireless', 'wisconsin', 'wisdc', 'wisdom', 'wisdomw', 'wise', 'wish', 'wishlist', 'wit', 'witch', 'with', 'withannihil', 'withanoth', 'withderail', 'withdraw', 'wither', 'withfri', 'withhashtag', 'withher', 'within', 'withlandslid', 'withmiddl', 'withnuk', 'witho', 'without', 'withron', 'withsoar', 'withstand', 'withthat', 'withtoni', 'withtwitt', 'withugli', 'withunscreen', 'witter', 'wiwnpfxa', 'wizard', 'wizkidayo', 'wk', 'wknd', 'wkrn', 'wld', 'wmata', 'wmur', 'wmv', 'wn', 'wnd', 'wniagospel', 'wnw', 'wo', 'woah', 'wocowa', 'wod', 'woe', 'wogc', 'woke', 'woken', 'wolf', 'wolforth', 'wolter', 'wolv', 'wom', 'woman', 'womb', 'womem', 'women', 'womengirl', 'wompppp', 'wonder', 'wonderkid', 'wonderousallur', 'wont', 'woo', 'wood', 'woodchuck', 'wooden', 'woodland', 'woodlawn', 'woodward', 'wooooooo', 'word', 'wordk', 'wordpress', 'work', 'workd', 'worker', 'workforc', 'workout', 'workplac', 'workspac', 'world', 'worldnetdaili', 'worldnew', 'worldpay', 'worldvis', 'worldwatchesferguson', 'worldwid', 'worm', 'worn', 'worri', 'wors', 'worseit', 'worsen', 'worship', 'worst', 'worstoverdos', 'worstsummerjob', 'worth', 'worthless', 'would', 'wouldnt', 'wound', 'woundedpigeon', 'wow', 'wowo', 'wowsavannah', 'wp', 'wpd', 'wpo', 'wpri', 'wpt', 'wqow', 'wr', 'wraith', 'wrap', 'wrapup', 'wreak', 'wreck', 'wreckag', 'wrestleon', 'wrestler', 'wright', 'wrightsboro', 'wrinkl', 'wrist', 'wristband', 'write', 'writebothfist', 'writer', 'writes4coffe', 'writingtip', 'written', 'wrked', 'wrong', 'wrongdejavu', 'wrongperson', 'wrote', 'wroug', 'wrought', 'wsazbrittani', 'wsj', 'wsjthinktank', 'wsl', 'wsoc', 'wsvr1686b', 'wtc', 'wtf', 'wth', 'wud', 'wut', 'ww', 'ww1', 'ww2', 'ww3', 'wwa', 'wwe', 'wwexdream', 'wwi', 'wwii', 'wwp', 'www', 'wwwbigbaldhead', 'wx', 'wxia', 'wxii', 'wxki', 'wy', 'wyattb23', 'wyou', 'wyrmwood', 'wzbt', 'x', 'x1386', 'x1392', 'x1402', 'x1411', 'x1434', 'x1441', 'x2', 'x36', 'xavier', 'xaviermarqui', 'xb1', 'xbox', 'xboxon', 'xd', 'xdescri', 'xdojjjj', 'xekstrin', 'xela', 'xeni', 'xgninfin', 'xhnew', 'xii', 'xkdrx', 'xl', 'xl61', 'xo', 'xojademarie124', 'xoxo', 'xp', 'xtra1360', 'xv', 'xvii', 'xxhjesc', 'xxx', 'xylodemon', 'y', 'ya', 'yaboiluk', 'yagitudeh', 'yahistor', 'yahoo', 'yahoo7', 'yahoocar', 'yahoofin', 'yahoonew', 'yahooschwab', 'yahootv', 'yakub', 'yall', 'yamaguchi', 'yamashiro', 'yanke', 'yard', 'yay', 'yazidi', 'yazidishingalgenocid', 'ybtheprophet', 'yday', 'ye', 'yea', 'yeaahh', 'yeah', 'year', 'yeat', 'yeda', 'yee', 'yehuda', 'yell', 'yelllowheath', 'yellow', 'yellowston', 'yelp', 'yemen', 'yemeni', 'yennora', 'yep', 'yeshayad', 'yessum', 'yesterday', 'yet', 'yeyeulala', 'yh', 'yhngsjlg', 'yiayplan', 'yield', 'yike', 'yiraneuni', 'ykelquiban', 'ymcglaun', 'yo', 'yobe', 'yoeni', 'yoga', 'yogurt', 'yolandaph', 'yolk', 'yonew', 'yor', 'york', 'yorker', 'yorkshir', 'yosemit', 'you', 'youd', 'yougov', 'youll', 'young', 'younger', 'youngheroesid', 'youngin', 'youngsaf', 'your', 'your4stat', 'yourboyshawn', 'yourself', 'youssefyamani', 'youth', 'youtu', 'youtub', 'youuu', 'ypg', 'ypre', 'yr', 'yuan', 'yug', 'yugvani', 'yuki', 'yum', 'yumiko', 'yunita99', 'yup', 'yuppi', 'yuuko', 'yuvi', 'yyc', 'yycfring', 'yycwalk', 'yyeso', 'yyj', 'yzf', 'z', 'z10', 'z3kesk1', 'zaatari', 'zabadani', 'zacb', 'zach', 'zachlowenba', 'zachzaidman', 'zaibatsunew', 'zaire2005', 'zakbagan', 'zakuun', 'zaman', 'zamtriossu', 'zar', 'zarharzar', 'zarri', 'zayn', 'zaynmaiikist', 'zaynmalik', 'zeal', 'zehr', 'zenandemcfen', 'zenit', 'zeno001', 'zepp1978', 'zergel', 'zero', 'zhejiang', 'zhenghxn', 'zicac', 'zimbabw', 'zimmer', 'zimmerman', 'zimpapersview', 'zionism', 'zionist', 'zip', 'ziphimup', 'zipper', 'zippolin', 'ziuw', 'zmne', 'zodiac', 'zojadelin', 'zomatoau', 'zombi', 'zombiefunrun2014', 'zone', 'zonewolf123', 'zoom', 'zotar', 'zouma', 'zourryart', 'zrnf', 'zss', 'zumiez', 'zurich', 'zxatheti', 'zzzz', 'ââ', 'ã', 'å', 'ì', 'ìñ', 'ìñ1', 'ìü']\n"
          ]
        },
        {
          "name": "stderr",
          "output_type": "stream",
          "text": [
            "C:\\Users\\madhu\\anaconda3\\lib\\site-packages\\sklearn\\utils\\deprecation.py:87: FutureWarning: Function get_feature_names is deprecated; get_feature_names is deprecated in 1.0 and will be removed in 1.2. Please use get_feature_names_out instead.\n",
            "  warnings.warn(msg, category=FutureWarning)\n"
          ]
        }
      ],
      "source": [
        "print(cv1.get_feature_names())"
      ]
    },
    {
      "cell_type": "code",
      "execution_count": null,
      "id": "7ba537ca",
      "metadata": {
        "id": "7ba537ca",
        "outputId": "49c15fee-8367-4217-cfc6-a5c76ecf5431"
      },
      "outputs": [
        {
          "name": "stdout",
          "output_type": "stream",
          "text": [
            "(10, 75)\n"
          ]
        }
      ],
      "source": [
        "data_sample = data[0:10]\n",
        "data_sample\n",
        "cv2 = CountVectorizer(analyzer = clean_text)\n",
        "\n",
        "X2 = cv2.fit_transform(data_sample['text'])\n",
        "print(X2.shape)"
      ]
    },
    {
      "cell_type": "code",
      "execution_count": null,
      "id": "d41ab3f4",
      "metadata": {
        "id": "d41ab3f4",
        "outputId": "6e15e08e-e6eb-4be7-e7c0-e621823b741c"
      },
      "outputs": [
        {
          "data": {
            "text/html": [
              "<div>\n",
              "<style scoped>\n",
              "    .dataframe tbody tr th:only-of-type {\n",
              "        vertical-align: middle;\n",
              "    }\n",
              "\n",
              "    .dataframe tbody tr th {\n",
              "        vertical-align: top;\n",
              "    }\n",
              "\n",
              "    .dataframe thead th {\n",
              "        text-align: right;\n",
              "    }\n",
              "</style>\n",
              "<table border=\"1\" class=\"dataframe\">\n",
              "  <thead>\n",
              "    <tr style=\"text-align: right;\">\n",
              "      <th></th>\n",
              "      <th></th>\n",
              "      <th>13000</th>\n",
              "      <th>20</th>\n",
              "      <th>across</th>\n",
              "      <th>afraid</th>\n",
              "      <th>alaska</th>\n",
              "      <th>all</th>\n",
              "      <th>allah</th>\n",
              "      <th>area</th>\n",
              "      <th>ask</th>\n",
              "      <th>...</th>\n",
              "      <th>smoke</th>\n",
              "      <th>spring</th>\n",
              "      <th>street</th>\n",
              "      <th>there</th>\n",
              "      <th>top</th>\n",
              "      <th>tornado</th>\n",
              "      <th>updat</th>\n",
              "      <th>us</th>\n",
              "      <th>wildfir</th>\n",
              "      <th>wood</th>\n",
              "    </tr>\n",
              "  </thead>\n",
              "  <tbody>\n",
              "    <tr>\n",
              "      <th>0</th>\n",
              "      <td>0</td>\n",
              "      <td>0</td>\n",
              "      <td>0</td>\n",
              "      <td>0</td>\n",
              "      <td>0</td>\n",
              "      <td>0</td>\n",
              "      <td>0</td>\n",
              "      <td>1</td>\n",
              "      <td>0</td>\n",
              "      <td>0</td>\n",
              "      <td>...</td>\n",
              "      <td>0</td>\n",
              "      <td>0</td>\n",
              "      <td>0</td>\n",
              "      <td>0</td>\n",
              "      <td>0</td>\n",
              "      <td>0</td>\n",
              "      <td>0</td>\n",
              "      <td>1</td>\n",
              "      <td>0</td>\n",
              "      <td>0</td>\n",
              "    </tr>\n",
              "    <tr>\n",
              "      <th>1</th>\n",
              "      <td>0</td>\n",
              "      <td>0</td>\n",
              "      <td>0</td>\n",
              "      <td>0</td>\n",
              "      <td>0</td>\n",
              "      <td>0</td>\n",
              "      <td>0</td>\n",
              "      <td>0</td>\n",
              "      <td>0</td>\n",
              "      <td>0</td>\n",
              "      <td>...</td>\n",
              "      <td>0</td>\n",
              "      <td>0</td>\n",
              "      <td>0</td>\n",
              "      <td>0</td>\n",
              "      <td>0</td>\n",
              "      <td>0</td>\n",
              "      <td>0</td>\n",
              "      <td>0</td>\n",
              "      <td>0</td>\n",
              "      <td>0</td>\n",
              "    </tr>\n",
              "    <tr>\n",
              "      <th>2</th>\n",
              "      <td>0</td>\n",
              "      <td>0</td>\n",
              "      <td>0</td>\n",
              "      <td>0</td>\n",
              "      <td>0</td>\n",
              "      <td>0</td>\n",
              "      <td>1</td>\n",
              "      <td>0</td>\n",
              "      <td>0</td>\n",
              "      <td>1</td>\n",
              "      <td>...</td>\n",
              "      <td>0</td>\n",
              "      <td>0</td>\n",
              "      <td>0</td>\n",
              "      <td>0</td>\n",
              "      <td>0</td>\n",
              "      <td>0</td>\n",
              "      <td>0</td>\n",
              "      <td>0</td>\n",
              "      <td>0</td>\n",
              "      <td>0</td>\n",
              "    </tr>\n",
              "    <tr>\n",
              "      <th>3</th>\n",
              "      <td>1</td>\n",
              "      <td>1</td>\n",
              "      <td>0</td>\n",
              "      <td>0</td>\n",
              "      <td>0</td>\n",
              "      <td>0</td>\n",
              "      <td>0</td>\n",
              "      <td>0</td>\n",
              "      <td>0</td>\n",
              "      <td>0</td>\n",
              "      <td>...</td>\n",
              "      <td>0</td>\n",
              "      <td>0</td>\n",
              "      <td>0</td>\n",
              "      <td>0</td>\n",
              "      <td>0</td>\n",
              "      <td>0</td>\n",
              "      <td>0</td>\n",
              "      <td>0</td>\n",
              "      <td>1</td>\n",
              "      <td>0</td>\n",
              "    </tr>\n",
              "    <tr>\n",
              "      <th>4</th>\n",
              "      <td>1</td>\n",
              "      <td>0</td>\n",
              "      <td>0</td>\n",
              "      <td>0</td>\n",
              "      <td>0</td>\n",
              "      <td>1</td>\n",
              "      <td>0</td>\n",
              "      <td>0</td>\n",
              "      <td>0</td>\n",
              "      <td>0</td>\n",
              "      <td>...</td>\n",
              "      <td>1</td>\n",
              "      <td>0</td>\n",
              "      <td>0</td>\n",
              "      <td>0</td>\n",
              "      <td>0</td>\n",
              "      <td>0</td>\n",
              "      <td>0</td>\n",
              "      <td>0</td>\n",
              "      <td>1</td>\n",
              "      <td>0</td>\n",
              "    </tr>\n",
              "  </tbody>\n",
              "</table>\n",
              "<p>5 rows × 75 columns</p>\n",
              "</div>"
            ],
            "text/plain": [
              "      13000  20  across  afraid  alaska  all  allah  area  ask  ...  smoke  \\\n",
              "0  0      0   0       0       0       0    0      1     0    0  ...      0   \n",
              "1  0      0   0       0       0       0    0      0     0    0  ...      0   \n",
              "2  0      0   0       0       0       0    1      0     0    1  ...      0   \n",
              "3  1      1   0       0       0       0    0      0     0    0  ...      0   \n",
              "4  1      0   0       0       0       1    0      0     0    0  ...      1   \n",
              "\n",
              "   spring  street  there  top  tornado  updat  us  wildfir  wood  \n",
              "0       0       0      0    0        0      0   1        0     0  \n",
              "1       0       0      0    0        0      0   0        0     0  \n",
              "2       0       0      0    0        0      0   0        0     0  \n",
              "3       0       0      0    0        0      0   0        1     0  \n",
              "4       0       0      0    0        0      0   0        1     0  \n",
              "\n",
              "[5 rows x 75 columns]"
            ]
          },
          "execution_count": 27,
          "metadata": {},
          "output_type": "execute_result"
        }
      ],
      "source": [
        "df = pd.DataFrame(X2.toarray(),columns = cv2.get_feature_names())\n",
        "df.head()"
      ]
    },
    {
      "cell_type": "code",
      "execution_count": null,
      "id": "64606955",
      "metadata": {
        "id": "64606955"
      },
      "outputs": [],
      "source": [
        "# count vectorizer done on dataset"
      ]
    },
    {
      "cell_type": "markdown",
      "id": "1e27d00b",
      "metadata": {
        "id": "1e27d00b"
      },
      "source": [
        "# TF - IDF vectorizer"
      ]
    },
    {
      "cell_type": "code",
      "execution_count": null,
      "id": "731d332f",
      "metadata": {
        "id": "731d332f"
      },
      "outputs": [],
      "source": [
        "from sklearn.feature_extraction.text import TfidfVectorizer"
      ]
    },
    {
      "cell_type": "code",
      "execution_count": null,
      "id": "9c1bb2b2",
      "metadata": {
        "id": "9c1bb2b2"
      },
      "outputs": [],
      "source": [
        "tfidf = TfidfVectorizer()"
      ]
    },
    {
      "cell_type": "code",
      "execution_count": null,
      "id": "6e36b291",
      "metadata": {
        "id": "6e36b291",
        "outputId": "ffe0af1c-5036-46c1-a259-f19b6dd701e5"
      },
      "outputs": [
        {
          "name": "stdout",
          "output_type": "stream",
          "text": [
            "TfidfVectorizer()\n",
            "{'this': 11, 'is': 4, 'sentence': 8, 'about': 0, 'text': 10, 'mining': 5, 'in': 2, 'data': 1, 'science': 7, 'which': 13, 'trending': 12, 'information': 3, 'retrievel': 6, 'systems': 9}\n",
            "['about', 'data', 'in', 'information', 'is', 'mining', 'retrievel', 'science', 'sentence', 'systems', 'text', 'this', 'trending', 'which']\n",
            "(2, 14)\n",
            "[[0.35327777 0.35327777 0.25136004 0.         0.25136004 0.35327777\n",
            "  0.         0.35327777 0.35327777 0.         0.35327777 0.35327777\n",
            "  0.         0.        ]\n",
            " [0.         0.         0.29017021 0.4078241  0.29017021 0.\n",
            "  0.4078241  0.         0.         0.4078241  0.         0.\n",
            "  0.4078241  0.4078241 ]]\n"
          ]
        },
        {
          "name": "stderr",
          "output_type": "stream",
          "text": [
            "C:\\Users\\madhu\\anaconda3\\lib\\site-packages\\sklearn\\utils\\deprecation.py:87: FutureWarning: Function get_feature_names is deprecated; get_feature_names is deprecated in 1.0 and will be removed in 1.2. Please use get_feature_names_out instead.\n",
            "  warnings.warn(msg, category=FutureWarning)\n"
          ]
        },
        {
          "data": {
            "text/html": [
              "<div>\n",
              "<style scoped>\n",
              "    .dataframe tbody tr th:only-of-type {\n",
              "        vertical-align: middle;\n",
              "    }\n",
              "\n",
              "    .dataframe tbody tr th {\n",
              "        vertical-align: top;\n",
              "    }\n",
              "\n",
              "    .dataframe thead th {\n",
              "        text-align: right;\n",
              "    }\n",
              "</style>\n",
              "<table border=\"1\" class=\"dataframe\">\n",
              "  <thead>\n",
              "    <tr style=\"text-align: right;\">\n",
              "      <th></th>\n",
              "      <th>about</th>\n",
              "      <th>data</th>\n",
              "      <th>in</th>\n",
              "      <th>information</th>\n",
              "      <th>is</th>\n",
              "      <th>mining</th>\n",
              "      <th>retrievel</th>\n",
              "      <th>science</th>\n",
              "      <th>sentence</th>\n",
              "      <th>systems</th>\n",
              "      <th>text</th>\n",
              "      <th>this</th>\n",
              "      <th>trending</th>\n",
              "      <th>which</th>\n",
              "    </tr>\n",
              "  </thead>\n",
              "  <tbody>\n",
              "    <tr>\n",
              "      <th>0</th>\n",
              "      <td>0.353278</td>\n",
              "      <td>0.353278</td>\n",
              "      <td>0.25136</td>\n",
              "      <td>0.000000</td>\n",
              "      <td>0.25136</td>\n",
              "      <td>0.353278</td>\n",
              "      <td>0.000000</td>\n",
              "      <td>0.353278</td>\n",
              "      <td>0.353278</td>\n",
              "      <td>0.000000</td>\n",
              "      <td>0.353278</td>\n",
              "      <td>0.353278</td>\n",
              "      <td>0.000000</td>\n",
              "      <td>0.000000</td>\n",
              "    </tr>\n",
              "    <tr>\n",
              "      <th>1</th>\n",
              "      <td>0.000000</td>\n",
              "      <td>0.000000</td>\n",
              "      <td>0.29017</td>\n",
              "      <td>0.407824</td>\n",
              "      <td>0.29017</td>\n",
              "      <td>0.000000</td>\n",
              "      <td>0.407824</td>\n",
              "      <td>0.000000</td>\n",
              "      <td>0.000000</td>\n",
              "      <td>0.407824</td>\n",
              "      <td>0.000000</td>\n",
              "      <td>0.000000</td>\n",
              "      <td>0.407824</td>\n",
              "      <td>0.407824</td>\n",
              "    </tr>\n",
              "  </tbody>\n",
              "</table>\n",
              "</div>"
            ],
            "text/plain": [
              "      about      data       in  information       is    mining  retrievel  \\\n",
              "0  0.353278  0.353278  0.25136     0.000000  0.25136  0.353278   0.000000   \n",
              "1  0.000000  0.000000  0.29017     0.407824  0.29017  0.000000   0.407824   \n",
              "\n",
              "    science  sentence   systems      text      this  trending     which  \n",
              "0  0.353278  0.353278  0.000000  0.353278  0.353278  0.000000  0.000000  \n",
              "1  0.000000  0.000000  0.407824  0.000000  0.000000  0.407824  0.407824  "
            ]
          },
          "execution_count": 31,
          "metadata": {},
          "output_type": "execute_result"
        }
      ],
      "source": [
        "corpus = ['This is a sentence about text mining in Data Science',\n",
        "          'which is trending in information retrievel systems']\n",
        "\n",
        "X3 = tfidf.fit(corpus)\n",
        "print(X3)\n",
        "print(X3.vocabulary_)\n",
        "print(tfidf.get_feature_names())\n",
        "\n",
        "X3= tfidf.transform(corpus)\n",
        "print(X3.shape)\n",
        "print(X3.toarray())\n",
        "\n",
        "df3 = pd.DataFrame(X3.toarray(),columns = tfidf.get_feature_names())\n",
        "df3.head()\n"
      ]
    },
    {
      "cell_type": "markdown",
      "id": "01c32773",
      "metadata": {
        "id": "01c32773"
      },
      "source": [
        "# TF-IDF on dataset"
      ]
    },
    {
      "cell_type": "code",
      "execution_count": null,
      "id": "f1efd9bf",
      "metadata": {
        "id": "f1efd9bf"
      },
      "outputs": [],
      "source": []
    },
    {
      "cell_type": "code",
      "execution_count": null,
      "id": "0094333b",
      "metadata": {
        "id": "0094333b",
        "outputId": "1b68adc5-7959-47a9-d80d-f6c7c8e96ff9"
      },
      "outputs": [
        {
          "name": "stdout",
          "output_type": "stream",
          "text": [
            "(10, 75)\n"
          ]
        }
      ],
      "source": [
        "data_sample = data[0:10]\n",
        "data_sample\n",
        "tfidf2 = CountVectorizer(analyzer = clean_text)\n",
        "\n",
        "X4 = tfidf2.fit_transform(data_sample['text'])\n",
        "print(X4.shape)"
      ]
    },
    {
      "cell_type": "code",
      "execution_count": null,
      "id": "745aac6e",
      "metadata": {
        "id": "745aac6e",
        "outputId": "18a32f2d-c55f-484a-bd2d-d021b3d1cd5a"
      },
      "outputs": [
        {
          "name": "stderr",
          "output_type": "stream",
          "text": [
            "C:\\Users\\madhu\\anaconda3\\lib\\site-packages\\sklearn\\utils\\deprecation.py:87: FutureWarning: Function get_feature_names is deprecated; get_feature_names is deprecated in 1.0 and will be removed in 1.2. Please use get_feature_names_out instead.\n",
            "  warnings.warn(msg, category=FutureWarning)\n"
          ]
        },
        {
          "data": {
            "text/html": [
              "<div>\n",
              "<style scoped>\n",
              "    .dataframe tbody tr th:only-of-type {\n",
              "        vertical-align: middle;\n",
              "    }\n",
              "\n",
              "    .dataframe tbody tr th {\n",
              "        vertical-align: top;\n",
              "    }\n",
              "\n",
              "    .dataframe thead th {\n",
              "        text-align: right;\n",
              "    }\n",
              "</style>\n",
              "<table border=\"1\" class=\"dataframe\">\n",
              "  <thead>\n",
              "    <tr style=\"text-align: right;\">\n",
              "      <th></th>\n",
              "      <th></th>\n",
              "      <th>13000</th>\n",
              "      <th>20</th>\n",
              "      <th>across</th>\n",
              "      <th>afraid</th>\n",
              "      <th>alaska</th>\n",
              "      <th>all</th>\n",
              "      <th>allah</th>\n",
              "      <th>area</th>\n",
              "      <th>ask</th>\n",
              "      <th>...</th>\n",
              "      <th>smoke</th>\n",
              "      <th>spring</th>\n",
              "      <th>street</th>\n",
              "      <th>there</th>\n",
              "      <th>top</th>\n",
              "      <th>tornado</th>\n",
              "      <th>updat</th>\n",
              "      <th>us</th>\n",
              "      <th>wildfir</th>\n",
              "      <th>wood</th>\n",
              "    </tr>\n",
              "  </thead>\n",
              "  <tbody>\n",
              "    <tr>\n",
              "      <th>0</th>\n",
              "      <td>0</td>\n",
              "      <td>0</td>\n",
              "      <td>0</td>\n",
              "      <td>0</td>\n",
              "      <td>0</td>\n",
              "      <td>0</td>\n",
              "      <td>0</td>\n",
              "      <td>1</td>\n",
              "      <td>0</td>\n",
              "      <td>0</td>\n",
              "      <td>...</td>\n",
              "      <td>0</td>\n",
              "      <td>0</td>\n",
              "      <td>0</td>\n",
              "      <td>0</td>\n",
              "      <td>0</td>\n",
              "      <td>0</td>\n",
              "      <td>0</td>\n",
              "      <td>1</td>\n",
              "      <td>0</td>\n",
              "      <td>0</td>\n",
              "    </tr>\n",
              "    <tr>\n",
              "      <th>1</th>\n",
              "      <td>0</td>\n",
              "      <td>0</td>\n",
              "      <td>0</td>\n",
              "      <td>0</td>\n",
              "      <td>0</td>\n",
              "      <td>0</td>\n",
              "      <td>0</td>\n",
              "      <td>0</td>\n",
              "      <td>0</td>\n",
              "      <td>0</td>\n",
              "      <td>...</td>\n",
              "      <td>0</td>\n",
              "      <td>0</td>\n",
              "      <td>0</td>\n",
              "      <td>0</td>\n",
              "      <td>0</td>\n",
              "      <td>0</td>\n",
              "      <td>0</td>\n",
              "      <td>0</td>\n",
              "      <td>0</td>\n",
              "      <td>0</td>\n",
              "    </tr>\n",
              "    <tr>\n",
              "      <th>2</th>\n",
              "      <td>0</td>\n",
              "      <td>0</td>\n",
              "      <td>0</td>\n",
              "      <td>0</td>\n",
              "      <td>0</td>\n",
              "      <td>0</td>\n",
              "      <td>1</td>\n",
              "      <td>0</td>\n",
              "      <td>0</td>\n",
              "      <td>1</td>\n",
              "      <td>...</td>\n",
              "      <td>0</td>\n",
              "      <td>0</td>\n",
              "      <td>0</td>\n",
              "      <td>0</td>\n",
              "      <td>0</td>\n",
              "      <td>0</td>\n",
              "      <td>0</td>\n",
              "      <td>0</td>\n",
              "      <td>0</td>\n",
              "      <td>0</td>\n",
              "    </tr>\n",
              "    <tr>\n",
              "      <th>3</th>\n",
              "      <td>1</td>\n",
              "      <td>1</td>\n",
              "      <td>0</td>\n",
              "      <td>0</td>\n",
              "      <td>0</td>\n",
              "      <td>0</td>\n",
              "      <td>0</td>\n",
              "      <td>0</td>\n",
              "      <td>0</td>\n",
              "      <td>0</td>\n",
              "      <td>...</td>\n",
              "      <td>0</td>\n",
              "      <td>0</td>\n",
              "      <td>0</td>\n",
              "      <td>0</td>\n",
              "      <td>0</td>\n",
              "      <td>0</td>\n",
              "      <td>0</td>\n",
              "      <td>0</td>\n",
              "      <td>1</td>\n",
              "      <td>0</td>\n",
              "    </tr>\n",
              "    <tr>\n",
              "      <th>4</th>\n",
              "      <td>1</td>\n",
              "      <td>0</td>\n",
              "      <td>0</td>\n",
              "      <td>0</td>\n",
              "      <td>0</td>\n",
              "      <td>1</td>\n",
              "      <td>0</td>\n",
              "      <td>0</td>\n",
              "      <td>0</td>\n",
              "      <td>0</td>\n",
              "      <td>...</td>\n",
              "      <td>1</td>\n",
              "      <td>0</td>\n",
              "      <td>0</td>\n",
              "      <td>0</td>\n",
              "      <td>0</td>\n",
              "      <td>0</td>\n",
              "      <td>0</td>\n",
              "      <td>0</td>\n",
              "      <td>1</td>\n",
              "      <td>0</td>\n",
              "    </tr>\n",
              "  </tbody>\n",
              "</table>\n",
              "<p>5 rows × 75 columns</p>\n",
              "</div>"
            ],
            "text/plain": [
              "      13000  20  across  afraid  alaska  all  allah  area  ask  ...  smoke  \\\n",
              "0  0      0   0       0       0       0    0      1     0    0  ...      0   \n",
              "1  0      0   0       0       0       0    0      0     0    0  ...      0   \n",
              "2  0      0   0       0       0       0    1      0     0    1  ...      0   \n",
              "3  1      1   0       0       0       0    0      0     0    0  ...      0   \n",
              "4  1      0   0       0       0       1    0      0     0    0  ...      1   \n",
              "\n",
              "   spring  street  there  top  tornado  updat  us  wildfir  wood  \n",
              "0       0       0      0    0        0      0   1        0     0  \n",
              "1       0       0      0    0        0      0   0        0     0  \n",
              "2       0       0      0    0        0      0   0        0     0  \n",
              "3       0       0      0    0        0      0   0        1     0  \n",
              "4       0       0      0    0        0      0   0        1     0  \n",
              "\n",
              "[5 rows x 75 columns]"
            ]
          },
          "execution_count": 33,
          "metadata": {},
          "output_type": "execute_result"
        }
      ],
      "source": [
        "df4 = pd.DataFrame(X4.toarray(),columns = tfidf2.get_feature_names())\n",
        "df4.head()"
      ]
    },
    {
      "cell_type": "code",
      "execution_count": null,
      "id": "4a9bce84",
      "metadata": {
        "id": "4a9bce84"
      },
      "outputs": [],
      "source": [
        "#Trend of the flight per day\n",
        "import seaborn as sns\n",
        "# sns.barplot(x= 'tornado',data=df4, palette='plasma').set(title='barplot for a word')"
      ]
    },
    {
      "cell_type": "code",
      "execution_count": null,
      "id": "c2586668",
      "metadata": {
        "id": "c2586668"
      },
      "outputs": [],
      "source": [
        "# import matplotlib"
      ]
    },
    {
      "cell_type": "code",
      "execution_count": null,
      "id": "e66b4cb6",
      "metadata": {
        "id": "e66b4cb6",
        "outputId": "af162b1a-b0e8-44ee-ae3b-9ded80a82ba2"
      },
      "outputs": [
        {
          "data": {
            "text/plain": [
              "<AxesSubplot:xlabel='tornado', ylabel='count'>"
            ]
          },
          "execution_count": 36,
          "metadata": {},
          "output_type": "execute_result"
        },
        {
          "data": {
            "image/png": "[encoded data removed]",
            "text/plain": [
              "<Figure size 432x288 with 1 Axes>"
            ]
          },
          "metadata": {
            "needs_background": "light"
          },
          "output_type": "display_data"
        }
      ],
      "source": [
        "sns.countplot(x = 'tornado',data = df4)"
      ]
    },
    {
      "cell_type": "code",
      "execution_count": null,
      "id": "9409fa01",
      "metadata": {
        "id": "9409fa01",
        "outputId": "2960aa97-8a00-44ee-9892-51795d726bfe"
      },
      "outputs": [
        {
          "data": {
            "text/plain": [
              "<AxesSubplot:ylabel='count'>"
            ]
          },
          "execution_count": 37,
          "metadata": {},
          "output_type": "execute_result"
        },
        {
          "data": {
            "image/png": "[encoded data removed]",
            "text/plain": [
              "<Figure size 432x288 with 1 Axes>"
            ]
          },
          "metadata": {
            "needs_background": "light"
          },
          "output_type": "display_data"
        }
      ],
      "source": [
        "sns.countplot(data =df4)"
      ]
    },
    {
      "cell_type": "code",
      "execution_count": null,
      "id": "581fa011",
      "metadata": {
        "id": "581fa011"
      },
      "outputs": [],
      "source": [
        "from sklearn.metrics.pairwise import linear_kernel\n",
        "cosine_similarities = linear_kernel(X4, X4)"
      ]
    },
    {
      "cell_type": "code",
      "execution_count": null,
      "id": "8d603d48",
      "metadata": {
        "id": "8d603d48"
      },
      "outputs": [],
      "source": []
    }
  ],
  "metadata": {
    "kernelspec": {
      "display_name": "Python 3 (ipykernel)",
      "language": "python",
      "name": "python3"
    },
    "language_info": {
      "codemirror_mode": {
        "name": "ipython",
        "version": 3
      },
      "file_extension": ".py",
      "mimetype": "text/x-python",
      "name": "python",
      "nbconvert_exporter": "python",
      "pygments_lexer": "ipython3",
      "version": "3.9.12"
    },
    "colab": {
      "provenance": [],
      "include_colab_link": true
    }
  },
  "nbformat": 4,
  "nbformat_minor": 5
}